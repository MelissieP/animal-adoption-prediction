{
 "cells": [
  {
   "cell_type": "code",
   "execution_count": 2,
   "metadata": {},
   "outputs": [],
   "source": [
    "import pandas as pd\n",
    "import warnings\n",
    "warnings.filterwarnings(\"ignore\")\n",
    "import matplotlib.pyplot as plt\n",
    "import seaborn as sns\n",
    "import numpy as np\n",
    "from wordcloud import WordCloud\n",
    "from sklearn.feature_extraction.text import TfidfVectorizer\n",
    "from nltk.tokenize import TweetTokenizer\n",
    "from sklearn.ensemble import RandomForestClassifier\n",
    "\n",
    "import eli5"
   ]
  },
  {
   "cell_type": "markdown",
   "metadata": {},
   "source": [
    "Our target variable is Adoption Speed:\n",
    "\n",
    "0 - Pet was adopted the day it was listed.\n",
    "\n",
    "1 - Pet was adopted the first week after being listed.\n",
    "\n",
    "2 - Pet was adopted the first month after being listed.\n",
    "\n",
    "3 - Pet was adopted in the 2nd and 3rd month after being listed.\n",
    "\n",
    "4 - The pet hasn't been adopted 90 days after being listed. :( \n"
   ]
  },
  {
   "cell_type": "code",
   "execution_count": 3,
   "metadata": {},
   "outputs": [],
   "source": [
    "# Reading in all our data\n",
    "\n",
    "train = pd.read_csv(\"data/train/train.csv\")\n",
    "breeds = pd.read_csv(\"data/breed_labels.csv\")\n",
    "colours = pd.read_csv(\"data/color_labels.csv\")\n",
    "states = pd.read_csv(\"data/state_labels.csv\")\n",
    "\n",
    "test = pd.read_csv(\"data/test/test.csv\")\n",
    "submission = pd.read_csv(\"data/test/sample_submission.csv\")\n",
    "\n",
    "# Add the type of dataset\n",
    "train[\"DataType\"] = \"training_data\"\n",
    "test[\"DataType\"] = \"testing_data\"\n",
    "\n",
    "\n",
    "all_data = pd.concat([train, test])"
   ]
  },
  {
   "cell_type": "markdown",
   "metadata": {},
   "source": [
    "# Data Analysis"
   ]
  },
  {
   "cell_type": "code",
   "execution_count": 4,
   "metadata": {},
   "outputs": [
    {
     "name": "stdout",
     "output_type": "stream",
     "text": [
      "<class 'pandas.core.frame.DataFrame'>\n",
      "RangeIndex: 14993 entries, 0 to 14992\n",
      "Data columns (total 25 columns):\n",
      "Type             14993 non-null int64\n",
      "Name             13736 non-null object\n",
      "Age              14993 non-null int64\n",
      "Breed1           14993 non-null int64\n",
      "Breed2           14993 non-null int64\n",
      "Gender           14993 non-null int64\n",
      "Color1           14993 non-null int64\n",
      "Color2           14993 non-null int64\n",
      "Color3           14993 non-null int64\n",
      "MaturitySize     14993 non-null int64\n",
      "FurLength        14993 non-null int64\n",
      "Vaccinated       14993 non-null int64\n",
      "Dewormed         14993 non-null int64\n",
      "Sterilized       14993 non-null int64\n",
      "Health           14993 non-null int64\n",
      "Quantity         14993 non-null int64\n",
      "Fee              14993 non-null int64\n",
      "State            14993 non-null int64\n",
      "RescuerID        14993 non-null object\n",
      "VideoAmt         14993 non-null int64\n",
      "Description      14981 non-null object\n",
      "PetID            14993 non-null object\n",
      "PhotoAmt         14993 non-null float64\n",
      "AdoptionSpeed    14993 non-null int64\n",
      "DataType         14993 non-null object\n",
      "dtypes: float64(1), int64(19), object(5)\n",
      "memory usage: 2.9+ MB\n"
     ]
    }
   ],
   "source": [
    "# train.drop(labels = [\"Description\"], axis = 1, inplace=True) # Can add other labels to drop later if necessary\n",
    "all_data.info()"
   ]
  },
  {
   "cell_type": "markdown",
   "metadata": {},
   "source": [
    "Looking at the initial data analysis, we see that there are a lot of names missing - which poses the question of how naming influences adoption speed?\n",
    "We also see that there is a Breed1 and Breed2 feature, where Breed2 is 0 when the animal is purebred.\n",
    "We can also look at how the photo and video amounts influence adoption speed, as well vaccination, sterilization etc."
   ]
  },
  {
   "cell_type": "markdown",
   "metadata": {},
   "source": [
    "## Now lets get into it ..."
   ]
  },
  {
   "cell_type": "code",
   "execution_count": 5,
   "metadata": {},
   "outputs": [
    {
     "data": {
      "text/plain": [
       "Text(0.5,1,'Count of Adoption Speed Classes')"
      ]
     },
     "execution_count": 5,
     "metadata": {},
     "output_type": "execute_result"
    },
    {
     "data": {
      "image/png": "[encoded data removed]",
      "text/plain": [
       "<Figure size 432x288 with 1 Axes>"
      ]
     },
     "metadata": {},
     "output_type": "display_data"
    }
   ],
   "source": [
    "all_data[\"AdoptionSpeed\"].value_counts().sort_index().plot(\"bar\")\n",
    "plt.title(\"Count of Adoption Speed Classes\")"
   ]
  },
  {
   "cell_type": "markdown",
   "metadata": {},
   "source": [
    "We can see from the graph above that even though some animals get adopted on the same day,a lot more get edopted in the first week or two. Sadly the class with the highest counts are animals who still aren't adoped."
   ]
  },
  {
   "cell_type": "markdown",
   "metadata": {},
   "source": [
    "## Dogs vs Cats"
   ]
  },
  {
   "cell_type": "code",
   "execution_count": 6,
   "metadata": {},
   "outputs": [
    {
     "data": {
      "text/plain": [
       "Text(0.5,1,'Number of dogs and cats in the train and test set: ')"
      ]
     },
     "execution_count": 6,
     "metadata": {},
     "output_type": "execute_result"
    },
    {
     "data": {
      "image/png": "[encoded data removed]",
      "text/plain": [
       "<Figure size 432x288 with 1 Axes>"
      ]
     },
     "metadata": {},
     "output_type": "display_data"
    }
   ],
   "source": [
    "all_data[\"Animal_Type\"] = [\"Dog\" if x == 1 else \"Cat\" for x in all_data[\"Type\"]]\n",
    "sns.countplot(x=\"DataType\", data = all_data, hue=\"Animal_Type\")\n",
    "plt.title(\"Number of dogs and cats in the train and test set: \")"
   ]
  },
  {
   "cell_type": "markdown",
   "metadata": {},
   "source": [
    "So we can see there is an insignificant difference in the dog:cat ratio in the different data sets."
   ]
  },
  {
   "cell_type": "code",
   "execution_count": 7,
   "metadata": {},
   "outputs": [
    {
     "data": {
      "text/plain": [
       "<matplotlib.axes._subplots.AxesSubplot at 0x21c5d979898>"
      ]
     },
     "execution_count": 7,
     "metadata": {},
     "output_type": "execute_result"
    },
    {
     "data": {
      "image/png": "[encoded data removed]",
      "text/plain": [
       "<Figure size 1296x576 with 1 Axes>"
      ]
     },
     "metadata": {},
     "output_type": "display_data"
    }
   ],
   "source": [
    "plt.figure(figsize=(18, 8))\n",
    "sns.countplot(x = \"Animal_Type\", hue=\"AdoptionSpeed\", data = all_data)"
   ]
  },
  {
   "cell_type": "markdown",
   "metadata": {},
   "source": [
    "Cats are more likely to get adopted early on, where more dogs get adopted later. We can also see that the overall percentage of cats that are not adopted is lower than for dogs."
   ]
  },
  {
   "cell_type": "markdown",
   "metadata": {},
   "source": [
    "## Do the names they give the pets have an influence?"
   ]
  },
  {
   "cell_type": "code",
   "execution_count": 8,
   "metadata": {},
   "outputs": [
    {
     "name": "stdout",
     "output_type": "stream",
     "text": [
      "Most popular pet names and AdoptionSpeed:\n",
      "Baby\n",
      "0     2\n",
      "1    11\n",
      "2    15\n",
      "3    11\n",
      "4    27\n",
      "Name: AdoptionSpeed, dtype: int64 \n",
      "\n",
      "Lucky\n",
      "0     5\n",
      "1    14\n",
      "2    16\n",
      "3    12\n",
      "4    17\n",
      "Name: AdoptionSpeed, dtype: int64 \n",
      "\n",
      "No Name\n",
      "0     3\n",
      "1    14\n",
      "2    11\n",
      "3     6\n",
      "4    20\n",
      "Name: AdoptionSpeed, dtype: int64 \n",
      "\n",
      "Brownie\n",
      "0     1\n",
      "1    11\n",
      "2    14\n",
      "3    12\n",
      "4    16\n",
      "Name: AdoptionSpeed, dtype: int64 \n",
      "\n",
      "Mimi\n",
      "0     3\n",
      "1    12\n",
      "2    13\n",
      "3     7\n",
      "4    17\n",
      "Name: AdoptionSpeed, dtype: int64 \n",
      "\n"
     ]
    }
   ],
   "source": [
    "print(\"Most popular pet names and AdoptionSpeed:\")\n",
    "for n in all_data[\"Name\"].value_counts().index[:5]:\n",
    "    print(n)\n",
    "    print(all_data.loc[all_data[\"Name\"] == n, \"AdoptionSpeed\"].value_counts().sort_index(),\"\\n\")"
   ]
  },
  {
   "cell_type": "code",
   "execution_count": 9,
   "metadata": {},
   "outputs": [
    {
     "name": "stdout",
     "output_type": "stream",
     "text": [
      "No Name:  66\n",
      "Unnamed:  5\n",
      "None:  9\n",
      "No Name Yet:  26\n"
     ]
    }
   ],
   "source": [
    "print(\"No Name: \", all_data[all_data[\"Name\"] == \"No Name\"][\"Name\"].count())\n",
    "print(\"Unnamed: \", all_data[all_data[\"Name\"] == \"Unnamed\"][\"Name\"].count())\n",
    "print(\"None: \", all_data[all_data[\"Name\"] == \"None\"][\"Name\"].count())\n",
    "print(\"No Name Yet: \", all_data[all_data[\"Name\"] == \"No Name Yet\"][\"Name\"].count())"
   ]
  },
  {
   "cell_type": "code",
   "execution_count": 10,
   "metadata": {},
   "outputs": [],
   "source": [
    "all_data[\"Name\"] = all_data[\"Name\"].fillna(\"Unnamed\")\n",
    "\n",
    "all_data[\"Name\"] = np.where(all_data[\"Name\"] == \"No Name\",\"Unnamed\", all_data[\"Name\"])\n",
    "all_data[\"Name\"] = np.where(all_data[\"Name\"] == \"None\",\"Unnamed\", all_data[\"Name\"])\n",
    "all_data[\"Name\"] = np.where(all_data[\"Name\"] == \"No Name Yet\",\"Unnamed\", all_data[\"Name\"])"
   ]
  },
  {
   "cell_type": "markdown",
   "metadata": {},
   "source": [
    "Let's create a feature based on whether the animal has a name or not, and then we can compare the adoption speed to named animals."
   ]
  },
  {
   "cell_type": "code",
   "execution_count": 11,
   "metadata": {},
   "outputs": [],
   "source": [
    "all_data[\"Unnamed\"] = 0\n",
    "all_data.loc[all_data[\"Name\"] == \"Unnamed\", \"Unnamed\"] = 1"
   ]
  },
  {
   "cell_type": "code",
   "execution_count": 12,
   "metadata": {},
   "outputs": [
    {
     "data": {
      "text/html": [
       "<div>\n",
       "<style scoped>\n",
       "    .dataframe tbody tr th:only-of-type {\n",
       "        vertical-align: middle;\n",
       "    }\n",
       "\n",
       "    .dataframe tbody tr th {\n",
       "        vertical-align: top;\n",
       "    }\n",
       "\n",
       "    .dataframe thead th {\n",
       "        text-align: right;\n",
       "    }\n",
       "</style>\n",
       "<table border=\"1\" class=\"dataframe\">\n",
       "  <thead>\n",
       "    <tr style=\"text-align: right;\">\n",
       "      <th>AdoptionSpeed</th>\n",
       "      <th>0</th>\n",
       "      <th>1</th>\n",
       "      <th>2</th>\n",
       "      <th>3</th>\n",
       "      <th>4</th>\n",
       "    </tr>\n",
       "    <tr>\n",
       "      <th>Unnamed</th>\n",
       "      <th></th>\n",
       "      <th></th>\n",
       "      <th></th>\n",
       "      <th></th>\n",
       "      <th></th>\n",
       "    </tr>\n",
       "  </thead>\n",
       "  <tbody>\n",
       "    <tr>\n",
       "      <th>0</th>\n",
       "      <td>0.027845</td>\n",
       "      <td>0.205027</td>\n",
       "      <td>0.271342</td>\n",
       "      <td>0.221954</td>\n",
       "      <td>0.273833</td>\n",
       "    </tr>\n",
       "    <tr>\n",
       "      <th>1</th>\n",
       "      <td>0.022288</td>\n",
       "      <td>0.216939</td>\n",
       "      <td>0.248143</td>\n",
       "      <td>0.170877</td>\n",
       "      <td>0.341753</td>\n",
       "    </tr>\n",
       "  </tbody>\n",
       "</table>\n",
       "</div>"
      ],
      "text/plain": [
       "AdoptionSpeed         0         1         2         3         4\n",
       "Unnamed                                                        \n",
       "0              0.027845  0.205027  0.271342  0.221954  0.273833\n",
       "1              0.022288  0.216939  0.248143  0.170877  0.341753"
      ]
     },
     "execution_count": 12,
     "metadata": {},
     "output_type": "execute_result"
    }
   ],
   "source": [
    "pd.crosstab(all_data[\"Unnamed\"], all_data[\"AdoptionSpeed\"], normalize = \"index\")"
   ]
  },
  {
   "cell_type": "markdown",
   "metadata": {},
   "source": [
    "It seems that if an animal is unnamed, it less likely to get adopted compared to an animal with an assigned name."
   ]
  },
  {
   "cell_type": "code",
   "execution_count": 13,
   "metadata": {},
   "outputs": [
    {
     "data": {
      "text/plain": [
       "<matplotlib.axes._subplots.AxesSubplot at 0x21c5d9ce470>"
      ]
     },
     "execution_count": 13,
     "metadata": {},
     "output_type": "execute_result"
    },
    {
     "data": {
      "image/png": "[encoded data removed]",
      "text/plain": [
       "<Figure size 1296x576 with 1 Axes>"
      ]
     },
     "metadata": {},
     "output_type": "display_data"
    }
   ],
   "source": [
    "plt.figure(figsize=(18,8))\n",
    "sns.countplot(x = \"Unnamed\", hue=\"AdoptionSpeed\", data=all_data)"
   ]
  },
  {
   "cell_type": "code",
   "execution_count": 14,
   "metadata": {},
   "outputs": [
    {
     "data": {
      "text/plain": [
       "Max    48\n",
       "Tom    33\n",
       "Boy    20\n",
       "Leo    18\n",
       "Ben    15\n",
       "Sam    14\n",
       "Mia    10\n",
       "QQ     10\n",
       "Ash    10\n",
       "Sky     9\n",
       "BB      9\n",
       "Rex     8\n",
       "Blu     8\n",
       "Joe     8\n",
       "Dot     7\n",
       "Amy     6\n",
       "Joy     6\n",
       "May     6\n",
       "MJ      6\n",
       "JJ      6\n",
       "Eva     5\n",
       "B1      5\n",
       "Zoe     5\n",
       "Jay     5\n",
       "Bee     5\n",
       "A1      4\n",
       "Don     4\n",
       "B2      4\n",
       "Ace     4\n",
       "Tux     4\n",
       "       ..\n",
       "Mi      1\n",
       "A88     1\n",
       "CC      1\n",
       "AB      1\n",
       "KAT     1\n",
       "KD      1\n",
       "W2      1\n",
       "Py      1\n",
       "Dow     1\n",
       "C.C     1\n",
       "R11     1\n",
       "Iko     1\n",
       "KIT     1\n",
       "Bim     1\n",
       "Any     1\n",
       "Mix     1\n",
       "L17     1\n",
       "Eli     1\n",
       "Low     1\n",
       "TIA     1\n",
       "A6      1\n",
       "C4C     1\n",
       "G2      1\n",
       "DJ      1\n",
       "NIL     1\n",
       "Ivy     1\n",
       "Qu      1\n",
       "F34     1\n",
       "BB2     1\n",
       "D7      1\n",
       "Name: Name, Length: 442, dtype: int64"
      ]
     },
     "execution_count": 14,
     "metadata": {},
     "output_type": "execute_result"
    }
   ],
   "source": [
    "all_data[all_data[\"Name\"].apply(lambda x: len(str(x))) <= 3][\"Name\"].value_counts()"
   ]
  },
  {
   "cell_type": "markdown",
   "metadata": {},
   "source": [
    "So we see that some of the names that have 3 characters or less are meaningless. This then probably increases the animals chances of not getting adopted, but we can't remove all these names since names like Max and Tom do have meaning."
   ]
  },
  {
   "cell_type": "markdown",
   "metadata": {},
   "source": [
    "## Does age matter? "
   ]
  },
  {
   "cell_type": "markdown",
   "metadata": {},
   "source": [
    "I would expect that people are more likely to adopt puppies and kittens than older animals. But let's take a look ..."
   ]
  },
  {
   "cell_type": "code",
   "execution_count": 15,
   "metadata": {},
   "outputs": [
    {
     "data": {
      "text/plain": [
       "array([[<matplotlib.axes._subplots.AxesSubplot object at 0x0000021C5DA34208>]],\n",
       "      dtype=object)"
      ]
     },
     "execution_count": 15,
     "metadata": {},
     "output_type": "execute_result"
    },
    {
     "data": {
      "image/png": "[encoded data removed]",
      "text/plain": [
       "<Figure size 432x288 with 1 Axes>"
      ]
     },
     "metadata": {},
     "output_type": "display_data"
    }
   ],
   "source": [
    "# Currently the age is in months so I want to set it to age in years\n",
    "all_data[\"AgeInYrs\"] = all_data[\"Age\"]/12\n",
    "all_data[\"AgeInYrs\"] = all_data[\"Age\"]/12\n",
    "\n",
    "all_data.hist(column = \"AgeInYrs\")"
   ]
  },
  {
   "cell_type": "markdown",
   "metadata": {},
   "source": [
    "It seems that the majority of animals are under the age of 3"
   ]
  },
  {
   "cell_type": "markdown",
   "metadata": {},
   "source": [
    "Let's now analyse the adoption speed based on age."
   ]
  },
  {
   "cell_type": "code",
   "execution_count": 16,
   "metadata": {},
   "outputs": [
    {
     "data": {
      "image/png": "[encoded data removed]",
      "text/plain": [
       "<Figure size 1296x576 with 1 Axes>"
      ]
     },
     "metadata": {},
     "output_type": "display_data"
    }
   ],
   "source": [
    "plt.figure(figsize=(18,8))\n",
    "ax = sns.boxenplot(x = \"AdoptionSpeed\", y=\"AgeInYrs\", hue=\"Animal_Type\", data=all_data)"
   ]
  },
  {
   "cell_type": "markdown",
   "metadata": {},
   "source": [
    "Looking at the graph above, we can see that younger pets are adopted a lot more quickly than older pets. "
   ]
  },
  {
   "cell_type": "markdown",
   "metadata": {},
   "source": [
    "## Breeds: Mixed vs Pure? "
   ]
  },
  {
   "cell_type": "markdown",
   "metadata": {},
   "source": [
    "I'm wondering if people are more likely to adopts a pure breed animal or a mixed breed animal?"
   ]
  },
  {
   "cell_type": "code",
   "execution_count": 17,
   "metadata": {},
   "outputs": [],
   "source": [
    "all_data[\"MixedBreed\"] = [1 if x > 0 else 0 for x in all_data[\"Breed2\"]]"
   ]
  },
  {
   "cell_type": "markdown",
   "metadata": {},
   "source": [
    "So it seems that the majority of animals are pure bred which is unexpected."
   ]
  },
  {
   "cell_type": "code",
   "execution_count": 20,
   "metadata": {},
   "outputs": [
    {
     "data": {
      "text/plain": [
       "<matplotlib.axes._subplots.AxesSubplot at 0x21c5e198be0>"
      ]
     },
     "execution_count": 20,
     "metadata": {},
     "output_type": "execute_result"
    },
    {
     "data": {
      "image/png": "[encoded data removed]",
      "text/plain": [
       "<Figure size 1296x576 with 1 Axes>"
      ]
     },
     "metadata": {},
     "output_type": "display_data"
    }
   ],
   "source": [
    "plt.figure(figsize=(18,8))\n",
    "sns.boxenplot(x = \"MixedBreed\", y = \"AdoptionSpeed\", hue=\"Animal_Type\", data=all_data)"
   ]
  },
  {
   "cell_type": "markdown",
   "metadata": {},
   "source": [
    "So it seems that dogs have an equally likely chance of being adopted for both mixed and pure breeds. For cats, mixed breed cats are more likely to be adopted quickly than pure breed cats."
   ]
  },
  {
   "cell_type": "markdown",
   "metadata": {},
   "source": [
    "Let's try to see whether a specific breed is more likely to be adopted."
   ]
  },
  {
   "cell_type": "code",
   "execution_count": 21,
   "metadata": {},
   "outputs": [
    {
     "data": {
      "text/html": [
       "<div>\n",
       "<style scoped>\n",
       "    .dataframe tbody tr th:only-of-type {\n",
       "        vertical-align: middle;\n",
       "    }\n",
       "\n",
       "    .dataframe tbody tr th {\n",
       "        vertical-align: top;\n",
       "    }\n",
       "\n",
       "    .dataframe thead th {\n",
       "        text-align: right;\n",
       "    }\n",
       "</style>\n",
       "<table border=\"1\" class=\"dataframe\">\n",
       "  <thead>\n",
       "    <tr style=\"text-align: right;\">\n",
       "      <th></th>\n",
       "      <th>BreedID</th>\n",
       "      <th>Type</th>\n",
       "      <th>BreedName</th>\n",
       "    </tr>\n",
       "  </thead>\n",
       "  <tbody>\n",
       "    <tr>\n",
       "      <th>0</th>\n",
       "      <td>1</td>\n",
       "      <td>1</td>\n",
       "      <td>Affenpinscher</td>\n",
       "    </tr>\n",
       "    <tr>\n",
       "      <th>1</th>\n",
       "      <td>2</td>\n",
       "      <td>1</td>\n",
       "      <td>Afghan Hound</td>\n",
       "    </tr>\n",
       "    <tr>\n",
       "      <th>2</th>\n",
       "      <td>3</td>\n",
       "      <td>1</td>\n",
       "      <td>Airedale Terrier</td>\n",
       "    </tr>\n",
       "    <tr>\n",
       "      <th>3</th>\n",
       "      <td>4</td>\n",
       "      <td>1</td>\n",
       "      <td>Akbash</td>\n",
       "    </tr>\n",
       "    <tr>\n",
       "      <th>4</th>\n",
       "      <td>5</td>\n",
       "      <td>1</td>\n",
       "      <td>Akita</td>\n",
       "    </tr>\n",
       "  </tbody>\n",
       "</table>\n",
       "</div>"
      ],
      "text/plain": [
       "   BreedID  Type         BreedName\n",
       "0        1     1     Affenpinscher\n",
       "1        2     1      Afghan Hound\n",
       "2        3     1  Airedale Terrier\n",
       "3        4     1            Akbash\n",
       "4        5     1             Akita"
      ]
     },
     "execution_count": 21,
     "metadata": {},
     "output_type": "execute_result"
    }
   ],
   "source": [
    "breeds.head()"
   ]
  },
  {
   "cell_type": "code",
   "execution_count": 22,
   "metadata": {},
   "outputs": [],
   "source": [
    "breed_cols = breeds[[\"BreedID\", \"BreedName\"]]\n",
    "\n",
    "breed_cols.set_index(\"BreedID\", drop = True, inplace = True)\n",
    "\n",
    "breed_dict = breed_cols.to_dict()[\"BreedName\"]"
   ]
  },
  {
   "cell_type": "code",
   "execution_count": 23,
   "metadata": {},
   "outputs": [
    {
     "data": {
      "text/html": [
       "<div>\n",
       "<style scoped>\n",
       "    .dataframe tbody tr th:only-of-type {\n",
       "        vertical-align: middle;\n",
       "    }\n",
       "\n",
       "    .dataframe tbody tr th {\n",
       "        vertical-align: top;\n",
       "    }\n",
       "\n",
       "    .dataframe thead th {\n",
       "        text-align: right;\n",
       "    }\n",
       "</style>\n",
       "<table border=\"1\" class=\"dataframe\">\n",
       "  <thead>\n",
       "    <tr style=\"text-align: right;\">\n",
       "      <th></th>\n",
       "      <th>Type</th>\n",
       "      <th>Name</th>\n",
       "      <th>Age</th>\n",
       "      <th>Breed1</th>\n",
       "      <th>Breed2</th>\n",
       "      <th>Gender</th>\n",
       "      <th>Color1</th>\n",
       "      <th>Color2</th>\n",
       "      <th>Color3</th>\n",
       "      <th>MaturitySize</th>\n",
       "      <th>...</th>\n",
       "      <th>RescuerID</th>\n",
       "      <th>VideoAmt</th>\n",
       "      <th>Description</th>\n",
       "      <th>PetID</th>\n",
       "      <th>PhotoAmt</th>\n",
       "      <th>AdoptionSpeed</th>\n",
       "      <th>DataType</th>\n",
       "      <th>Unnamed</th>\n",
       "      <th>AgeInYrs</th>\n",
       "      <th>MixedBreed</th>\n",
       "    </tr>\n",
       "  </thead>\n",
       "  <tbody>\n",
       "    <tr>\n",
       "      <th>0</th>\n",
       "      <td>2</td>\n",
       "      <td>Nibble</td>\n",
       "      <td>3</td>\n",
       "      <td>299</td>\n",
       "      <td>0</td>\n",
       "      <td>1</td>\n",
       "      <td>1</td>\n",
       "      <td>7</td>\n",
       "      <td>0</td>\n",
       "      <td>1</td>\n",
       "      <td>...</td>\n",
       "      <td>8480853f516546f6cf33aa88cd76c379</td>\n",
       "      <td>0</td>\n",
       "      <td>Nibble is a 3+ month old ball of cuteness. He ...</td>\n",
       "      <td>86e1089a3</td>\n",
       "      <td>1.0</td>\n",
       "      <td>2</td>\n",
       "      <td>training_data</td>\n",
       "      <td>0</td>\n",
       "      <td>0.250000</td>\n",
       "      <td>0</td>\n",
       "    </tr>\n",
       "    <tr>\n",
       "      <th>1</th>\n",
       "      <td>2</td>\n",
       "      <td>Unnamed</td>\n",
       "      <td>1</td>\n",
       "      <td>265</td>\n",
       "      <td>0</td>\n",
       "      <td>1</td>\n",
       "      <td>1</td>\n",
       "      <td>2</td>\n",
       "      <td>0</td>\n",
       "      <td>2</td>\n",
       "      <td>...</td>\n",
       "      <td>3082c7125d8fb66f7dd4bff4192c8b14</td>\n",
       "      <td>0</td>\n",
       "      <td>I just found it alone yesterday near my apartm...</td>\n",
       "      <td>6296e909a</td>\n",
       "      <td>2.0</td>\n",
       "      <td>0</td>\n",
       "      <td>training_data</td>\n",
       "      <td>1</td>\n",
       "      <td>0.083333</td>\n",
       "      <td>0</td>\n",
       "    </tr>\n",
       "    <tr>\n",
       "      <th>2</th>\n",
       "      <td>1</td>\n",
       "      <td>Brisco</td>\n",
       "      <td>1</td>\n",
       "      <td>307</td>\n",
       "      <td>0</td>\n",
       "      <td>1</td>\n",
       "      <td>2</td>\n",
       "      <td>7</td>\n",
       "      <td>0</td>\n",
       "      <td>2</td>\n",
       "      <td>...</td>\n",
       "      <td>fa90fa5b1ee11c86938398b60abc32cb</td>\n",
       "      <td>0</td>\n",
       "      <td>Their pregnant mother was dumped by her irresp...</td>\n",
       "      <td>3422e4906</td>\n",
       "      <td>7.0</td>\n",
       "      <td>3</td>\n",
       "      <td>training_data</td>\n",
       "      <td>0</td>\n",
       "      <td>0.083333</td>\n",
       "      <td>0</td>\n",
       "    </tr>\n",
       "    <tr>\n",
       "      <th>3</th>\n",
       "      <td>1</td>\n",
       "      <td>Miko</td>\n",
       "      <td>4</td>\n",
       "      <td>307</td>\n",
       "      <td>0</td>\n",
       "      <td>2</td>\n",
       "      <td>1</td>\n",
       "      <td>2</td>\n",
       "      <td>0</td>\n",
       "      <td>2</td>\n",
       "      <td>...</td>\n",
       "      <td>9238e4f44c71a75282e62f7136c6b240</td>\n",
       "      <td>0</td>\n",
       "      <td>Good guard dog, very alert, active, obedience ...</td>\n",
       "      <td>5842f1ff5</td>\n",
       "      <td>8.0</td>\n",
       "      <td>2</td>\n",
       "      <td>training_data</td>\n",
       "      <td>0</td>\n",
       "      <td>0.333333</td>\n",
       "      <td>0</td>\n",
       "    </tr>\n",
       "    <tr>\n",
       "      <th>4</th>\n",
       "      <td>1</td>\n",
       "      <td>Hunter</td>\n",
       "      <td>1</td>\n",
       "      <td>307</td>\n",
       "      <td>0</td>\n",
       "      <td>1</td>\n",
       "      <td>1</td>\n",
       "      <td>0</td>\n",
       "      <td>0</td>\n",
       "      <td>2</td>\n",
       "      <td>...</td>\n",
       "      <td>95481e953f8aed9ec3d16fc4509537e8</td>\n",
       "      <td>0</td>\n",
       "      <td>This handsome yet cute boy is up for adoption....</td>\n",
       "      <td>850a43f90</td>\n",
       "      <td>3.0</td>\n",
       "      <td>2</td>\n",
       "      <td>training_data</td>\n",
       "      <td>0</td>\n",
       "      <td>0.083333</td>\n",
       "      <td>0</td>\n",
       "    </tr>\n",
       "  </tbody>\n",
       "</table>\n",
       "<p>5 rows × 28 columns</p>\n",
       "</div>"
      ],
      "text/plain": [
       "   Type     Name  Age  Breed1  Breed2  Gender  Color1  Color2  Color3  \\\n",
       "0     2   Nibble    3     299       0       1       1       7       0   \n",
       "1     2  Unnamed    1     265       0       1       1       2       0   \n",
       "2     1   Brisco    1     307       0       1       2       7       0   \n",
       "3     1     Miko    4     307       0       2       1       2       0   \n",
       "4     1   Hunter    1     307       0       1       1       0       0   \n",
       "\n",
       "   MaturitySize     ...                             RescuerID  VideoAmt  \\\n",
       "0             1     ...      8480853f516546f6cf33aa88cd76c379         0   \n",
       "1             2     ...      3082c7125d8fb66f7dd4bff4192c8b14         0   \n",
       "2             2     ...      fa90fa5b1ee11c86938398b60abc32cb         0   \n",
       "3             2     ...      9238e4f44c71a75282e62f7136c6b240         0   \n",
       "4             2     ...      95481e953f8aed9ec3d16fc4509537e8         0   \n",
       "\n",
       "                                         Description      PetID  PhotoAmt  \\\n",
       "0  Nibble is a 3+ month old ball of cuteness. He ...  86e1089a3       1.0   \n",
       "1  I just found it alone yesterday near my apartm...  6296e909a       2.0   \n",
       "2  Their pregnant mother was dumped by her irresp...  3422e4906       7.0   \n",
       "3  Good guard dog, very alert, active, obedience ...  5842f1ff5       8.0   \n",
       "4  This handsome yet cute boy is up for adoption....  850a43f90       3.0   \n",
       "\n",
       "   AdoptionSpeed       DataType  Unnamed  AgeInYrs  MixedBreed  \n",
       "0              2  training_data        0  0.250000           0  \n",
       "1              0  training_data        1  0.083333           0  \n",
       "2              3  training_data        0  0.083333           0  \n",
       "3              2  training_data        0  0.333333           0  \n",
       "4              2  training_data        0  0.083333           0  \n",
       "\n",
       "[5 rows x 28 columns]"
      ]
     },
     "execution_count": 23,
     "metadata": {},
     "output_type": "execute_result"
    }
   ],
   "source": [
    "all_data.head()"
   ]
  },
  {
   "cell_type": "code",
   "execution_count": 24,
   "metadata": {},
   "outputs": [],
   "source": [
    "all_data[\"Breed1\"] = all_data[\"Breed1\"].map(breed_dict).fillna(\"Unknown\")\n",
    "all_data[\"Breed2\"] = all_data[\"Breed2\"].map(breed_dict).fillna(\"None\")"
   ]
  },
  {
   "cell_type": "markdown",
   "metadata": {},
   "source": [
    "We see that even though some of the breed names doesn't count as a pure breed, such as \"Mixed Breed\"."
   ]
  },
  {
   "cell_type": "code",
   "execution_count": 25,
   "metadata": {},
   "outputs": [
    {
     "data": {
      "text/plain": [
       "Mixed Breed & None             5573\n",
       "Domestic Short Hair & None     4042\n",
       "Domestic Medium Hair & None    1264\n",
       "Mixed Breed & Mixed Breed      1188\n",
       "Tabby & None                    379\n",
       "dtype: int64"
      ]
     },
     "execution_count": 25,
     "metadata": {},
     "output_type": "execute_result"
    }
   ],
   "source": [
    "(all_data[\"Breed1\"] + \" & \" + all_data[\"Breed2\"]).value_counts().head()"
   ]
  },
  {
   "cell_type": "markdown",
   "metadata": {},
   "source": [
    "In some cases people write both the breeds in the second field, even though its the same as the first. So how do we go about using breed information if we have inaccurate data?\n",
    "\n",
    "I decided that I'm going to list them as mixed breed if mixed breed is present in the column.\n",
    "\n",
    "Also, for some of the cases of catsthe same breed is listed twice and they're then seen as mixed breed.\n",
    "We also notice that domestic short/medium/long hair cats are seen as pure bred, but they're not recognised as a pure breed so we need to adjust this."
   ]
  },
  {
   "cell_type": "code",
   "execution_count": 26,
   "metadata": {},
   "outputs": [
    {
     "data": {
      "text/html": [
       "<div>\n",
       "<style scoped>\n",
       "    .dataframe tbody tr th:only-of-type {\n",
       "        vertical-align: middle;\n",
       "    }\n",
       "\n",
       "    .dataframe tbody tr th {\n",
       "        vertical-align: top;\n",
       "    }\n",
       "\n",
       "    .dataframe thead th {\n",
       "        text-align: right;\n",
       "    }\n",
       "</style>\n",
       "<table border=\"1\" class=\"dataframe\">\n",
       "  <thead>\n",
       "    <tr style=\"text-align: right;\">\n",
       "      <th></th>\n",
       "      <th>Breed1</th>\n",
       "      <th>Breed2</th>\n",
       "      <th>MixedBreed</th>\n",
       "    </tr>\n",
       "  </thead>\n",
       "  <tbody>\n",
       "    <tr>\n",
       "      <th>0</th>\n",
       "      <td>Tabby</td>\n",
       "      <td>None</td>\n",
       "      <td>0</td>\n",
       "    </tr>\n",
       "    <tr>\n",
       "      <th>1</th>\n",
       "      <td>Domestic Medium Hair</td>\n",
       "      <td>None</td>\n",
       "      <td>0</td>\n",
       "    </tr>\n",
       "    <tr>\n",
       "      <th>2</th>\n",
       "      <td>Mixed Breed</td>\n",
       "      <td>None</td>\n",
       "      <td>0</td>\n",
       "    </tr>\n",
       "    <tr>\n",
       "      <th>3</th>\n",
       "      <td>Mixed Breed</td>\n",
       "      <td>None</td>\n",
       "      <td>0</td>\n",
       "    </tr>\n",
       "    <tr>\n",
       "      <th>4</th>\n",
       "      <td>Mixed Breed</td>\n",
       "      <td>None</td>\n",
       "      <td>0</td>\n",
       "    </tr>\n",
       "  </tbody>\n",
       "</table>\n",
       "</div>"
      ],
      "text/plain": [
       "                 Breed1 Breed2  MixedBreed\n",
       "0                 Tabby   None           0\n",
       "1  Domestic Medium Hair   None           0\n",
       "2           Mixed Breed   None           0\n",
       "3           Mixed Breed   None           0\n",
       "4           Mixed Breed   None           0"
      ]
     },
     "execution_count": 26,
     "metadata": {},
     "output_type": "execute_result"
    }
   ],
   "source": [
    "all_data[[\"Breed1\", \"Breed2\", \"MixedBreed\"]].head()"
   ]
  },
  {
   "cell_type": "code",
   "execution_count": 27,
   "metadata": {},
   "outputs": [],
   "source": [
    "# Make all the cases pure bred if breed 1 is the same as breed 2\n",
    "all_data.loc[all_data[\"Breed1\"] == all_data[\"Breed2\"], \"MixedBreed\"] = 0\n",
    "\n",
    "# But for the following cases, they are mixed:\n",
    "all_data.loc[all_data[\"Breed1\"] == \"Mixed Breed\", \"MixedBreed\"] = 1\n",
    "all_data.loc[all_data[\"Breed1\"] == \"Domestic Short Hair\", \"MixedBreed\"] = 1\n",
    "all_data.loc[all_data[\"Breed1\"] == \"Domestic Medium Hair\", \"MixedBreed\"] = 1\n",
    "all_data.loc[all_data[\"Breed1\"] == \"Domestic Long Hair\", \"MixedBreed\"] = 1"
   ]
  },
  {
   "cell_type": "code",
   "execution_count": 28,
   "metadata": {},
   "outputs": [
    {
     "data": {
      "text/plain": [
       "<matplotlib.axes._subplots.AxesSubplot at 0x21c5e6789e8>"
      ]
     },
     "execution_count": 28,
     "metadata": {},
     "output_type": "execute_result"
    },
    {
     "data": {
      "image/png": "[encoded data removed]",
      "text/plain": [
       "<Figure size 1296x576 with 1 Axes>"
      ]
     },
     "metadata": {},
     "output_type": "display_data"
    }
   ],
   "source": [
    "plt.figure(figsize=(18,8))\n",
    "sns.boxenplot(x = \"MixedBreed\", y = \"AdoptionSpeed\", hue=\"Animal_Type\", data=all_data)"
   ]
  },
  {
   "cell_type": "markdown",
   "metadata": {},
   "source": [
    "Now we have a better idea of the adoption rates of mixed breed animals. We can see that pure bred dogs get adopted faster than mixed breed dogs.\n",
    "\n",
    "But cats get adopted faster when they're a mixed breed.\n",
    "\n",
    "We will now use the \"MixedBreed\" feature instead of \"Breed1\" and \"Breed2\"."
   ]
  },
  {
   "cell_type": "markdown",
   "metadata": {},
   "source": [
    "## Gender"
   ]
  },
  {
   "cell_type": "markdown",
   "metadata": {},
   "source": [
    "Note that 1 - Male, 2 - Female and 3 - Mixed (Like when the profile represents multiple pets)."
   ]
  },
  {
   "cell_type": "code",
   "execution_count": 29,
   "metadata": {},
   "outputs": [
    {
     "data": {
      "text/plain": [
       "<matplotlib.axes._subplots.AxesSubplot at 0x21c61ef9d30>"
      ]
     },
     "execution_count": 29,
     "metadata": {},
     "output_type": "execute_result"
    },
    {
     "data": {
      "image/png": "[encoded data removed]",
      "text/plain": [
       "<Figure size 576x360 with 1 Axes>"
      ]
     },
     "metadata": {},
     "output_type": "display_data"
    }
   ],
   "source": [
    "plt.figure(figsize=(8,5))\n",
    "sns.countplot(x = \"Gender\", hue=\"Animal_Type\", data=all_data)"
   ]
  },
  {
   "cell_type": "markdown",
   "metadata": {},
   "source": [
    "So we can see that there are a lot more female pets in the shelter than males. The smallest group is the mised gender group.\n",
    "\n",
    "Now let's look at the distribution of the adoption speed of these different groups."
   ]
  },
  {
   "cell_type": "code",
   "execution_count": 30,
   "metadata": {},
   "outputs": [
    {
     "data": {
      "text/plain": [
       "<matplotlib.axes._subplots.AxesSubplot at 0x21c61fc7ac8>"
      ]
     },
     "execution_count": 30,
     "metadata": {},
     "output_type": "execute_result"
    },
    {
     "data": {
      "image/png": "[encoded data removed]",
      "text/plain": [
       "<Figure size 576x360 with 1 Axes>"
      ]
     },
     "metadata": {},
     "output_type": "display_data"
    }
   ],
   "source": [
    "plt.figure(figsize=(8,5))\n",
    "sns.boxenplot(x = \"Gender\", y = \"AdoptionSpeed\", hue=\"Animal_Type\", data=all_data)"
   ]
  },
  {
   "cell_type": "markdown",
   "metadata": {},
   "source": [
    "Male dogs get adopted a lot faster than female dogs and male cats tend to get adopted and not stay at the shelter for longer than 90 days unlike female cats.\n",
    "Female dogs on average get adopted later than male dogs, and a lot of of them don't get adopted.\n",
    "The mixed groups have similar distributions than the female dog and cat groups, except they tend to not get adopted as early.\n",
    "Does the mixed group mostly consist of a mother and her babies? And how many animals normally fall in the gender category 3?"
   ]
  },
  {
   "cell_type": "code",
   "execution_count": 31,
   "metadata": {},
   "outputs": [
    {
     "data": {
      "text/plain": [
       "count    2791.000000\n",
       "mean        3.910068\n",
       "std         2.298389\n",
       "min         2.000000\n",
       "25%         2.000000\n",
       "50%         3.000000\n",
       "75%         5.000000\n",
       "max        20.000000\n",
       "Name: Quantity, dtype: float64"
      ]
     },
     "execution_count": 31,
     "metadata": {},
     "output_type": "execute_result"
    }
   ],
   "source": [
    "all_data[all_data[\"Gender\"] == 3][\"Quantity\"].describe()"
   ]
  },
  {
   "cell_type": "markdown",
   "metadata": {},
   "source": [
    "On average, there are 4 animals that are listed as a group to be adopted. There's even a case of 20 animals. Normally, people adopt one or two pets so this explains the undesired adoption speed for this group. Shelters should consider listing the animals in smaller groups, or finding forster homes for them until the babies are weaned off their mom.\n",
    "\n",
    "But let's look at the description of these animals to investigate more."
   ]
  },
  {
   "cell_type": "markdown",
   "metadata": {},
   "source": [
    "## Description "
   ]
  },
  {
   "cell_type": "code",
   "execution_count": 38,
   "metadata": {},
   "outputs": [
    {
     "data": {
      "text/plain": [
       "1     14564\n",
       "2      1823\n",
       "3       905\n",
       "4       678\n",
       "5       443\n",
       "6       222\n",
       "7       109\n",
       "8        69\n",
       "9        44\n",
       "10       26\n",
       "20       18\n",
       "11       12\n",
       "12        7\n",
       "15        6\n",
       "14        4\n",
       "17        3\n",
       "13        3\n",
       "16        3\n",
       "18        2\n",
       "Name: Quantity, dtype: int64"
      ]
     },
     "execution_count": 38,
     "metadata": {},
     "output_type": "execute_result"
    }
   ],
   "source": [
    "all_data['Quantity'].value_counts().head(20)"
   ]
  },
  {
   "cell_type": "code",
   "execution_count": 48,
   "metadata": {},
   "outputs": [
    {
     "data": {
      "text/html": [
       "<div>\n",
       "<style scoped>\n",
       "    .dataframe tbody tr th:only-of-type {\n",
       "        vertical-align: middle;\n",
       "    }\n",
       "\n",
       "    .dataframe tbody tr th {\n",
       "        vertical-align: top;\n",
       "    }\n",
       "\n",
       "    .dataframe thead th {\n",
       "        text-align: right;\n",
       "    }\n",
       "</style>\n",
       "<table border=\"1\" class=\"dataframe\">\n",
       "  <thead>\n",
       "    <tr style=\"text-align: right;\">\n",
       "      <th></th>\n",
       "      <th>Description</th>\n",
       "      <th>Quantity</th>\n",
       "      <th>AdoptionSpeed</th>\n",
       "    </tr>\n",
       "  </thead>\n",
       "  <tbody>\n",
       "    <tr>\n",
       "      <th>263</th>\n",
       "      <td>These are 20 puppies, from 2 stray mums need good homes. They are 2 weeks old. If you can give them a good home without caging or chaining, please whatsapp or msg Ms Grace Bong tel no:</td>\n",
       "      <td>20</td>\n",
       "      <td>4.0</td>\n",
       "    </tr>\n",
       "    <tr>\n",
       "      <th>427</th>\n",
       "      <td>Hi, kepada sesiapa yang berminat untuk adopt kucing-kucing sila hubungi saya . Di sini ada berbagai jenis kucing, dari short hair - long hair.</td>\n",
       "      <td>20</td>\n",
       "      <td>4.0</td>\n",
       "    </tr>\n",
       "    <tr>\n",
       "      <th>1305</th>\n",
       "      <td>Bailey is an obedient and loyal dog Her owner is terminaaly ill and is unable to care for her</td>\n",
       "      <td>20</td>\n",
       "      <td>4.0</td>\n",
       "    </tr>\n",
       "    <tr>\n",
       "      <th>1659</th>\n",
       "      <td>Hi feline lovers, There are 40 cats desperately seeking new homes before they are taken away from DBKL! This video link shows the lady who has been keeping these cats: Her neighbors seem to dislike cats, so they complained to DBKL. DBKL came to her house and told her to get rid of those cats. They'll be coming back to her house this Monday (6th February ) and she can only have 1 cat. DBKL will take the other cats and put them to sleep. She's looking for people who wants to adopt her cats and be their new owner. If you are interested, please contact Nicole at. Thank you.</td>\n",
       "      <td>20</td>\n",
       "      <td>2.0</td>\n",
       "    </tr>\n",
       "    <tr>\n",
       "      <th>4759</th>\n",
       "      <td>The owner of these babies (Makcik Ani) has passed away on Monday 3 July There are about 30 cats. Mostly rescued. Her husband (Pakcik Ali) cannot manage 30 cats all alone by himself as he is old already. All cats are fully indoor T&amp;C: New adopters must be able to care for the cats financially &amp; care for them wholeheartedly with lots of love and with patience because Allahyarhamah Makcik Ani loved all her cats unconditionally. Location: Section 17, Shah Alam</td>\n",
       "      <td>20</td>\n",
       "      <td>2.0</td>\n",
       "    </tr>\n",
       "    <tr>\n",
       "      <th>6332</th>\n",
       "      <td>DAISY IS SMART AND LOYAL HER OWNER IS TERMINALLY ILL AND UNABLE TO CARE FOR HER</td>\n",
       "      <td>20</td>\n",
       "      <td>4.0</td>\n",
       "    </tr>\n",
       "    <tr>\n",
       "      <th>7094</th>\n",
       "      <td>SAYA ADA 20 LEBIH EKOR KUCING YANG TERPAKSA SAYA LEPASKAN SEBAB SAYA PERLU PINDAH TINGGAL DI KAMPUNG.Dalam gambar tu adalah separuh dari kucing yg saya ada.</td>\n",
       "      <td>20</td>\n",
       "      <td>4.0</td>\n",
       "    </tr>\n",
       "    <tr>\n",
       "      <th>7993</th>\n",
       "      <td>Iris owner is terminally ill and unable to care for her She is very approachable and caring in nature.</td>\n",
       "      <td>20</td>\n",
       "      <td>4.0</td>\n",
       "    </tr>\n",
       "    <tr>\n",
       "      <th>9405</th>\n",
       "      <td>Mocha is a lovable and friendly dog Owner is terminally ill and unable to care for her</td>\n",
       "      <td>20</td>\n",
       "      <td>4.0</td>\n",
       "    </tr>\n",
       "    <tr>\n",
       "      <th>9779</th>\n",
       "      <td>Sasha is obedient and has good temperament Her owner is terminally ill and is unable to care for her</td>\n",
       "      <td>20</td>\n",
       "      <td>4.0</td>\n",
       "    </tr>\n",
       "    <tr>\n",
       "      <th>12792</th>\n",
       "      <td>There are over 30 puppies in an abandon wooden house in Temiang, Seremban. Some neighbors are giving them clean water and their mother is trying to guard the house… The house is apparently attack by termite and the structure is in bad shape. According to the neighbor, the mothers will attack them if they get close to their puppies. In long run, it will going to bring a lot more problem to the neighborhood. The puppies will also in danger as the house condition is deteriorating. The puppies are adorable and look healthy.. Can anyone help to remove the puppies to a safe place please? They are at the following address: /A9, Jln Han Hui Foong, Temiang. Negeri Sembilan. Malaysia. It is at the wooden housing area behind SMK Tengku Ampuan Najihah, Temiang. Seremban.. Follow the road in front ...</td>\n",
       "      <td>20</td>\n",
       "      <td>3.0</td>\n",
       "    </tr>\n",
       "    <tr>\n",
       "      <th>14583</th>\n",
       "      <td>He is a very energetic dog Unfortunately his owner is terminally ill and unable to care for him</td>\n",
       "      <td>20</td>\n",
       "      <td>1.0</td>\n",
       "    </tr>\n",
       "    <tr>\n",
       "      <th>438</th>\n",
       "      <td>Rescued ones around 3 months old are up for adoption. They are mischievous, absolutely charming, sweet and loving. They are well taken care by their amma. If you are patient with puppies and looking for a companion kindly contact us or visit our shelter. Thank you!</td>\n",
       "      <td>20</td>\n",
       "      <td>NaN</td>\n",
       "    </tr>\n",
       "    <tr>\n",
       "      <th>463</th>\n",
       "      <td>Rescued ones around 3 months old are up for adoption. They are mischievous, absolutely charming, sweet and loving. They are well taken care by their amma. If you are patient with puppies and looking for a companion kindly contact us at/ or visit our shelter. Thank you!</td>\n",
       "      <td>20</td>\n",
       "      <td>NaN</td>\n",
       "    </tr>\n",
       "    <tr>\n",
       "      <th>642</th>\n",
       "      <td>Ebbi was going to be put down along with his siblings at the animal shelter as they were ill. After antibiotics and some TLC, he is running around the house chasing his siblings without a care in the world. He is the cheekiest kitten and loves attention. He has beautiful hazel eyes and likes playing with his toys, plastics bottles and empty candy wrappers. Hope to find a forever home for this playful kitty.</td>\n",
       "      <td>20</td>\n",
       "      <td>NaN</td>\n",
       "    </tr>\n",
       "    <tr>\n",
       "      <th>2582</th>\n",
       "      <td>Saving one dog will not change the world, but surely for that one dog, the world will change forever. Please call Ms.Liza / Ms.Nancy / Ms.Jennie LOCATION : FURRYKIDS SAFAHAVEN (SEREMBAN)</td>\n",
       "      <td>20</td>\n",
       "      <td>NaN</td>\n",
       "    </tr>\n",
       "    <tr>\n",
       "      <th>2919</th>\n",
       "      <td>Kajang Municipal is planning on putting 20 puppies to sleep. Anyone out there willingly to adopt the puppies, please Contact immediately SPCA Selangor</td>\n",
       "      <td>20</td>\n",
       "      <td>NaN</td>\n",
       "    </tr>\n",
       "    <tr>\n",
       "      <th>2953</th>\n",
       "      <td>Hi! I've 2 puppies mix breed male and female 1 month old. Interested kindly contact me at ms chai. thks.</td>\n",
       "      <td>20</td>\n",
       "      <td>NaN</td>\n",
       "    </tr>\n",
       "  </tbody>\n",
       "</table>\n",
       "</div>"
      ],
      "text/plain": [
       "                                                                                                                                                                                                                                                                                                                                                                                                                                                                                                                                                                                                                                                                                                                                                                                                                           Description  Quantity  AdoptionSpeed\n",
       "263                                                                                                                                                                                                                                                                                                                                                                                                                                                                                                                                                                                                                                           These are 20 puppies, from 2 stray mums need good homes. They are 2 weeks old. If you can give them a good home without caging or chaining, please whatsapp or msg Ms Grace Bong tel no:        20            4.0\n",
       "427                                                                                                                                                                                                                                                                                                                                                                                                                                                                                                                                                                                                                                                                                     Hi, kepada sesiapa yang berminat untuk adopt kucing-kucing sila hubungi saya . Di sini ada berbagai jenis kucing, dari short hair - long hair.        20            4.0\n",
       "1305                                                                                                                                                                                                                                                                                                                                                                                                                                                                                                                                                                                                                                                                                                                                     Bailey is an obedient and loyal dog Her owner is terminaaly ill and is unable to care for her        20            4.0\n",
       "1659                                                                                                                                                                                                                                  Hi feline lovers, There are 40 cats desperately seeking new homes before they are taken away from DBKL! This video link shows the lady who has been keeping these cats: Her neighbors seem to dislike cats, so they complained to DBKL. DBKL came to her house and told her to get rid of those cats. They'll be coming back to her house this Monday (6th February ) and she can only have 1 cat. DBKL will take the other cats and put them to sleep. She's looking for people who wants to adopt her cats and be their new owner. If you are interested, please contact Nicole at. Thank you.        20            2.0\n",
       "4759                                                                                                                                                                                                                                                                                                                                                      The owner of these babies (Makcik Ani) has passed away on Monday 3 July There are about 30 cats. Mostly rescued. Her husband (Pakcik Ali) cannot manage 30 cats all alone by himself as he is old already. All cats are fully indoor T&C: New adopters must be able to care for the cats financially & care for them wholeheartedly with lots of love and with patience because Allahyarhamah Makcik Ani loved all her cats unconditionally. Location: Section 17, Shah Alam        20            2.0\n",
       "6332                                                                                                                                                                                                                                                                                                                                                                                                                                                                                                                                                                                                                                                                                                                                                   DAISY IS SMART AND LOYAL HER OWNER IS TERMINALLY ILL AND UNABLE TO CARE FOR HER        20            4.0\n",
       "7094                                                                                                                                                                                                                                                                                                                                                                                                                                                                                                                                                                                                                                                                      SAYA ADA 20 LEBIH EKOR KUCING YANG TERPAKSA SAYA LEPASKAN SEBAB SAYA PERLU PINDAH TINGGAL DI KAMPUNG.Dalam gambar tu adalah separuh dari kucing yg saya ada.        20            4.0\n",
       "7993                                                                                                                                                                                                                                                                                                                                                                                                                                                                                                                                                                                                                                                                                                                            Iris owner is terminally ill and unable to care for her She is very approachable and caring in nature.        20            4.0\n",
       "9405                                                                                                                                                                                                                                                                                                                                                                                                                                                                                                                                                                                                                                                                                                                                            Mocha is a lovable and friendly dog Owner is terminally ill and unable to care for her        20            4.0\n",
       "9779                                                                                                                                                                                                                                                                                                                                                                                                                                                                                                                                                                                                                                                                                                                              Sasha is obedient and has good temperament Her owner is terminally ill and is unable to care for her        20            4.0\n",
       "12792  There are over 30 puppies in an abandon wooden house in Temiang, Seremban. Some neighbors are giving them clean water and their mother is trying to guard the house… The house is apparently attack by termite and the structure is in bad shape. According to the neighbor, the mothers will attack them if they get close to their puppies. In long run, it will going to bring a lot more problem to the neighborhood. The puppies will also in danger as the house condition is deteriorating. The puppies are adorable and look healthy.. Can anyone help to remove the puppies to a safe place please? They are at the following address: /A9, Jln Han Hui Foong, Temiang. Negeri Sembilan. Malaysia. It is at the wooden housing area behind SMK Tengku Ampuan Najihah, Temiang. Seremban.. Follow the road in front ...        20            3.0\n",
       "14583                                                                                                                                                                                                                                                                                                                                                                                                                                                                                                                                                                                                                                                                                                                                  He is a very energetic dog Unfortunately his owner is terminally ill and unable to care for him        20            1.0\n",
       "438                                                                                                                                                                                                                                                                                                                                                                                                                                                                                                                                                          Rescued ones around 3 months old are up for adoption. They are mischievous, absolutely charming, sweet and loving. They are well taken care by their amma. If you are patient with puppies and looking for a companion kindly contact us or visit our shelter. Thank you!        20            NaN\n",
       "463                                                                                                                                                                                                                                                                                                                                                                                                                                                                                                                                                      Rescued ones around 3 months old are up for adoption. They are mischievous, absolutely charming, sweet and loving. They are well taken care by their amma. If you are patient with puppies and looking for a companion kindly contact us at/ or visit our shelter. Thank you!        20            NaN\n",
       "642                                                                                                                                                                                                                                                                                                                                                                                                         Ebbi was going to be put down along with his siblings at the animal shelter as they were ill. After antibiotics and some TLC, he is running around the house chasing his siblings without a care in the world. He is the cheekiest kitten and loves attention. He has beautiful hazel eyes and likes playing with his toys, plastics bottles and empty candy wrappers. Hope to find a forever home for this playful kitty.        20            NaN\n",
       "2582                                                                                                                                                                                                                                                                                                                                                                                                                                                                                                                                                                                                                                        Saving one dog will not change the world, but surely for that one dog, the world will change forever. Please call Ms.Liza / Ms.Nancy / Ms.Jennie LOCATION : FURRYKIDS SAFAHAVEN (SEREMBAN)        20            NaN\n",
       "2919                                                                                                                                                                                                                                                                                                                                                                                                                                                                                                                                                                                                                                                                            Kajang Municipal is planning on putting 20 puppies to sleep. Anyone out there willingly to adopt the puppies, please Contact immediately SPCA Selangor        20            NaN\n",
       "2953                                                                                                                                                                                                                                                                                                                                                                                                                                                                                                                                                                                                                                                                                                                          Hi! I've 2 puppies mix breed male and female 1 month old. Interested kindly contact me at ms chai. thks.        20            NaN"
      ]
     },
     "execution_count": 48,
     "metadata": {},
     "output_type": "execute_result"
    }
   ],
   "source": [
    "pd.set_option('max_colwidth', 800)\n",
    "all_data.loc[all_data['Quantity'] > 19][['Description', 'Quantity', 'AdoptionSpeed']].head(20)"
   ]
  },
  {
   "cell_type": "markdown",
   "metadata": {},
   "source": [
    "It seems that some of the descriptions and the actual quantity listed is not always the same. Most of the pets that have a quantity of 20, seems to actually be one pet.\n",
    "\n",
    "Let's see if the length of a description influences the adoption speed."
   ]
  },
  {
   "cell_type": "code",
   "execution_count": 82,
   "metadata": {},
   "outputs": [
    {
     "data": {
      "text/plain": [
       "Text(0.5,1,'AdoptionSpeed by Type and count of words in description')"
      ]
     },
     "execution_count": 82,
     "metadata": {},
     "output_type": "execute_result"
    },
    {
     "data": {
      "image/png": "[encoded data removed]",
      "text/plain": [
       "<Figure size 1152x432 with 2 Axes>"
      ]
     },
     "metadata": {},
     "output_type": "display_data"
    }
   ],
   "source": [
    "all_data[\"Description\"] = all_data[\"Description\"].fillna(\"\")\n",
    "all_data[\"desc_length\"] = all_data[\"Description\"].apply(lambda x: len(x))\n",
    "all_data[\"desc_words\"] = all_data[\"Description\"].apply(lambda x: len(x.split()))\n",
    "\n",
    "plt.figure(figsize=(16, 6))\n",
    "plt.subplot(1, 2, 1)\n",
    "sns.violinplot(x=\"AdoptionSpeed\", y=\"desc_length\", hue=\"Animal_Type\", data=all_data)\n",
    "plt.title(\"AdoptionSpeed by Type and description length\")\n",
    "\n",
    "plt.subplot(1, 2, 2)\n",
    "sns.violinplot(x=\"AdoptionSpeed\", y=\"desc_words\", hue=\"Animal_Type\", data=all_data)\n",
    "plt.title(\"AdoptionSpeed by Type and count of words in description\")"
   ]
  },
  {
   "cell_type": "markdown",
   "metadata": {},
   "source": [
    "It seems that shorter descriptions lead to faster adoption, and especially on the case of dogs, the longer the description, the least likely to get adopted."
   ]
  },
  {
   "cell_type": "markdown",
   "metadata": {},
   "source": [
    "## Size of the pets "
   ]
  },
  {
   "cell_type": "markdown",
   "metadata": {},
   "source": [
    "Perhaps smaller dogs are more likely to get adopted, since larger dogs need more space. I would think size doesn't really matter when it comes to cats, but let's check it out.\n",
    "\n",
    "Maturity Sizes are 1 - Small, 2 - Medium, 3 - Large, 4 - Extra Large, 0 - Not Specified."
   ]
  },
  {
   "cell_type": "code",
   "execution_count": 32,
   "metadata": {},
   "outputs": [
    {
     "data": {
      "text/plain": [
       "<matplotlib.axes._subplots.AxesSubplot at 0x14813218c18>"
      ]
     },
     "execution_count": 32,
     "metadata": {},
     "output_type": "execute_result"
    },
    {
     "data": {
      "image/png": "[encoded data removed]",
      "text/plain": [
       "<Figure size 576x360 with 1 Axes>"
      ]
     },
     "metadata": {
      "needs_background": "light"
     },
     "output_type": "display_data"
    }
   ],
   "source": [
    "plt.figure(figsize=(8,5))\n",
    "sns.countplot(x = \"MaturitySize\", hue = \"Animal_Type\", data = all_data)"
   ]
  },
  {
   "cell_type": "markdown",
   "metadata": {},
   "source": [
    "Most dogs and cats are medium sized, and there aren't any cases where we have no data on the size. So let's check out the distribution."
   ]
  },
  {
   "cell_type": "code",
   "execution_count": 62,
   "metadata": {},
   "outputs": [
    {
     "data": {
      "text/plain": [
       "<matplotlib.axes._subplots.AxesSubplot at 0x14814105588>"
      ]
     },
     "execution_count": 62,
     "metadata": {},
     "output_type": "execute_result"
    },
    {
     "data": {
      "image/png": "[encoded data removed]",
      "text/plain": [
       "<Figure size 576x360 with 1 Axes>"
      ]
     },
     "metadata": {
      "needs_background": "light"
     },
     "output_type": "display_data"
    }
   ],
   "source": [
    "plt.figure(figsize=(8,5))\n",
    "sns.boxenplot(x = \"MaturitySize\", y = \"AdoptionSpeed\", hue = \"Animal_Type\", data = all_data)"
   ]
  },
  {
   "cell_type": "markdown",
   "metadata": {},
   "source": [
    "Looks like smaller dogs are adopted quicker than their larger counterparts, and small cats are definitely the most popular size.\n",
    "It seems that there are no cases where the extra large dogs don't get adopted, so let's investigate that group and the unspecified size group.\n"
   ]
  },
  {
   "cell_type": "code",
   "execution_count": 63,
   "metadata": {},
   "outputs": [
    {
     "data": {
      "text/html": [
       "<div>\n",
       "<style scoped>\n",
       "    .dataframe tbody tr th:only-of-type {\n",
       "        vertical-align: middle;\n",
       "    }\n",
       "\n",
       "    .dataframe tbody tr th {\n",
       "        vertical-align: top;\n",
       "    }\n",
       "\n",
       "    .dataframe thead th {\n",
       "        text-align: right;\n",
       "    }\n",
       "</style>\n",
       "<table border=\"1\" class=\"dataframe\">\n",
       "  <thead>\n",
       "    <tr style=\"text-align: right;\">\n",
       "      <th></th>\n",
       "      <th>AdoptionSpeed</th>\n",
       "      <th>Age</th>\n",
       "      <th>Breed1</th>\n",
       "      <th>Breed2</th>\n",
       "      <th>Color1</th>\n",
       "      <th>Color2</th>\n",
       "      <th>Color3</th>\n",
       "      <th>DataType</th>\n",
       "      <th>Description</th>\n",
       "      <th>Dewormed</th>\n",
       "      <th>...</th>\n",
       "      <th>Quantity</th>\n",
       "      <th>RescuerID</th>\n",
       "      <th>State</th>\n",
       "      <th>Sterilized</th>\n",
       "      <th>Type</th>\n",
       "      <th>Vaccinated</th>\n",
       "      <th>VideoAmt</th>\n",
       "      <th>Animal_Type</th>\n",
       "      <th>Unnamed</th>\n",
       "      <th>MixedBreed</th>\n",
       "    </tr>\n",
       "  </thead>\n",
       "  <tbody>\n",
       "  </tbody>\n",
       "</table>\n",
       "<p>0 rows × 28 columns</p>\n",
       "</div>"
      ],
      "text/plain": [
       "Empty DataFrame\n",
       "Columns: [AdoptionSpeed, Age, Breed1, Breed2, Color1, Color2, Color3, DataType, Description, Dewormed, Fee, FurLength, Gender, Health, MaturitySize, Name, PetID, PhotoAmt, Quantity, RescuerID, State, Sterilized, Type, Vaccinated, VideoAmt, Animal_Type, Unnamed, MixedBreed]\n",
       "Index: []\n",
       "\n",
       "[0 rows x 28 columns]"
      ]
     },
     "execution_count": 63,
     "metadata": {},
     "output_type": "execute_result"
    }
   ],
   "source": [
    "all_data[all_data[\"MaturitySize\"] == 0]\n",
    "\n",
    "# There are no casesn where we don't have a maturity size (Yay!)"
   ]
  },
  {
   "cell_type": "code",
   "execution_count": 64,
   "metadata": {},
   "outputs": [
    {
     "data": {
      "text/html": [
       "<div>\n",
       "<style scoped>\n",
       "    .dataframe tbody tr th:only-of-type {\n",
       "        vertical-align: middle;\n",
       "    }\n",
       "\n",
       "    .dataframe tbody tr th {\n",
       "        vertical-align: top;\n",
       "    }\n",
       "\n",
       "    .dataframe thead th {\n",
       "        text-align: right;\n",
       "    }\n",
       "</style>\n",
       "<table border=\"1\" class=\"dataframe\">\n",
       "  <thead>\n",
       "    <tr style=\"text-align: right;\">\n",
       "      <th></th>\n",
       "      <th>AdoptionSpeed</th>\n",
       "      <th>Age</th>\n",
       "      <th>Breed1</th>\n",
       "      <th>Breed2</th>\n",
       "      <th>Color1</th>\n",
       "      <th>Color2</th>\n",
       "      <th>Color3</th>\n",
       "      <th>DataType</th>\n",
       "      <th>Description</th>\n",
       "      <th>Dewormed</th>\n",
       "      <th>...</th>\n",
       "      <th>Quantity</th>\n",
       "      <th>RescuerID</th>\n",
       "      <th>State</th>\n",
       "      <th>Sterilized</th>\n",
       "      <th>Type</th>\n",
       "      <th>Vaccinated</th>\n",
       "      <th>VideoAmt</th>\n",
       "      <th>Animal_Type</th>\n",
       "      <th>Unnamed</th>\n",
       "      <th>MixedBreed</th>\n",
       "    </tr>\n",
       "  </thead>\n",
       "  <tbody>\n",
       "    <tr>\n",
       "      <th>1265</th>\n",
       "      <td>1.0</td>\n",
       "      <td>12</td>\n",
       "      <td>Great Dane</td>\n",
       "      <td>None</td>\n",
       "      <td>1</td>\n",
       "      <td>0</td>\n",
       "      <td>0</td>\n",
       "      <td>training_data</td>\n",
       "      <td>Oreo Female Great Dane 1 year old</td>\n",
       "      <td>1</td>\n",
       "      <td>...</td>\n",
       "      <td>1</td>\n",
       "      <td>b3b9d092e0cced7bb066e65e6793f527</td>\n",
       "      <td>41326</td>\n",
       "      <td>1</td>\n",
       "      <td>1</td>\n",
       "      <td>1</td>\n",
       "      <td>0</td>\n",
       "      <td>Dog</td>\n",
       "      <td>0</td>\n",
       "      <td>0</td>\n",
       "    </tr>\n",
       "    <tr>\n",
       "      <th>1899</th>\n",
       "      <td>2.0</td>\n",
       "      <td>36</td>\n",
       "      <td>Bullmastiff</td>\n",
       "      <td>Rottweiler</td>\n",
       "      <td>1</td>\n",
       "      <td>2</td>\n",
       "      <td>0</td>\n",
       "      <td>training_data</td>\n",
       "      <td>Ali (named after the boxer Mohammad Ali) has a...</td>\n",
       "      <td>1</td>\n",
       "      <td>...</td>\n",
       "      <td>1</td>\n",
       "      <td>aa66486163b6cbc25ea62a34b11c9b91</td>\n",
       "      <td>41326</td>\n",
       "      <td>2</td>\n",
       "      <td>1</td>\n",
       "      <td>1</td>\n",
       "      <td>0</td>\n",
       "      <td>Dog</td>\n",
       "      <td>0</td>\n",
       "      <td>1</td>\n",
       "    </tr>\n",
       "    <tr>\n",
       "      <th>2461</th>\n",
       "      <td>2.0</td>\n",
       "      <td>36</td>\n",
       "      <td>Saint Bernard</td>\n",
       "      <td>None</td>\n",
       "      <td>1</td>\n",
       "      <td>2</td>\n",
       "      <td>7</td>\n",
       "      <td>training_data</td>\n",
       "      <td>Owner bought him from a pet shop and was told ...</td>\n",
       "      <td>1</td>\n",
       "      <td>...</td>\n",
       "      <td>1</td>\n",
       "      <td>fa90fa5b1ee11c86938398b60abc32cb</td>\n",
       "      <td>41326</td>\n",
       "      <td>2</td>\n",
       "      <td>1</td>\n",
       "      <td>1</td>\n",
       "      <td>0</td>\n",
       "      <td>Dog</td>\n",
       "      <td>0</td>\n",
       "      <td>0</td>\n",
       "    </tr>\n",
       "    <tr>\n",
       "      <th>2514</th>\n",
       "      <td>2.0</td>\n",
       "      <td>4</td>\n",
       "      <td>Domestic Short Hair</td>\n",
       "      <td>None</td>\n",
       "      <td>1</td>\n",
       "      <td>6</td>\n",
       "      <td>0</td>\n",
       "      <td>training_data</td>\n",
       "      <td>-</td>\n",
       "      <td>2</td>\n",
       "      <td>...</td>\n",
       "      <td>1</td>\n",
       "      <td>5be13320d12dc6478d94268d6e103e56</td>\n",
       "      <td>41401</td>\n",
       "      <td>2</td>\n",
       "      <td>2</td>\n",
       "      <td>2</td>\n",
       "      <td>0</td>\n",
       "      <td>Cat</td>\n",
       "      <td>1</td>\n",
       "      <td>1</td>\n",
       "    </tr>\n",
       "    <tr>\n",
       "      <th>2523</th>\n",
       "      <td>3.0</td>\n",
       "      <td>72</td>\n",
       "      <td>Rottweiler</td>\n",
       "      <td>None</td>\n",
       "      <td>1</td>\n",
       "      <td>2</td>\n",
       "      <td>0</td>\n",
       "      <td>training_data</td>\n",
       "      <td>Rotti girl with MKA certificate looking for a ...</td>\n",
       "      <td>3</td>\n",
       "      <td>...</td>\n",
       "      <td>1</td>\n",
       "      <td>fa90fa5b1ee11c86938398b60abc32cb</td>\n",
       "      <td>41326</td>\n",
       "      <td>1</td>\n",
       "      <td>1</td>\n",
       "      <td>3</td>\n",
       "      <td>0</td>\n",
       "      <td>Dog</td>\n",
       "      <td>0</td>\n",
       "      <td>0</td>\n",
       "    </tr>\n",
       "    <tr>\n",
       "      <th>2738</th>\n",
       "      <td>1.0</td>\n",
       "      <td>18</td>\n",
       "      <td>Rottweiler</td>\n",
       "      <td>None</td>\n",
       "      <td>1</td>\n",
       "      <td>2</td>\n",
       "      <td>0</td>\n",
       "      <td>training_data</td>\n",
       "      <td>Pure breed Rottweiler rescued fr breeder. Alre...</td>\n",
       "      <td>1</td>\n",
       "      <td>...</td>\n",
       "      <td>1</td>\n",
       "      <td>fa90fa5b1ee11c86938398b60abc32cb</td>\n",
       "      <td>41326</td>\n",
       "      <td>1</td>\n",
       "      <td>1</td>\n",
       "      <td>1</td>\n",
       "      <td>0</td>\n",
       "      <td>Dog</td>\n",
       "      <td>0</td>\n",
       "      <td>0</td>\n",
       "    </tr>\n",
       "    <tr>\n",
       "      <th>3157</th>\n",
       "      <td>3.0</td>\n",
       "      <td>36</td>\n",
       "      <td>Golden Retriever</td>\n",
       "      <td>Mixed Breed</td>\n",
       "      <td>3</td>\n",
       "      <td>0</td>\n",
       "      <td>0</td>\n",
       "      <td>training_data</td>\n",
       "      <td>Owner cannot keep him anymore due to council r...</td>\n",
       "      <td>1</td>\n",
       "      <td>...</td>\n",
       "      <td>1</td>\n",
       "      <td>fa90fa5b1ee11c86938398b60abc32cb</td>\n",
       "      <td>41326</td>\n",
       "      <td>1</td>\n",
       "      <td>1</td>\n",
       "      <td>1</td>\n",
       "      <td>0</td>\n",
       "      <td>Dog</td>\n",
       "      <td>0</td>\n",
       "      <td>1</td>\n",
       "    </tr>\n",
       "    <tr>\n",
       "      <th>3558</th>\n",
       "      <td>2.0</td>\n",
       "      <td>13</td>\n",
       "      <td>Doberman Pinscher</td>\n",
       "      <td>None</td>\n",
       "      <td>1</td>\n",
       "      <td>2</td>\n",
       "      <td>0</td>\n",
       "      <td>training_data</td>\n",
       "      <td>He is very playful, alert, energetic, smart an...</td>\n",
       "      <td>1</td>\n",
       "      <td>...</td>\n",
       "      <td>1</td>\n",
       "      <td>ac8608c9cc3c828c4b5a44a7e6002cbe</td>\n",
       "      <td>41326</td>\n",
       "      <td>2</td>\n",
       "      <td>1</td>\n",
       "      <td>1</td>\n",
       "      <td>0</td>\n",
       "      <td>Dog</td>\n",
       "      <td>0</td>\n",
       "      <td>0</td>\n",
       "    </tr>\n",
       "    <tr>\n",
       "      <th>4706</th>\n",
       "      <td>3.0</td>\n",
       "      <td>12</td>\n",
       "      <td>Great Dane</td>\n",
       "      <td>None</td>\n",
       "      <td>1</td>\n",
       "      <td>0</td>\n",
       "      <td>0</td>\n",
       "      <td>training_data</td>\n",
       "      <td>She is a pure Great Dane. Black in colour. I a...</td>\n",
       "      <td>1</td>\n",
       "      <td>...</td>\n",
       "      <td>1</td>\n",
       "      <td>64cab7e12961c2929700559615bc8488</td>\n",
       "      <td>41401</td>\n",
       "      <td>2</td>\n",
       "      <td>1</td>\n",
       "      <td>1</td>\n",
       "      <td>0</td>\n",
       "      <td>Dog</td>\n",
       "      <td>0</td>\n",
       "      <td>0</td>\n",
       "    </tr>\n",
       "    <tr>\n",
       "      <th>5571</th>\n",
       "      <td>0.0</td>\n",
       "      <td>1</td>\n",
       "      <td>Maine Coon</td>\n",
       "      <td>Bobtail</td>\n",
       "      <td>1</td>\n",
       "      <td>7</td>\n",
       "      <td>0</td>\n",
       "      <td>training_data</td>\n",
       "      <td>He is a very active and lovable kitten (about ...</td>\n",
       "      <td>1</td>\n",
       "      <td>...</td>\n",
       "      <td>1</td>\n",
       "      <td>3554aa44f8737bf17937be3b8231a79a</td>\n",
       "      <td>41401</td>\n",
       "      <td>2</td>\n",
       "      <td>2</td>\n",
       "      <td>2</td>\n",
       "      <td>2</td>\n",
       "      <td>Cat</td>\n",
       "      <td>0</td>\n",
       "      <td>1</td>\n",
       "    </tr>\n",
       "    <tr>\n",
       "      <th>5781</th>\n",
       "      <td>3.0</td>\n",
       "      <td>30</td>\n",
       "      <td>Tabby</td>\n",
       "      <td>None</td>\n",
       "      <td>3</td>\n",
       "      <td>4</td>\n",
       "      <td>7</td>\n",
       "      <td>training_data</td>\n",
       "      <td>This is Jasper.I have had him for almost 3 yea...</td>\n",
       "      <td>1</td>\n",
       "      <td>...</td>\n",
       "      <td>1</td>\n",
       "      <td>2f9ab0afc00c24daefed36cd88224ffa</td>\n",
       "      <td>41326</td>\n",
       "      <td>1</td>\n",
       "      <td>2</td>\n",
       "      <td>1</td>\n",
       "      <td>0</td>\n",
       "      <td>Cat</td>\n",
       "      <td>0</td>\n",
       "      <td>0</td>\n",
       "    </tr>\n",
       "    <tr>\n",
       "      <th>6007</th>\n",
       "      <td>2.0</td>\n",
       "      <td>48</td>\n",
       "      <td>German Shepherd Dog</td>\n",
       "      <td>None</td>\n",
       "      <td>2</td>\n",
       "      <td>0</td>\n",
       "      <td>0</td>\n",
       "      <td>training_data</td>\n",
       "      <td>Summer's owner, an elderly man passed away rec...</td>\n",
       "      <td>1</td>\n",
       "      <td>...</td>\n",
       "      <td>1</td>\n",
       "      <td>d21f689eab9b3faa1b738ecc836b4b36</td>\n",
       "      <td>41326</td>\n",
       "      <td>2</td>\n",
       "      <td>1</td>\n",
       "      <td>1</td>\n",
       "      <td>0</td>\n",
       "      <td>Dog</td>\n",
       "      <td>0</td>\n",
       "      <td>0</td>\n",
       "    </tr>\n",
       "    <tr>\n",
       "      <th>6712</th>\n",
       "      <td>3.0</td>\n",
       "      <td>30</td>\n",
       "      <td>Tabby</td>\n",
       "      <td>Domestic Medium Hair</td>\n",
       "      <td>5</td>\n",
       "      <td>0</td>\n",
       "      <td>0</td>\n",
       "      <td>training_data</td>\n",
       "      <td>This pet was fostered to me by the owner who w...</td>\n",
       "      <td>1</td>\n",
       "      <td>...</td>\n",
       "      <td>1</td>\n",
       "      <td>a1f1fbe3d5eccf487464c3cc2f4a3df6</td>\n",
       "      <td>41326</td>\n",
       "      <td>1</td>\n",
       "      <td>2</td>\n",
       "      <td>1</td>\n",
       "      <td>0</td>\n",
       "      <td>Cat</td>\n",
       "      <td>0</td>\n",
       "      <td>1</td>\n",
       "    </tr>\n",
       "    <tr>\n",
       "      <th>6899</th>\n",
       "      <td>2.0</td>\n",
       "      <td>3</td>\n",
       "      <td>Mixed Breed</td>\n",
       "      <td>Mixed Breed</td>\n",
       "      <td>2</td>\n",
       "      <td>0</td>\n",
       "      <td>0</td>\n",
       "      <td>training_data</td>\n",
       "      <td>FOR serious adopters only! If you are interest...</td>\n",
       "      <td>1</td>\n",
       "      <td>...</td>\n",
       "      <td>6</td>\n",
       "      <td>3b074cadd2350de62dca7056b9bab6f4</td>\n",
       "      <td>41326</td>\n",
       "      <td>2</td>\n",
       "      <td>1</td>\n",
       "      <td>1</td>\n",
       "      <td>0</td>\n",
       "      <td>Dog</td>\n",
       "      <td>0</td>\n",
       "      <td>1</td>\n",
       "    </tr>\n",
       "    <tr>\n",
       "      <th>7692</th>\n",
       "      <td>2.0</td>\n",
       "      <td>24</td>\n",
       "      <td>Doberman Pinscher</td>\n",
       "      <td>None</td>\n",
       "      <td>2</td>\n",
       "      <td>0</td>\n",
       "      <td>0</td>\n",
       "      <td>training_data</td>\n",
       "      <td>Luca was abandoned by her owner and rescued fr...</td>\n",
       "      <td>1</td>\n",
       "      <td>...</td>\n",
       "      <td>1</td>\n",
       "      <td>aa66486163b6cbc25ea62a34b11c9b91</td>\n",
       "      <td>41326</td>\n",
       "      <td>1</td>\n",
       "      <td>1</td>\n",
       "      <td>1</td>\n",
       "      <td>0</td>\n",
       "      <td>Dog</td>\n",
       "      <td>0</td>\n",
       "      <td>0</td>\n",
       "    </tr>\n",
       "    <tr>\n",
       "      <th>7854</th>\n",
       "      <td>2.0</td>\n",
       "      <td>36</td>\n",
       "      <td>German Shepherd Dog</td>\n",
       "      <td>None</td>\n",
       "      <td>1</td>\n",
       "      <td>2</td>\n",
       "      <td>0</td>\n",
       "      <td>training_data</td>\n",
       "      <td>Lady was found lost in Taman Tun. She is a fri...</td>\n",
       "      <td>3</td>\n",
       "      <td>...</td>\n",
       "      <td>1</td>\n",
       "      <td>aa66486163b6cbc25ea62a34b11c9b91</td>\n",
       "      <td>41326</td>\n",
       "      <td>3</td>\n",
       "      <td>1</td>\n",
       "      <td>3</td>\n",
       "      <td>0</td>\n",
       "      <td>Dog</td>\n",
       "      <td>0</td>\n",
       "      <td>0</td>\n",
       "    </tr>\n",
       "    <tr>\n",
       "      <th>8148</th>\n",
       "      <td>1.0</td>\n",
       "      <td>37</td>\n",
       "      <td>Great Dane</td>\n",
       "      <td>Mixed Breed</td>\n",
       "      <td>1</td>\n",
       "      <td>2</td>\n",
       "      <td>7</td>\n",
       "      <td>training_data</td>\n",
       "      <td>YaabbaaadaabaaaDooooo!!! I look like Scooby Do...</td>\n",
       "      <td>1</td>\n",
       "      <td>...</td>\n",
       "      <td>1</td>\n",
       "      <td>6f40a7acfad5cc0bb3e44591ea446c05</td>\n",
       "      <td>41326</td>\n",
       "      <td>1</td>\n",
       "      <td>1</td>\n",
       "      <td>1</td>\n",
       "      <td>0</td>\n",
       "      <td>Dog</td>\n",
       "      <td>0</td>\n",
       "      <td>1</td>\n",
       "    </tr>\n",
       "    <tr>\n",
       "      <th>8184</th>\n",
       "      <td>0.0</td>\n",
       "      <td>12</td>\n",
       "      <td>Domestic Short Hair</td>\n",
       "      <td>None</td>\n",
       "      <td>1</td>\n",
       "      <td>7</td>\n",
       "      <td>0</td>\n",
       "      <td>training_data</td>\n",
       "      <td>Hi! If you are a Cat Lover &amp; u need a friendly...</td>\n",
       "      <td>1</td>\n",
       "      <td>...</td>\n",
       "      <td>1</td>\n",
       "      <td>1baad21cc721ce5bc2bd13dd4c4ba4f6</td>\n",
       "      <td>41401</td>\n",
       "      <td>1</td>\n",
       "      <td>2</td>\n",
       "      <td>1</td>\n",
       "      <td>0</td>\n",
       "      <td>Cat</td>\n",
       "      <td>0</td>\n",
       "      <td>1</td>\n",
       "    </tr>\n",
       "    <tr>\n",
       "      <th>8316</th>\n",
       "      <td>2.0</td>\n",
       "      <td>24</td>\n",
       "      <td>Rottweiler</td>\n",
       "      <td>None</td>\n",
       "      <td>1</td>\n",
       "      <td>0</td>\n",
       "      <td>0</td>\n",
       "      <td>training_data</td>\n",
       "      <td>Brian is a rescued Rottie. Brian has good temp...</td>\n",
       "      <td>1</td>\n",
       "      <td>...</td>\n",
       "      <td>1</td>\n",
       "      <td>583c3f4646373188b58dc42ca653eec5</td>\n",
       "      <td>41330</td>\n",
       "      <td>1</td>\n",
       "      <td>1</td>\n",
       "      <td>1</td>\n",
       "      <td>0</td>\n",
       "      <td>Dog</td>\n",
       "      <td>0</td>\n",
       "      <td>0</td>\n",
       "    </tr>\n",
       "    <tr>\n",
       "      <th>8381</th>\n",
       "      <td>3.0</td>\n",
       "      <td>2</td>\n",
       "      <td>Belgian Shepherd Malinois</td>\n",
       "      <td>Mixed Breed</td>\n",
       "      <td>1</td>\n",
       "      <td>2</td>\n",
       "      <td>0</td>\n",
       "      <td>training_data</td>\n",
       "      <td>Healthy and adorable puppy looking for a foeve...</td>\n",
       "      <td>1</td>\n",
       "      <td>...</td>\n",
       "      <td>1</td>\n",
       "      <td>fa90fa5b1ee11c86938398b60abc32cb</td>\n",
       "      <td>41326</td>\n",
       "      <td>2</td>\n",
       "      <td>1</td>\n",
       "      <td>1</td>\n",
       "      <td>0</td>\n",
       "      <td>Dog</td>\n",
       "      <td>0</td>\n",
       "      <td>1</td>\n",
       "    </tr>\n",
       "    <tr>\n",
       "      <th>8457</th>\n",
       "      <td>3.0</td>\n",
       "      <td>36</td>\n",
       "      <td>Norwegian Forest Cat</td>\n",
       "      <td>Domestic Long Hair</td>\n",
       "      <td>1</td>\n",
       "      <td>2</td>\n",
       "      <td>0</td>\n",
       "      <td>training_data</td>\n",
       "      <td>This is an unseparable Yin Yang twin.The darke...</td>\n",
       "      <td>1</td>\n",
       "      <td>...</td>\n",
       "      <td>2</td>\n",
       "      <td>0da7e531122f0b230973130fab2e076f</td>\n",
       "      <td>41326</td>\n",
       "      <td>1</td>\n",
       "      <td>2</td>\n",
       "      <td>1</td>\n",
       "      <td>0</td>\n",
       "      <td>Cat</td>\n",
       "      <td>0</td>\n",
       "      <td>1</td>\n",
       "    </tr>\n",
       "    <tr>\n",
       "      <th>8754</th>\n",
       "      <td>3.0</td>\n",
       "      <td>84</td>\n",
       "      <td>German Shepherd Dog</td>\n",
       "      <td>None</td>\n",
       "      <td>1</td>\n",
       "      <td>2</td>\n",
       "      <td>0</td>\n",
       "      <td>training_data</td>\n",
       "      <td>7 year old German Shepherd is looking for a ho...</td>\n",
       "      <td>1</td>\n",
       "      <td>...</td>\n",
       "      <td>1</td>\n",
       "      <td>88a21c30883ab70a93e09035e0a9a754</td>\n",
       "      <td>41326</td>\n",
       "      <td>2</td>\n",
       "      <td>1</td>\n",
       "      <td>1</td>\n",
       "      <td>0</td>\n",
       "      <td>Dog</td>\n",
       "      <td>0</td>\n",
       "      <td>0</td>\n",
       "    </tr>\n",
       "    <tr>\n",
       "      <th>9707</th>\n",
       "      <td>4.0</td>\n",
       "      <td>28</td>\n",
       "      <td>Maine Coon</td>\n",
       "      <td>None</td>\n",
       "      <td>4</td>\n",
       "      <td>6</td>\n",
       "      <td>7</td>\n",
       "      <td>training_data</td>\n",
       "      <td>My beautiful boy &amp; girl are really playful and...</td>\n",
       "      <td>1</td>\n",
       "      <td>...</td>\n",
       "      <td>2</td>\n",
       "      <td>e166ba56435e4b61917bf3472027d266</td>\n",
       "      <td>41342</td>\n",
       "      <td>2</td>\n",
       "      <td>2</td>\n",
       "      <td>1</td>\n",
       "      <td>0</td>\n",
       "      <td>Cat</td>\n",
       "      <td>0</td>\n",
       "      <td>0</td>\n",
       "    </tr>\n",
       "    <tr>\n",
       "      <th>10413</th>\n",
       "      <td>2.0</td>\n",
       "      <td>7</td>\n",
       "      <td>Husky</td>\n",
       "      <td>None</td>\n",
       "      <td>6</td>\n",
       "      <td>7</td>\n",
       "      <td>0</td>\n",
       "      <td>training_data</td>\n",
       "      <td>healthy husky looking for new owner previous w...</td>\n",
       "      <td>1</td>\n",
       "      <td>...</td>\n",
       "      <td>1</td>\n",
       "      <td>eea6701183b241e5a8e429c3b7e3831a</td>\n",
       "      <td>41326</td>\n",
       "      <td>3</td>\n",
       "      <td>1</td>\n",
       "      <td>1</td>\n",
       "      <td>0</td>\n",
       "      <td>Dog</td>\n",
       "      <td>0</td>\n",
       "      <td>0</td>\n",
       "    </tr>\n",
       "    <tr>\n",
       "      <th>10737</th>\n",
       "      <td>2.0</td>\n",
       "      <td>120</td>\n",
       "      <td>German Shepherd Dog</td>\n",
       "      <td>None</td>\n",
       "      <td>1</td>\n",
       "      <td>2</td>\n",
       "      <td>0</td>\n",
       "      <td>training_data</td>\n",
       "      <td>Pony was nicknamed due to his large size that ...</td>\n",
       "      <td>3</td>\n",
       "      <td>...</td>\n",
       "      <td>1</td>\n",
       "      <td>aa66486163b6cbc25ea62a34b11c9b91</td>\n",
       "      <td>41326</td>\n",
       "      <td>2</td>\n",
       "      <td>1</td>\n",
       "      <td>3</td>\n",
       "      <td>0</td>\n",
       "      <td>Dog</td>\n",
       "      <td>0</td>\n",
       "      <td>0</td>\n",
       "    </tr>\n",
       "    <tr>\n",
       "      <th>11262</th>\n",
       "      <td>1.0</td>\n",
       "      <td>24</td>\n",
       "      <td>Persian</td>\n",
       "      <td>None</td>\n",
       "      <td>4</td>\n",
       "      <td>0</td>\n",
       "      <td>0</td>\n",
       "      <td>training_data</td>\n",
       "      <td>Zuba is 2 yrs old. Male, neutered. He is a ver...</td>\n",
       "      <td>1</td>\n",
       "      <td>...</td>\n",
       "      <td>1</td>\n",
       "      <td>001e42763024f9d4abe31e79472b1827</td>\n",
       "      <td>41326</td>\n",
       "      <td>1</td>\n",
       "      <td>2</td>\n",
       "      <td>1</td>\n",
       "      <td>0</td>\n",
       "      <td>Cat</td>\n",
       "      <td>0</td>\n",
       "      <td>0</td>\n",
       "    </tr>\n",
       "    <tr>\n",
       "      <th>11338</th>\n",
       "      <td>1.0</td>\n",
       "      <td>24</td>\n",
       "      <td>Rottweiler</td>\n",
       "      <td>None</td>\n",
       "      <td>1</td>\n",
       "      <td>2</td>\n",
       "      <td>0</td>\n",
       "      <td>training_data</td>\n",
       "      <td>Pure breed Rottweiler rescued fr breeder. Alrd...</td>\n",
       "      <td>1</td>\n",
       "      <td>...</td>\n",
       "      <td>1</td>\n",
       "      <td>fa90fa5b1ee11c86938398b60abc32cb</td>\n",
       "      <td>41326</td>\n",
       "      <td>1</td>\n",
       "      <td>1</td>\n",
       "      <td>1</td>\n",
       "      <td>0</td>\n",
       "      <td>Dog</td>\n",
       "      <td>0</td>\n",
       "      <td>0</td>\n",
       "    </tr>\n",
       "    <tr>\n",
       "      <th>11745</th>\n",
       "      <td>1.0</td>\n",
       "      <td>3</td>\n",
       "      <td>Belgian Shepherd Malinois</td>\n",
       "      <td>None</td>\n",
       "      <td>2</td>\n",
       "      <td>0</td>\n",
       "      <td>0</td>\n",
       "      <td>training_data</td>\n",
       "      <td>Pure breed German Shepherd puppy up for adopti...</td>\n",
       "      <td>3</td>\n",
       "      <td>...</td>\n",
       "      <td>1</td>\n",
       "      <td>d581d43be85c983e9b95a2eaaf0d7a8d</td>\n",
       "      <td>41336</td>\n",
       "      <td>2</td>\n",
       "      <td>1</td>\n",
       "      <td>1</td>\n",
       "      <td>0</td>\n",
       "      <td>Dog</td>\n",
       "      <td>0</td>\n",
       "      <td>0</td>\n",
       "    </tr>\n",
       "    <tr>\n",
       "      <th>11854</th>\n",
       "      <td>3.0</td>\n",
       "      <td>24</td>\n",
       "      <td>Mixed Breed</td>\n",
       "      <td>None</td>\n",
       "      <td>1</td>\n",
       "      <td>0</td>\n",
       "      <td>0</td>\n",
       "      <td>training_data</td>\n",
       "      <td>Please Take Me Home! I am adorable, playful, s...</td>\n",
       "      <td>3</td>\n",
       "      <td>...</td>\n",
       "      <td>1</td>\n",
       "      <td>5a8f57e5d539293689e9b7514fdbf3dc</td>\n",
       "      <td>41401</td>\n",
       "      <td>3</td>\n",
       "      <td>1</td>\n",
       "      <td>3</td>\n",
       "      <td>0</td>\n",
       "      <td>Dog</td>\n",
       "      <td>0</td>\n",
       "      <td>1</td>\n",
       "    </tr>\n",
       "    <tr>\n",
       "      <th>12366</th>\n",
       "      <td>3.0</td>\n",
       "      <td>24</td>\n",
       "      <td>Siamese</td>\n",
       "      <td>None</td>\n",
       "      <td>1</td>\n",
       "      <td>7</td>\n",
       "      <td>0</td>\n",
       "      <td>training_data</td>\n",
       "      <td>Tom: Male, 2 years old, Siamese Breed, Born in...</td>\n",
       "      <td>1</td>\n",
       "      <td>...</td>\n",
       "      <td>1</td>\n",
       "      <td>c6f77cef8408090fe952cd88d01be7d4</td>\n",
       "      <td>41326</td>\n",
       "      <td>2</td>\n",
       "      <td>2</td>\n",
       "      <td>1</td>\n",
       "      <td>0</td>\n",
       "      <td>Cat</td>\n",
       "      <td>0</td>\n",
       "      <td>0</td>\n",
       "    </tr>\n",
       "    <tr>\n",
       "      <th>13618</th>\n",
       "      <td>4.0</td>\n",
       "      <td>60</td>\n",
       "      <td>Tabby</td>\n",
       "      <td>None</td>\n",
       "      <td>1</td>\n",
       "      <td>2</td>\n",
       "      <td>5</td>\n",
       "      <td>training_data</td>\n",
       "      <td>Garcia is my second oldest and a big boy. Hes ...</td>\n",
       "      <td>1</td>\n",
       "      <td>...</td>\n",
       "      <td>3</td>\n",
       "      <td>4f7b591fb04c1ee856472ca07e1dcbcf</td>\n",
       "      <td>41401</td>\n",
       "      <td>1</td>\n",
       "      <td>2</td>\n",
       "      <td>1</td>\n",
       "      <td>0</td>\n",
       "      <td>Cat</td>\n",
       "      <td>0</td>\n",
       "      <td>0</td>\n",
       "    </tr>\n",
       "    <tr>\n",
       "      <th>14005</th>\n",
       "      <td>1.0</td>\n",
       "      <td>3</td>\n",
       "      <td>Saint Bernard</td>\n",
       "      <td>None</td>\n",
       "      <td>1</td>\n",
       "      <td>7</td>\n",
       "      <td>0</td>\n",
       "      <td>training_data</td>\n",
       "      <td>Someone dropped off this mix Saint Bernard to ...</td>\n",
       "      <td>2</td>\n",
       "      <td>...</td>\n",
       "      <td>1</td>\n",
       "      <td>9e998c258ac0e00e14278682389220b6</td>\n",
       "      <td>41324</td>\n",
       "      <td>2</td>\n",
       "      <td>1</td>\n",
       "      <td>1</td>\n",
       "      <td>0</td>\n",
       "      <td>Dog</td>\n",
       "      <td>0</td>\n",
       "      <td>0</td>\n",
       "    </tr>\n",
       "    <tr>\n",
       "      <th>14043</th>\n",
       "      <td>4.0</td>\n",
       "      <td>96</td>\n",
       "      <td>Russian Blue</td>\n",
       "      <td>None</td>\n",
       "      <td>6</td>\n",
       "      <td>0</td>\n",
       "      <td>0</td>\n",
       "      <td>training_data</td>\n",
       "      <td>Russia is such an affectionate female cat with...</td>\n",
       "      <td>1</td>\n",
       "      <td>...</td>\n",
       "      <td>3</td>\n",
       "      <td>4f7b591fb04c1ee856472ca07e1dcbcf</td>\n",
       "      <td>41401</td>\n",
       "      <td>1</td>\n",
       "      <td>2</td>\n",
       "      <td>1</td>\n",
       "      <td>0</td>\n",
       "      <td>Cat</td>\n",
       "      <td>0</td>\n",
       "      <td>0</td>\n",
       "    </tr>\n",
       "  </tbody>\n",
       "</table>\n",
       "<p>33 rows × 28 columns</p>\n",
       "</div>"
      ],
      "text/plain": [
       "       AdoptionSpeed  Age                     Breed1                Breed2  \\\n",
       "1265             1.0   12                 Great Dane                  None   \n",
       "1899             2.0   36                Bullmastiff            Rottweiler   \n",
       "2461             2.0   36              Saint Bernard                  None   \n",
       "2514             2.0    4        Domestic Short Hair                  None   \n",
       "2523             3.0   72                 Rottweiler                  None   \n",
       "2738             1.0   18                 Rottweiler                  None   \n",
       "3157             3.0   36           Golden Retriever           Mixed Breed   \n",
       "3558             2.0   13          Doberman Pinscher                  None   \n",
       "4706             3.0   12                 Great Dane                  None   \n",
       "5571             0.0    1                 Maine Coon               Bobtail   \n",
       "5781             3.0   30                      Tabby                  None   \n",
       "6007             2.0   48        German Shepherd Dog                  None   \n",
       "6712             3.0   30                      Tabby  Domestic Medium Hair   \n",
       "6899             2.0    3                Mixed Breed           Mixed Breed   \n",
       "7692             2.0   24          Doberman Pinscher                  None   \n",
       "7854             2.0   36        German Shepherd Dog                  None   \n",
       "8148             1.0   37                 Great Dane           Mixed Breed   \n",
       "8184             0.0   12        Domestic Short Hair                  None   \n",
       "8316             2.0   24                 Rottweiler                  None   \n",
       "8381             3.0    2  Belgian Shepherd Malinois           Mixed Breed   \n",
       "8457             3.0   36       Norwegian Forest Cat    Domestic Long Hair   \n",
       "8754             3.0   84        German Shepherd Dog                  None   \n",
       "9707             4.0   28                 Maine Coon                  None   \n",
       "10413            2.0    7                      Husky                  None   \n",
       "10737            2.0  120        German Shepherd Dog                  None   \n",
       "11262            1.0   24                    Persian                  None   \n",
       "11338            1.0   24                 Rottweiler                  None   \n",
       "11745            1.0    3  Belgian Shepherd Malinois                  None   \n",
       "11854            3.0   24                Mixed Breed                  None   \n",
       "12366            3.0   24                    Siamese                  None   \n",
       "13618            4.0   60                      Tabby                  None   \n",
       "14005            1.0    3              Saint Bernard                  None   \n",
       "14043            4.0   96               Russian Blue                  None   \n",
       "\n",
       "       Color1  Color2  Color3       DataType  \\\n",
       "1265        1       0       0  training_data   \n",
       "1899        1       2       0  training_data   \n",
       "2461        1       2       7  training_data   \n",
       "2514        1       6       0  training_data   \n",
       "2523        1       2       0  training_data   \n",
       "2738        1       2       0  training_data   \n",
       "3157        3       0       0  training_data   \n",
       "3558        1       2       0  training_data   \n",
       "4706        1       0       0  training_data   \n",
       "5571        1       7       0  training_data   \n",
       "5781        3       4       7  training_data   \n",
       "6007        2       0       0  training_data   \n",
       "6712        5       0       0  training_data   \n",
       "6899        2       0       0  training_data   \n",
       "7692        2       0       0  training_data   \n",
       "7854        1       2       0  training_data   \n",
       "8148        1       2       7  training_data   \n",
       "8184        1       7       0  training_data   \n",
       "8316        1       0       0  training_data   \n",
       "8381        1       2       0  training_data   \n",
       "8457        1       2       0  training_data   \n",
       "8754        1       2       0  training_data   \n",
       "9707        4       6       7  training_data   \n",
       "10413       6       7       0  training_data   \n",
       "10737       1       2       0  training_data   \n",
       "11262       4       0       0  training_data   \n",
       "11338       1       2       0  training_data   \n",
       "11745       2       0       0  training_data   \n",
       "11854       1       0       0  training_data   \n",
       "12366       1       7       0  training_data   \n",
       "13618       1       2       5  training_data   \n",
       "14005       1       7       0  training_data   \n",
       "14043       6       0       0  training_data   \n",
       "\n",
       "                                             Description  Dewormed    ...      \\\n",
       "1265                   Oreo Female Great Dane 1 year old         1    ...       \n",
       "1899   Ali (named after the boxer Mohammad Ali) has a...         1    ...       \n",
       "2461   Owner bought him from a pet shop and was told ...         1    ...       \n",
       "2514                                                   -         2    ...       \n",
       "2523   Rotti girl with MKA certificate looking for a ...         3    ...       \n",
       "2738   Pure breed Rottweiler rescued fr breeder. Alre...         1    ...       \n",
       "3157   Owner cannot keep him anymore due to council r...         1    ...       \n",
       "3558   He is very playful, alert, energetic, smart an...         1    ...       \n",
       "4706   She is a pure Great Dane. Black in colour. I a...         1    ...       \n",
       "5571   He is a very active and lovable kitten (about ...         1    ...       \n",
       "5781   This is Jasper.I have had him for almost 3 yea...         1    ...       \n",
       "6007   Summer's owner, an elderly man passed away rec...         1    ...       \n",
       "6712   This pet was fostered to me by the owner who w...         1    ...       \n",
       "6899   FOR serious adopters only! If you are interest...         1    ...       \n",
       "7692   Luca was abandoned by her owner and rescued fr...         1    ...       \n",
       "7854   Lady was found lost in Taman Tun. She is a fri...         3    ...       \n",
       "8148   YaabbaaadaabaaaDooooo!!! I look like Scooby Do...         1    ...       \n",
       "8184   Hi! If you are a Cat Lover & u need a friendly...         1    ...       \n",
       "8316   Brian is a rescued Rottie. Brian has good temp...         1    ...       \n",
       "8381   Healthy and adorable puppy looking for a foeve...         1    ...       \n",
       "8457   This is an unseparable Yin Yang twin.The darke...         1    ...       \n",
       "8754   7 year old German Shepherd is looking for a ho...         1    ...       \n",
       "9707   My beautiful boy & girl are really playful and...         1    ...       \n",
       "10413  healthy husky looking for new owner previous w...         1    ...       \n",
       "10737  Pony was nicknamed due to his large size that ...         3    ...       \n",
       "11262  Zuba is 2 yrs old. Male, neutered. He is a ver...         1    ...       \n",
       "11338  Pure breed Rottweiler rescued fr breeder. Alrd...         1    ...       \n",
       "11745  Pure breed German Shepherd puppy up for adopti...         3    ...       \n",
       "11854  Please Take Me Home! I am adorable, playful, s...         3    ...       \n",
       "12366  Tom: Male, 2 years old, Siamese Breed, Born in...         1    ...       \n",
       "13618  Garcia is my second oldest and a big boy. Hes ...         1    ...       \n",
       "14005  Someone dropped off this mix Saint Bernard to ...         2    ...       \n",
       "14043  Russia is such an affectionate female cat with...         1    ...       \n",
       "\n",
       "       Quantity                         RescuerID  State  Sterilized  Type  \\\n",
       "1265          1  b3b9d092e0cced7bb066e65e6793f527  41326           1     1   \n",
       "1899          1  aa66486163b6cbc25ea62a34b11c9b91  41326           2     1   \n",
       "2461          1  fa90fa5b1ee11c86938398b60abc32cb  41326           2     1   \n",
       "2514          1  5be13320d12dc6478d94268d6e103e56  41401           2     2   \n",
       "2523          1  fa90fa5b1ee11c86938398b60abc32cb  41326           1     1   \n",
       "2738          1  fa90fa5b1ee11c86938398b60abc32cb  41326           1     1   \n",
       "3157          1  fa90fa5b1ee11c86938398b60abc32cb  41326           1     1   \n",
       "3558          1  ac8608c9cc3c828c4b5a44a7e6002cbe  41326           2     1   \n",
       "4706          1  64cab7e12961c2929700559615bc8488  41401           2     1   \n",
       "5571          1  3554aa44f8737bf17937be3b8231a79a  41401           2     2   \n",
       "5781          1  2f9ab0afc00c24daefed36cd88224ffa  41326           1     2   \n",
       "6007          1  d21f689eab9b3faa1b738ecc836b4b36  41326           2     1   \n",
       "6712          1  a1f1fbe3d5eccf487464c3cc2f4a3df6  41326           1     2   \n",
       "6899          6  3b074cadd2350de62dca7056b9bab6f4  41326           2     1   \n",
       "7692          1  aa66486163b6cbc25ea62a34b11c9b91  41326           1     1   \n",
       "7854          1  aa66486163b6cbc25ea62a34b11c9b91  41326           3     1   \n",
       "8148          1  6f40a7acfad5cc0bb3e44591ea446c05  41326           1     1   \n",
       "8184          1  1baad21cc721ce5bc2bd13dd4c4ba4f6  41401           1     2   \n",
       "8316          1  583c3f4646373188b58dc42ca653eec5  41330           1     1   \n",
       "8381          1  fa90fa5b1ee11c86938398b60abc32cb  41326           2     1   \n",
       "8457          2  0da7e531122f0b230973130fab2e076f  41326           1     2   \n",
       "8754          1  88a21c30883ab70a93e09035e0a9a754  41326           2     1   \n",
       "9707          2  e166ba56435e4b61917bf3472027d266  41342           2     2   \n",
       "10413         1  eea6701183b241e5a8e429c3b7e3831a  41326           3     1   \n",
       "10737         1  aa66486163b6cbc25ea62a34b11c9b91  41326           2     1   \n",
       "11262         1  001e42763024f9d4abe31e79472b1827  41326           1     2   \n",
       "11338         1  fa90fa5b1ee11c86938398b60abc32cb  41326           1     1   \n",
       "11745         1  d581d43be85c983e9b95a2eaaf0d7a8d  41336           2     1   \n",
       "11854         1  5a8f57e5d539293689e9b7514fdbf3dc  41401           3     1   \n",
       "12366         1  c6f77cef8408090fe952cd88d01be7d4  41326           2     2   \n",
       "13618         3  4f7b591fb04c1ee856472ca07e1dcbcf  41401           1     2   \n",
       "14005         1  9e998c258ac0e00e14278682389220b6  41324           2     1   \n",
       "14043         3  4f7b591fb04c1ee856472ca07e1dcbcf  41401           1     2   \n",
       "\n",
       "      Vaccinated VideoAmt  Animal_Type  Unnamed MixedBreed  \n",
       "1265           1        0          Dog        0          0  \n",
       "1899           1        0          Dog        0          1  \n",
       "2461           1        0          Dog        0          0  \n",
       "2514           2        0          Cat        1          1  \n",
       "2523           3        0          Dog        0          0  \n",
       "2738           1        0          Dog        0          0  \n",
       "3157           1        0          Dog        0          1  \n",
       "3558           1        0          Dog        0          0  \n",
       "4706           1        0          Dog        0          0  \n",
       "5571           2        2          Cat        0          1  \n",
       "5781           1        0          Cat        0          0  \n",
       "6007           1        0          Dog        0          0  \n",
       "6712           1        0          Cat        0          1  \n",
       "6899           1        0          Dog        0          1  \n",
       "7692           1        0          Dog        0          0  \n",
       "7854           3        0          Dog        0          0  \n",
       "8148           1        0          Dog        0          1  \n",
       "8184           1        0          Cat        0          1  \n",
       "8316           1        0          Dog        0          0  \n",
       "8381           1        0          Dog        0          1  \n",
       "8457           1        0          Cat        0          1  \n",
       "8754           1        0          Dog        0          0  \n",
       "9707           1        0          Cat        0          0  \n",
       "10413          1        0          Dog        0          0  \n",
       "10737          3        0          Dog        0          0  \n",
       "11262          1        0          Cat        0          0  \n",
       "11338          1        0          Dog        0          0  \n",
       "11745          1        0          Dog        0          0  \n",
       "11854          3        0          Dog        0          1  \n",
       "12366          1        0          Cat        0          0  \n",
       "13618          1        0          Cat        0          0  \n",
       "14005          1        0          Dog        0          0  \n",
       "14043          1        0          Cat        0          0  \n",
       "\n",
       "[33 rows x 28 columns]"
      ]
     },
     "execution_count": 64,
     "metadata": {},
     "output_type": "execute_result"
    }
   ],
   "source": [
    "all_data[all_data[\"MaturitySize\"] == 4]"
   ]
  },
  {
   "cell_type": "markdown",
   "metadata": {},
   "source": [
    "I just saw that for same cases we have NaN's for the adoption speed, which is a problem. Do we rather set it as a 4? Or the average adoption speed?\n",
    "I'll check how many cases have NaN's before I decide anything."
   ]
  },
  {
   "cell_type": "code",
   "execution_count": 53,
   "metadata": {},
   "outputs": [
    {
     "name": "stdout",
     "output_type": "stream",
     "text": [
      "26.332288401253916\n"
     ]
    }
   ],
   "source": [
    "print(((len(all_data) - all_data[\"AdoptionSpeed\"].count())/all_data[\"AdoptionSpeed\"].count())*100)"
   ]
  },
  {
   "cell_type": "markdown",
   "metadata": {},
   "source": [
    "So 26% of our adoption speeds are nulls. What I'm going to do is train the model on 3 cases: \n",
    "\n",
    "1) Fill NaN with highest adoption speed. \n",
    "\n",
    "2) Drop NaN records \n",
    "\n",
    "3) Fill in the average adoptionspeed\n",
    "\n",
    "But for the data analysis, I'll drop the NA records."
   ]
  },
  {
   "cell_type": "code",
   "execution_count": 61,
   "metadata": {},
   "outputs": [],
   "source": [
    "all_data.dropna(axis=0, how = \"any\", inplace=True)"
   ]
  },
  {
   "cell_type": "markdown",
   "metadata": {},
   "source": [
    "## Vaccinations and sterilisation"
   ]
  },
  {
   "cell_type": "markdown",
   "metadata": {},
   "source": [
    "How does the pet being vaccinated and sterlised influence the adoption speed?\n",
    "\n",
    "Vaccinations: 1-Yes, 2-No, 3-Unsure\n",
    "\n",
    "Dewormed: 1-Yes, 2-No, 3-Unsure\n",
    "\n",
    "Sterilised: 1-Yes, 2-No, 3-Unsure\n"
   ]
  },
  {
   "cell_type": "code",
   "execution_count": 79,
   "metadata": {},
   "outputs": [
    {
     "data": {
      "text/plain": [
       "<matplotlib.axes._subplots.AxesSubplot at 0x14814233978>"
      ]
     },
     "execution_count": 79,
     "metadata": {},
     "output_type": "execute_result"
    },
    {
     "data": {
      "image/png": "[encoded data removed]",
      "text/plain": [
       "<Figure size 576x360 with 1 Axes>"
      ]
     },
     "metadata": {
      "needs_background": "light"
     },
     "output_type": "display_data"
    }
   ],
   "source": [
    "plt.figure(figsize=(8,5))\n",
    "sns.boxenplot(x=\"Vaccinated\", y=\"AdoptionSpeed\", hue = \"Animal_Type\", data = all_data, palette=\"Set1\")"
   ]
  },
  {
   "cell_type": "markdown",
   "metadata": {},
   "source": [
    "It's strange how the adoption speed for animals that weren't vaccinated s smaller than those who have. Unsurity aboout the vaccination status of cats seem to negative influence adoption speed."
   ]
  },
  {
   "cell_type": "code",
   "execution_count": 80,
   "metadata": {},
   "outputs": [
    {
     "data": {
      "text/plain": [
       "<matplotlib.axes._subplots.AxesSubplot at 0x148183b4630>"
      ]
     },
     "execution_count": 80,
     "metadata": {},
     "output_type": "execute_result"
    },
    {
     "data": {
      "image/png": "[encoded data removed]",
      "text/plain": [
       "<Figure size 576x360 with 1 Axes>"
      ]
     },
     "metadata": {
      "needs_background": "light"
     },
     "output_type": "display_data"
    }
   ],
   "source": [
    "plt.figure(figsize=(8,5))\n",
    "sns.boxenplot(x=\"Dewormed\", y=\"AdoptionSpeed\", hue = \"Type\", data = all_data, palette = \"Set2\")"
   ]
  },
  {
   "cell_type": "markdown",
   "metadata": {},
   "source": [
    "It seems that dewormed animals have a similar distribution than those that were vaccinated. This is very strange - does this mean people prefer animals that weren't vaccinated or dewormed? Or is it a case of puppy or kittens being adopted, and just not being old enough for all the vaccinations?"
   ]
  },
  {
   "cell_type": "code",
   "execution_count": 81,
   "metadata": {},
   "outputs": [
    {
     "data": {
      "text/plain": [
       "<matplotlib.axes._subplots.AxesSubplot at 0x14818450b00>"
      ]
     },
     "execution_count": 81,
     "metadata": {},
     "output_type": "execute_result"
    },
    {
     "data": {
      "image/png": "[encoded data removed]",
      "text/plain": [
       "<Figure size 576x360 with 1 Axes>"
      ]
     },
     "metadata": {
      "needs_background": "light"
     },
     "output_type": "display_data"
    }
   ],
   "source": [
    "plt.figure(figsize=(8,5))\n",
    "sns.boxenplot(x=\"Sterilized\", y=\"AdoptionSpeed\", hue = \"Type\", data = all_data, palette=\"Set3\")"
   ]
  },
  {
   "cell_type": "markdown",
   "metadata": {},
   "source": [
    "Seems like non-sterilised animals have a better change of being adopted - especially cats."
   ]
  },
  {
   "cell_type": "markdown",
   "metadata": {},
   "source": [
    "## What about health?"
   ]
  },
  {
   "cell_type": "markdown",
   "metadata": {},
   "source": [
    "1 - Healthy\n",
    "\n",
    "2 - Minor injury\n",
    "\n",
    "3 - Serious injury\n",
    "\n",
    "0 - Not specified"
   ]
  },
  {
   "cell_type": "code",
   "execution_count": 83,
   "metadata": {},
   "outputs": [
    {
     "data": {
      "text/plain": [
       "<matplotlib.axes._subplots.AxesSubplot at 0x14818503048>"
      ]
     },
     "execution_count": 83,
     "metadata": {},
     "output_type": "execute_result"
    },
    {
     "data": {
      "image/png": "[encoded data removed]",
      "text/plain": [
       "<Figure size 576x360 with 1 Axes>"
      ]
     },
     "metadata": {
      "needs_background": "light"
     },
     "output_type": "display_data"
    }
   ],
   "source": [
    "plt.figure(figsize=(8,5))\n",
    "sns.boxenplot(x=\"Health\", y=\"AdoptionSpeed\", hue = \"Type\", data = all_data, palette=\"Set1\")"
   ]
  },
  {
   "cell_type": "markdown",
   "metadata": {},
   "source": [
    "Seems like pets with serious injuries are the least likely to be adopted in the early stages after they were listed."
   ]
  },
  {
   "cell_type": "markdown",
   "metadata": {},
   "source": [
    "## Adoption Fee\n"
   ]
  },
  {
   "cell_type": "markdown",
   "metadata": {},
   "source": [
    "Now I'm trying to establish whether the adoption rate is influenced by the adoption fees. So let's look at the distribution of the fees."
   ]
  },
  {
   "cell_type": "code",
   "execution_count": 54,
   "metadata": {},
   "outputs": [
    {
     "data": {
      "text/plain": [
       "0      15863\n",
       "50       600\n",
       "100      543\n",
       "200      301\n",
       "150      245\n",
       "20       159\n",
       "300      152\n",
       "250      146\n",
       "30       132\n",
       "1        104\n",
       "10        92\n",
       "80        80\n",
       "500       70\n",
       "350       66\n",
       "400       39\n",
       "15        33\n",
       "5         27\n",
       "120       23\n",
       "40        22\n",
       "60        18\n",
       "600       15\n",
       "70        15\n",
       "450       13\n",
       "25        13\n",
       "180       13\n",
       "160       11\n",
       "90        10\n",
       "45        10\n",
       "8          9\n",
       "550        7\n",
       "Name: Fee, dtype: int64"
      ]
     },
     "execution_count": 54,
     "metadata": {},
     "output_type": "execute_result"
    }
   ],
   "source": [
    "all_data[\"Fee\"].value_counts().head(30)"
   ]
  },
  {
   "cell_type": "code",
   "execution_count": 65,
   "metadata": {},
   "outputs": [
    {
     "data": {
      "text/plain": [
       "<matplotlib.axes._subplots.AxesSubplot at 0x21c64468be0>"
      ]
     },
     "execution_count": 65,
     "metadata": {},
     "output_type": "execute_result"
    },
    {
     "data": {
      "image/png": "[encoded data removed]",
      "text/plain": [
       "<Figure size 576x720 with 1 Axes>"
      ]
     },
     "metadata": {},
     "output_type": "display_data"
    }
   ],
   "source": [
    "plt.figure(figsize=(8,10))\n",
    "sns.violinplot(x = \"AdoptionSpeed\", y=\"Fee\", hue = \"Type\", data = all_data, palette=\"Set2\")"
   ]
  },
  {
   "cell_type": "markdown",
   "metadata": {},
   "source": [
    "If we look at dogs, it seems that the fees range between 0 and 3 000. However, it seems that adoption speed 3 has the highest fees, whereas adoption speed 4 has the lowest fees. \n",
    "\n",
    "In the case of cats, there doesn't seem to be a significant difference in the fees for the different adoption speeds."
   ]
  }
 ],
 "metadata": {
  "kernelspec": {
   "display_name": "Python 3",
   "language": "python",
   "name": "python3"
  },
  "language_info": {
   "codemirror_mode": {
    "name": "ipython",
    "version": 3
   },
   "file_extension": ".py",
   "mimetype": "text/x-python",
   "name": "python",
   "nbconvert_exporter": "python",
   "pygments_lexer": "ipython3",
   "version": "3.5.4"
  }
 },
 "nbformat": 4,
 "nbformat_minor": 2
}
