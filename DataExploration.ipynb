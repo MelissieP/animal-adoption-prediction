{
 "cells": [
  {
   "cell_type": "code",
   "execution_count": 1,
   "metadata": {},
   "outputs": [],
   "source": [
    "import pandas as pd\n",
    "import warnings\n",
    "warnings.filterwarnings(\"ignore\")\n",
    "import matplotlib.pyplot as plt\n",
    "import seaborn as sns\n",
    "import numpy as np"
   ]
  },
  {
   "cell_type": "markdown",
   "metadata": {},
   "source": [
    "Our target variable is Adoption Speed:\n",
    "\n",
    "0 - Pet was adopted the day it was listed.\n",
    "\n",
    "1 - Pet was adopted the first week after being listed.\n",
    "\n",
    "2 - Pet was adopted the first month after being listed.\n",
    "\n",
    "3 - Pet was adopted in the 2nd and 3rd month after being listed.\n",
    "\n",
    "4 - The pet hasn't been adopted 90 days after being listed. :( \n"
   ]
  },
  {
   "cell_type": "code",
   "execution_count": 2,
   "metadata": {},
   "outputs": [],
   "source": [
    "# Reading in all our data\n",
    "\n",
    "train = pd.read_csv(\"data/train/train.csv\")\n",
    "breeds = pd.read_csv(\"data/breed_labels.csv\")\n",
    "colours = pd.read_csv(\"data/color_labels.csv\")\n",
    "states = pd.read_csv(\"data/state_labels.csv\")\n",
    "\n",
    "test = pd.read_csv(\"data/test/test.csv\")\n",
    "submission = pd.read_csv(\"data/test/sample_submission.csv\")\n",
    "\n",
    "# Add the type of dataset\n",
    "train[\"DataType\"] = \"training_data\"\n",
    "test[\"DataType\"] = \"testing_data\"\n",
    "\n",
    "\n",
    "all_data = pd.concat([train, test])"
   ]
  },
  {
   "cell_type": "markdown",
   "metadata": {},
   "source": [
    "# Data Analysis"
   ]
  },
  {
   "cell_type": "code",
   "execution_count": 3,
   "metadata": {},
   "outputs": [
    {
     "name": "stdout",
     "output_type": "stream",
     "text": [
      "<class 'pandas.core.frame.DataFrame'>\n",
      "Int64Index: 18941 entries, 0 to 3947\n",
      "Data columns (total 25 columns):\n",
      "AdoptionSpeed    14993 non-null float64\n",
      "Age              18941 non-null int64\n",
      "Breed1           18941 non-null int64\n",
      "Breed2           18941 non-null int64\n",
      "Color1           18941 non-null int64\n",
      "Color2           18941 non-null int64\n",
      "Color3           18941 non-null int64\n",
      "DataType         18941 non-null object\n",
      "Description      18927 non-null object\n",
      "Dewormed         18941 non-null int64\n",
      "Fee              18941 non-null int64\n",
      "FurLength        18941 non-null int64\n",
      "Gender           18941 non-null int64\n",
      "Health           18941 non-null int64\n",
      "MaturitySize     18941 non-null int64\n",
      "Name             17381 non-null object\n",
      "PetID            18941 non-null object\n",
      "PhotoAmt         18941 non-null float64\n",
      "Quantity         18941 non-null int64\n",
      "RescuerID        18941 non-null object\n",
      "State            18941 non-null int64\n",
      "Sterilized       18941 non-null int64\n",
      "Type             18941 non-null int64\n",
      "Vaccinated       18941 non-null int64\n",
      "VideoAmt         18941 non-null int64\n",
      "dtypes: float64(2), int64(18), object(5)\n",
      "memory usage: 3.8+ MB\n"
     ]
    }
   ],
   "source": [
    "# train.drop(labels = [\"Description\"], axis = 1, inplace=True) # Can add other labels to drop later if necessary\n",
    "all_data.info()"
   ]
  },
  {
   "cell_type": "markdown",
   "metadata": {},
   "source": [
    "Looking at the initial data analysis, we see that there are a lot of names missing - which poses the question of how naming influences adoption speed?\n",
    "We also see that there is a Breed1 and Breed2 feature, where Breed2 is 0 when the animal is purebred.\n",
    "We can also look at how the photo and video amounts influence adoption speed, as well vaccination, sterilization etc."
   ]
  },
  {
   "cell_type": "markdown",
   "metadata": {},
   "source": [
    "## Now lets get into it ..."
   ]
  },
  {
   "cell_type": "code",
   "execution_count": 4,
   "metadata": {},
   "outputs": [
    {
     "data": {
      "text/plain": [
       "Text(0.5,1,'Count of Adoption Speed Classes')"
      ]
     },
     "execution_count": 4,
     "metadata": {},
     "output_type": "execute_result"
    },
    {
     "data": {
      "image/png": "[encoded data removed]",
      "text/plain": [
       "<Figure size 432x288 with 1 Axes>"
      ]
     },
     "metadata": {},
     "output_type": "display_data"
    }
   ],
   "source": [
    "all_data[\"AdoptionSpeed\"].value_counts().sort_index().plot(\"bar\")\n",
    "plt.title(\"Count of Adoption Speed Classes\")"
   ]
  },
  {
   "cell_type": "markdown",
   "metadata": {},
   "source": [
    "We can see from the graph above that even though some animals get adopted on the same day,a lot more get edopted in the first week or two. Sadly the class with the highest counts are animals who still aren't adoped."
   ]
  },
  {
   "cell_type": "markdown",
   "metadata": {},
   "source": [
    "## Dogs vs Cats"
   ]
  },
  {
   "cell_type": "code",
   "execution_count": 5,
   "metadata": {},
   "outputs": [
    {
     "data": {
      "text/plain": [
       "Text(0.5,1,'Number of dogs and cats in the train and test set: ')"
      ]
     },
     "execution_count": 5,
     "metadata": {},
     "output_type": "execute_result"
    },
    {
     "data": {
      "image/png": "[encoded data removed]",
      "text/plain": [
       "<Figure size 432x288 with 1 Axes>"
      ]
     },
     "metadata": {},
     "output_type": "display_data"
    }
   ],
   "source": [
    "all_data[\"Animal_Type\"] = [\"Dog\" if x == 1 else \"Cat\" for x in all_data[\"Type\"]]\n",
    "sns.countplot(x=\"DataType\", data = all_data, hue=\"Animal_Type\")\n",
    "plt.title(\"Number of dogs and cats in the train and test set: \")"
   ]
  },
  {
   "cell_type": "markdown",
   "metadata": {},
   "source": [
    "So we can see there is an insignificant difference in the dog:cat ratio in the different data sets."
   ]
  },
  {
   "cell_type": "code",
   "execution_count": 6,
   "metadata": {},
   "outputs": [
    {
     "data": {
      "text/plain": [
       "<matplotlib.axes._subplots.AxesSubplot at 0x2ef887efcc0>"
      ]
     },
     "execution_count": 6,
     "metadata": {},
     "output_type": "execute_result"
    },
    {
     "data": {
      "image/png": "[encoded data removed]",
      "text/plain": [
       "<Figure size 1296x576 with 1 Axes>"
      ]
     },
     "metadata": {},
     "output_type": "display_data"
    }
   ],
   "source": [
    "plt.figure(figsize=(18, 8))\n",
    "sns.countplot(x = \"Animal_Type\", hue=\"AdoptionSpeed\", data = all_data)"
   ]
  },
  {
   "cell_type": "markdown",
   "metadata": {},
   "source": [
    "Cats are more likely to get adopted early on, where more dogs get adopted later. We can also see that the overall percentage of cats that are not adopted is lower than for dogs."
   ]
  },
  {
   "cell_type": "markdown",
   "metadata": {},
   "source": [
    "## Do the names they give the pets have an influence?"
   ]
  },
  {
   "cell_type": "code",
   "execution_count": 7,
   "metadata": {},
   "outputs": [
    {
     "name": "stdout",
     "output_type": "stream",
     "text": [
      "Most popular pet names and AdoptionSpeed:\n",
      "Baby\n",
      "0.0     2\n",
      "1.0    11\n",
      "2.0    15\n",
      "3.0    11\n",
      "4.0    27\n",
      "Name: AdoptionSpeed, dtype: int64 \n",
      "\n",
      "Lucky\n",
      "0.0     5\n",
      "1.0    14\n",
      "2.0    16\n",
      "3.0    12\n",
      "4.0    17\n",
      "Name: AdoptionSpeed, dtype: int64 \n",
      "\n",
      "Brownie\n",
      "0.0     1\n",
      "1.0    11\n",
      "2.0    14\n",
      "3.0    12\n",
      "4.0    16\n",
      "Name: AdoptionSpeed, dtype: int64 \n",
      "\n",
      "No Name\n",
      "0.0     3\n",
      "1.0    14\n",
      "2.0    11\n",
      "3.0     6\n",
      "4.0    20\n",
      "Name: AdoptionSpeed, dtype: int64 \n",
      "\n",
      "Mimi\n",
      "0.0     3\n",
      "1.0    12\n",
      "2.0    13\n",
      "3.0     7\n",
      "4.0    17\n",
      "Name: AdoptionSpeed, dtype: int64 \n",
      "\n"
     ]
    }
   ],
   "source": [
    "print(\"Most popular pet names and AdoptionSpeed:\")\n",
    "for n in all_data[\"Name\"].value_counts().index[:5]:\n",
    "    print(n)\n",
    "    print(all_data.loc[all_data[\"Name\"] == n, \"AdoptionSpeed\"].value_counts().sort_index(),\"\\n\")"
   ]
  },
  {
   "cell_type": "code",
   "execution_count": 8,
   "metadata": {},
   "outputs": [
    {
     "name": "stdout",
     "output_type": "stream",
     "text": [
      "No Name:  66\n",
      "Unnamed:  5\n",
      "None:  9\n",
      "No Name Yet:  26\n"
     ]
    }
   ],
   "source": [
    "print(\"No Name: \", all_data[all_data[\"Name\"] == \"No Name\"][\"Name\"].count())\n",
    "print(\"Unnamed: \", all_data[all_data[\"Name\"] == \"Unnamed\"][\"Name\"].count())\n",
    "print(\"None: \", all_data[all_data[\"Name\"] == \"None\"][\"Name\"].count())\n",
    "print(\"No Name Yet: \", all_data[all_data[\"Name\"] == \"No Name Yet\"][\"Name\"].count())"
   ]
  },
  {
   "cell_type": "code",
   "execution_count": 9,
   "metadata": {},
   "outputs": [],
   "source": [
    "all_data[\"Name\"] = all_data[\"Name\"].fillna(\"Unnamed\")\n",
    "\n",
    "all_data[\"Name\"] = np.where(all_data[\"Name\"] == \"No Name\",\"Unnamed\", all_data[\"Name\"])\n",
    "all_data[\"Name\"] = np.where(all_data[\"Name\"] == \"None\",\"Unnamed\", all_data[\"Name\"])\n",
    "all_data[\"Name\"] = np.where(all_data[\"Name\"] == \"No Name Yet\",\"Unnamed\", all_data[\"Name\"])"
   ]
  },
  {
   "cell_type": "markdown",
   "metadata": {},
   "source": [
    "Let's create a feature based on whether the animal has a name or not, and then we can compare the adoption speed to named animals."
   ]
  },
  {
   "cell_type": "code",
   "execution_count": 10,
   "metadata": {},
   "outputs": [],
   "source": [
    "all_data[\"Unnamed\"] = 0\n",
    "all_data.loc[all_data[\"Name\"] == \"Unnamed\", \"Unnamed\"] = 1"
   ]
  },
  {
   "cell_type": "code",
   "execution_count": 11,
   "metadata": {},
   "outputs": [
    {
     "data": {
      "text/html": [
       "<div>\n",
       "<style scoped>\n",
       "    .dataframe tbody tr th:only-of-type {\n",
       "        vertical-align: middle;\n",
       "    }\n",
       "\n",
       "    .dataframe tbody tr th {\n",
       "        vertical-align: top;\n",
       "    }\n",
       "\n",
       "    .dataframe thead th {\n",
       "        text-align: right;\n",
       "    }\n",
       "</style>\n",
       "<table border=\"1\" class=\"dataframe\">\n",
       "  <thead>\n",
       "    <tr style=\"text-align: right;\">\n",
       "      <th>AdoptionSpeed</th>\n",
       "      <th>0.0</th>\n",
       "      <th>1.0</th>\n",
       "      <th>2.0</th>\n",
       "      <th>3.0</th>\n",
       "      <th>4.0</th>\n",
       "    </tr>\n",
       "    <tr>\n",
       "      <th>Unnamed</th>\n",
       "      <th></th>\n",
       "      <th></th>\n",
       "      <th></th>\n",
       "      <th></th>\n",
       "      <th></th>\n",
       "    </tr>\n",
       "  </thead>\n",
       "  <tbody>\n",
       "    <tr>\n",
       "      <th>0</th>\n",
       "      <td>0.027845</td>\n",
       "      <td>0.205027</td>\n",
       "      <td>0.271342</td>\n",
       "      <td>0.221954</td>\n",
       "      <td>0.273833</td>\n",
       "    </tr>\n",
       "    <tr>\n",
       "      <th>1</th>\n",
       "      <td>0.022288</td>\n",
       "      <td>0.216939</td>\n",
       "      <td>0.248143</td>\n",
       "      <td>0.170877</td>\n",
       "      <td>0.341753</td>\n",
       "    </tr>\n",
       "  </tbody>\n",
       "</table>\n",
       "</div>"
      ],
      "text/plain": [
       "AdoptionSpeed       0.0       1.0       2.0       3.0       4.0\n",
       "Unnamed                                                        \n",
       "0              0.027845  0.205027  0.271342  0.221954  0.273833\n",
       "1              0.022288  0.216939  0.248143  0.170877  0.341753"
      ]
     },
     "execution_count": 11,
     "metadata": {},
     "output_type": "execute_result"
    }
   ],
   "source": [
    "pd.crosstab(all_data[\"Unnamed\"], all_data[\"AdoptionSpeed\"], normalize = \"index\")"
   ]
  },
  {
   "cell_type": "markdown",
   "metadata": {},
   "source": [
    "It seems that if an animal is unnamed, it less likely to get adopted compared to an animal with an assigned name."
   ]
  },
  {
   "cell_type": "code",
   "execution_count": 12,
   "metadata": {},
   "outputs": [
    {
     "data": {
      "text/plain": [
       "<matplotlib.axes._subplots.AxesSubplot at 0x2ef88a8a1d0>"
      ]
     },
     "execution_count": 12,
     "metadata": {},
     "output_type": "execute_result"
    },
    {
     "data": {
      "image/png": "[encoded data removed]",
      "text/plain": [
       "<Figure size 1296x576 with 1 Axes>"
      ]
     },
     "metadata": {},
     "output_type": "display_data"
    }
   ],
   "source": [
    "plt.figure(figsize=(18,8))\n",
    "sns.countplot(x = \"Unnamed\", hue=\"AdoptionSpeed\", data=all_data)"
   ]
  },
  {
   "cell_type": "code",
   "execution_count": 13,
   "metadata": {},
   "outputs": [
    {
     "data": {
      "text/plain": [
       "Max    48\n",
       "Tom    33\n",
       "Boy    20\n",
       "Leo    18\n",
       "Ben    15\n",
       "Sam    14\n",
       "Mia    10\n",
       "Ash    10\n",
       "QQ     10\n",
       "BB      9\n",
       "Sky     9\n",
       "Blu     8\n",
       "Joe     8\n",
       "Rex     8\n",
       "Dot     7\n",
       "May     6\n",
       "JJ      6\n",
       "Amy     6\n",
       "Joy     6\n",
       "MJ      6\n",
       "Jay     5\n",
       "Eva     5\n",
       "Bee     5\n",
       "Zoe     5\n",
       "B1      5\n",
       "Mac     4\n",
       "Moo     4\n",
       "Cat     4\n",
       "Tux     4\n",
       "A1      4\n",
       "       ..\n",
       "Hua     1\n",
       "Mex     1\n",
       "Mii     1\n",
       "Nat     1\n",
       "D4      1\n",
       "PJ      1\n",
       "M4      1\n",
       "Boe     1\n",
       "A88     1\n",
       "R5      1\n",
       "...     1\n",
       "S3      1\n",
       "Y5      1\n",
       "Py      1\n",
       "No5     1\n",
       "SAM     1\n",
       "Liz     1\n",
       "Jam     1\n",
       "Jap     1\n",
       "P1      1\n",
       "Bik     1\n",
       "NIL     1\n",
       "Mi      1\n",
       "Y1      1\n",
       "Q7      1\n",
       "Fa      1\n",
       "BB3     1\n",
       "Bel     1\n",
       "W7      1\n",
       "YY      1\n",
       "Name: Name, Length: 442, dtype: int64"
      ]
     },
     "execution_count": 13,
     "metadata": {},
     "output_type": "execute_result"
    }
   ],
   "source": [
    "all_data[all_data[\"Name\"].apply(lambda x: len(str(x))) <= 3][\"Name\"].value_counts()"
   ]
  },
  {
   "cell_type": "markdown",
   "metadata": {},
   "source": [
    "So we see that some of the names that have 3 characters or less are meaningless. This then probably increases the animals chances of not getting adopted, but we can't remove all these names since names like Max and Tom do have meaning."
   ]
  },
  {
   "cell_type": "markdown",
   "metadata": {},
   "source": [
    "## Does age matter? "
   ]
  },
  {
   "cell_type": "markdown",
   "metadata": {},
   "source": [
    "I would expect that people are more likely to adopt puppies and kittens than older animals. But let's take a look ..."
   ]
  },
  {
   "cell_type": "code",
   "execution_count": 14,
   "metadata": {},
   "outputs": [
    {
     "data": {
      "text/plain": [
       "array([[<matplotlib.axes._subplots.AxesSubplot object at 0x000002EF88B1A898>]],\n",
       "      dtype=object)"
      ]
     },
     "execution_count": 14,
     "metadata": {},
     "output_type": "execute_result"
    },
    {
     "data": {
      "image/png": "[encoded data removed]",
      "text/plain": [
       "<Figure size 432x288 with 1 Axes>"
      ]
     },
     "metadata": {},
     "output_type": "display_data"
    }
   ],
   "source": [
    "# Currently the age is in months so I want to set it to age in years\n",
    "all_data[\"AgeInYrs\"] = all_data[\"Age\"]/12\n",
    "all_data[\"AgeInYrs\"] = all_data[\"Age\"]/12\n",
    "\n",
    "all_data.hist(column = \"AgeInYrs\")"
   ]
  },
  {
   "cell_type": "markdown",
   "metadata": {},
   "source": [
    "It seems that the majority of animals are under the age of 3"
   ]
  },
  {
   "cell_type": "markdown",
   "metadata": {},
   "source": [
    "Let's now analyse the adoption speed based on age."
   ]
  },
  {
   "cell_type": "code",
   "execution_count": 15,
   "metadata": {},
   "outputs": [
    {
     "data": {
      "image/png": "[encoded data removed]",
      "text/plain": [
       "<Figure size 1296x576 with 1 Axes>"
      ]
     },
     "metadata": {},
     "output_type": "display_data"
    }
   ],
   "source": [
    "plt.figure(figsize=(18,8))\n",
    "ax = sns.boxenplot(x = \"AdoptionSpeed\", y=\"AgeInYrs\", hue=\"Animal_Type\", data=all_data)"
   ]
  },
  {
   "cell_type": "markdown",
   "metadata": {},
   "source": [
    "Looking at the graph above, we can see that younger pets are adopted a lot more quickly than older pets. "
   ]
  },
  {
   "cell_type": "markdown",
   "metadata": {},
   "source": [
    "## Breeds: Mixed vs Pure? "
   ]
  },
  {
   "cell_type": "markdown",
   "metadata": {},
   "source": [
    "I'm wondering if people are more likely to adopts a pure breed animal or a mixed breed animal?"
   ]
  },
  {
   "cell_type": "code",
   "execution_count": 16,
   "metadata": {},
   "outputs": [],
   "source": [
    "all_data[\"MixedBreed\"] = [1 if x > 0 else 0 for x in all_data[\"Breed2\"]]"
   ]
  },
  {
   "cell_type": "markdown",
   "metadata": {},
   "source": [
    "So it seems that the majority of animals are pure bred which is unexpected."
   ]
  },
  {
   "cell_type": "code",
   "execution_count": 17,
   "metadata": {},
   "outputs": [
    {
     "data": {
      "text/plain": [
       "<matplotlib.axes._subplots.AxesSubplot at 0x2ef88b4ff60>"
      ]
     },
     "execution_count": 17,
     "metadata": {},
     "output_type": "execute_result"
    },
    {
     "data": {
      "image/png": "[encoded data removed]",
      "text/plain": [
       "<Figure size 1296x576 with 1 Axes>"
      ]
     },
     "metadata": {},
     "output_type": "display_data"
    }
   ],
   "source": [
    "plt.figure(figsize=(18,8))\n",
    "sns.boxenplot(x = \"MixedBreed\", y = \"AdoptionSpeed\", hue=\"Animal_Type\", data=all_data)"
   ]
  },
  {
   "cell_type": "markdown",
   "metadata": {},
   "source": [
    "So it seems that dogs have an equally likely chance of being adopted for both mixed and pure breeds. For cats, mixed breed cats are more likely to be adopted quickly than pure breed cats."
   ]
  },
  {
   "cell_type": "markdown",
   "metadata": {},
   "source": [
    "Let's try to see whether a specific breed is more likely to be adopted."
   ]
  },
  {
   "cell_type": "code",
   "execution_count": 18,
   "metadata": {},
   "outputs": [
    {
     "data": {
      "text/html": [
       "<div>\n",
       "<style scoped>\n",
       "    .dataframe tbody tr th:only-of-type {\n",
       "        vertical-align: middle;\n",
       "    }\n",
       "\n",
       "    .dataframe tbody tr th {\n",
       "        vertical-align: top;\n",
       "    }\n",
       "\n",
       "    .dataframe thead th {\n",
       "        text-align: right;\n",
       "    }\n",
       "</style>\n",
       "<table border=\"1\" class=\"dataframe\">\n",
       "  <thead>\n",
       "    <tr style=\"text-align: right;\">\n",
       "      <th></th>\n",
       "      <th>BreedID</th>\n",
       "      <th>Type</th>\n",
       "      <th>BreedName</th>\n",
       "    </tr>\n",
       "  </thead>\n",
       "  <tbody>\n",
       "    <tr>\n",
       "      <th>0</th>\n",
       "      <td>1</td>\n",
       "      <td>1</td>\n",
       "      <td>Affenpinscher</td>\n",
       "    </tr>\n",
       "    <tr>\n",
       "      <th>1</th>\n",
       "      <td>2</td>\n",
       "      <td>1</td>\n",
       "      <td>Afghan Hound</td>\n",
       "    </tr>\n",
       "    <tr>\n",
       "      <th>2</th>\n",
       "      <td>3</td>\n",
       "      <td>1</td>\n",
       "      <td>Airedale Terrier</td>\n",
       "    </tr>\n",
       "    <tr>\n",
       "      <th>3</th>\n",
       "      <td>4</td>\n",
       "      <td>1</td>\n",
       "      <td>Akbash</td>\n",
       "    </tr>\n",
       "    <tr>\n",
       "      <th>4</th>\n",
       "      <td>5</td>\n",
       "      <td>1</td>\n",
       "      <td>Akita</td>\n",
       "    </tr>\n",
       "  </tbody>\n",
       "</table>\n",
       "</div>"
      ],
      "text/plain": [
       "   BreedID  Type         BreedName\n",
       "0        1     1     Affenpinscher\n",
       "1        2     1      Afghan Hound\n",
       "2        3     1  Airedale Terrier\n",
       "3        4     1            Akbash\n",
       "4        5     1             Akita"
      ]
     },
     "execution_count": 18,
     "metadata": {},
     "output_type": "execute_result"
    }
   ],
   "source": [
    "breeds.head()"
   ]
  },
  {
   "cell_type": "code",
   "execution_count": 19,
   "metadata": {},
   "outputs": [],
   "source": [
    "breed_cols = breeds[[\"BreedID\", \"BreedName\"]]\n",
    "\n",
    "breed_cols.set_index(\"BreedID\", drop = True, inplace = True)\n",
    "\n",
    "breed_dict = breed_cols.to_dict()[\"BreedName\"]"
   ]
  },
  {
   "cell_type": "code",
   "execution_count": 20,
   "metadata": {},
   "outputs": [
    {
     "data": {
      "text/html": [
       "<div>\n",
       "<style scoped>\n",
       "    .dataframe tbody tr th:only-of-type {\n",
       "        vertical-align: middle;\n",
       "    }\n",
       "\n",
       "    .dataframe tbody tr th {\n",
       "        vertical-align: top;\n",
       "    }\n",
       "\n",
       "    .dataframe thead th {\n",
       "        text-align: right;\n",
       "    }\n",
       "</style>\n",
       "<table border=\"1\" class=\"dataframe\">\n",
       "  <thead>\n",
       "    <tr style=\"text-align: right;\">\n",
       "      <th></th>\n",
       "      <th>AdoptionSpeed</th>\n",
       "      <th>Age</th>\n",
       "      <th>Breed1</th>\n",
       "      <th>Breed2</th>\n",
       "      <th>Color1</th>\n",
       "      <th>Color2</th>\n",
       "      <th>Color3</th>\n",
       "      <th>DataType</th>\n",
       "      <th>Description</th>\n",
       "      <th>Dewormed</th>\n",
       "      <th>...</th>\n",
       "      <th>RescuerID</th>\n",
       "      <th>State</th>\n",
       "      <th>Sterilized</th>\n",
       "      <th>Type</th>\n",
       "      <th>Vaccinated</th>\n",
       "      <th>VideoAmt</th>\n",
       "      <th>Animal_Type</th>\n",
       "      <th>Unnamed</th>\n",
       "      <th>AgeInYrs</th>\n",
       "      <th>MixedBreed</th>\n",
       "    </tr>\n",
       "  </thead>\n",
       "  <tbody>\n",
       "    <tr>\n",
       "      <th>0</th>\n",
       "      <td>2.0</td>\n",
       "      <td>3</td>\n",
       "      <td>299</td>\n",
       "      <td>0</td>\n",
       "      <td>1</td>\n",
       "      <td>7</td>\n",
       "      <td>0</td>\n",
       "      <td>training_data</td>\n",
       "      <td>Nibble is a 3+ month old ball of cuteness. He ...</td>\n",
       "      <td>2</td>\n",
       "      <td>...</td>\n",
       "      <td>8480853f516546f6cf33aa88cd76c379</td>\n",
       "      <td>41326</td>\n",
       "      <td>2</td>\n",
       "      <td>2</td>\n",
       "      <td>2</td>\n",
       "      <td>0</td>\n",
       "      <td>Cat</td>\n",
       "      <td>0</td>\n",
       "      <td>0.250000</td>\n",
       "      <td>0</td>\n",
       "    </tr>\n",
       "    <tr>\n",
       "      <th>1</th>\n",
       "      <td>0.0</td>\n",
       "      <td>1</td>\n",
       "      <td>265</td>\n",
       "      <td>0</td>\n",
       "      <td>1</td>\n",
       "      <td>2</td>\n",
       "      <td>0</td>\n",
       "      <td>training_data</td>\n",
       "      <td>I just found it alone yesterday near my apartm...</td>\n",
       "      <td>3</td>\n",
       "      <td>...</td>\n",
       "      <td>3082c7125d8fb66f7dd4bff4192c8b14</td>\n",
       "      <td>41401</td>\n",
       "      <td>3</td>\n",
       "      <td>2</td>\n",
       "      <td>3</td>\n",
       "      <td>0</td>\n",
       "      <td>Cat</td>\n",
       "      <td>1</td>\n",
       "      <td>0.083333</td>\n",
       "      <td>0</td>\n",
       "    </tr>\n",
       "    <tr>\n",
       "      <th>2</th>\n",
       "      <td>3.0</td>\n",
       "      <td>1</td>\n",
       "      <td>307</td>\n",
       "      <td>0</td>\n",
       "      <td>2</td>\n",
       "      <td>7</td>\n",
       "      <td>0</td>\n",
       "      <td>training_data</td>\n",
       "      <td>Their pregnant mother was dumped by her irresp...</td>\n",
       "      <td>1</td>\n",
       "      <td>...</td>\n",
       "      <td>fa90fa5b1ee11c86938398b60abc32cb</td>\n",
       "      <td>41326</td>\n",
       "      <td>2</td>\n",
       "      <td>1</td>\n",
       "      <td>1</td>\n",
       "      <td>0</td>\n",
       "      <td>Dog</td>\n",
       "      <td>0</td>\n",
       "      <td>0.083333</td>\n",
       "      <td>0</td>\n",
       "    </tr>\n",
       "    <tr>\n",
       "      <th>3</th>\n",
       "      <td>2.0</td>\n",
       "      <td>4</td>\n",
       "      <td>307</td>\n",
       "      <td>0</td>\n",
       "      <td>1</td>\n",
       "      <td>2</td>\n",
       "      <td>0</td>\n",
       "      <td>training_data</td>\n",
       "      <td>Good guard dog, very alert, active, obedience ...</td>\n",
       "      <td>1</td>\n",
       "      <td>...</td>\n",
       "      <td>9238e4f44c71a75282e62f7136c6b240</td>\n",
       "      <td>41401</td>\n",
       "      <td>2</td>\n",
       "      <td>1</td>\n",
       "      <td>1</td>\n",
       "      <td>0</td>\n",
       "      <td>Dog</td>\n",
       "      <td>0</td>\n",
       "      <td>0.333333</td>\n",
       "      <td>0</td>\n",
       "    </tr>\n",
       "    <tr>\n",
       "      <th>4</th>\n",
       "      <td>2.0</td>\n",
       "      <td>1</td>\n",
       "      <td>307</td>\n",
       "      <td>0</td>\n",
       "      <td>1</td>\n",
       "      <td>0</td>\n",
       "      <td>0</td>\n",
       "      <td>training_data</td>\n",
       "      <td>This handsome yet cute boy is up for adoption....</td>\n",
       "      <td>2</td>\n",
       "      <td>...</td>\n",
       "      <td>95481e953f8aed9ec3d16fc4509537e8</td>\n",
       "      <td>41326</td>\n",
       "      <td>2</td>\n",
       "      <td>1</td>\n",
       "      <td>2</td>\n",
       "      <td>0</td>\n",
       "      <td>Dog</td>\n",
       "      <td>0</td>\n",
       "      <td>0.083333</td>\n",
       "      <td>0</td>\n",
       "    </tr>\n",
       "  </tbody>\n",
       "</table>\n",
       "<p>5 rows × 29 columns</p>\n",
       "</div>"
      ],
      "text/plain": [
       "   AdoptionSpeed  Age  Breed1  Breed2  Color1  Color2  Color3       DataType  \\\n",
       "0            2.0    3     299       0       1       7       0  training_data   \n",
       "1            0.0    1     265       0       1       2       0  training_data   \n",
       "2            3.0    1     307       0       2       7       0  training_data   \n",
       "3            2.0    4     307       0       1       2       0  training_data   \n",
       "4            2.0    1     307       0       1       0       0  training_data   \n",
       "\n",
       "                                         Description  Dewormed    ...      \\\n",
       "0  Nibble is a 3+ month old ball of cuteness. He ...         2    ...       \n",
       "1  I just found it alone yesterday near my apartm...         3    ...       \n",
       "2  Their pregnant mother was dumped by her irresp...         1    ...       \n",
       "3  Good guard dog, very alert, active, obedience ...         1    ...       \n",
       "4  This handsome yet cute boy is up for adoption....         2    ...       \n",
       "\n",
       "                          RescuerID  State  Sterilized  Type  Vaccinated  \\\n",
       "0  8480853f516546f6cf33aa88cd76c379  41326           2     2           2   \n",
       "1  3082c7125d8fb66f7dd4bff4192c8b14  41401           3     2           3   \n",
       "2  fa90fa5b1ee11c86938398b60abc32cb  41326           2     1           1   \n",
       "3  9238e4f44c71a75282e62f7136c6b240  41401           2     1           1   \n",
       "4  95481e953f8aed9ec3d16fc4509537e8  41326           2     1           2   \n",
       "\n",
       "  VideoAmt Animal_Type  Unnamed  AgeInYrs MixedBreed  \n",
       "0        0         Cat        0  0.250000          0  \n",
       "1        0         Cat        1  0.083333          0  \n",
       "2        0         Dog        0  0.083333          0  \n",
       "3        0         Dog        0  0.333333          0  \n",
       "4        0         Dog        0  0.083333          0  \n",
       "\n",
       "[5 rows x 29 columns]"
      ]
     },
     "execution_count": 20,
     "metadata": {},
     "output_type": "execute_result"
    }
   ],
   "source": [
    "all_data.head()"
   ]
  },
  {
   "cell_type": "code",
   "execution_count": 21,
   "metadata": {},
   "outputs": [],
   "source": [
    "all_data[\"Breed1\"] = all_data[\"Breed1\"].map(breed_dict).fillna(\"Unknown\")\n",
    "all_data[\"Breed2\"] = all_data[\"Breed2\"].map(breed_dict).fillna(\"None\")"
   ]
  },
  {
   "cell_type": "markdown",
   "metadata": {},
   "source": [
    "We see that even though some of the breed names doesn't count as a pure breed, such as \"Mixed Breed\"."
   ]
  },
  {
   "cell_type": "code",
   "execution_count": 22,
   "metadata": {},
   "outputs": [
    {
     "data": {
      "text/plain": [
       "Mixed Breed & None             5573\n",
       "Domestic Short Hair & None     4042\n",
       "Domestic Medium Hair & None    1264\n",
       "Mixed Breed & Mixed Breed      1188\n",
       "Tabby & None                    379\n",
       "dtype: int64"
      ]
     },
     "execution_count": 22,
     "metadata": {},
     "output_type": "execute_result"
    }
   ],
   "source": [
    "(all_data[\"Breed1\"] + \" & \" + all_data[\"Breed2\"]).value_counts().head()"
   ]
  },
  {
   "cell_type": "markdown",
   "metadata": {},
   "source": [
    "In some cases people write both the breeds in the second field, even though its the same as the first. So how do we go about using breed information if we have inaccurate data?\n",
    "\n",
    "I decided that I'm going to list them as mixed breed if mixed breed is present in the column.\n",
    "\n",
    "Also, for some of the cases of catsthe same breed is listed twice and they're then seen as mixed breed.\n",
    "We also notice that domestic short/medium/long hair cats are seen as pure bred, but they're not recognised as a pure breed so we need to adjust this."
   ]
  },
  {
   "cell_type": "code",
   "execution_count": 23,
   "metadata": {},
   "outputs": [
    {
     "data": {
      "text/html": [
       "<div>\n",
       "<style scoped>\n",
       "    .dataframe tbody tr th:only-of-type {\n",
       "        vertical-align: middle;\n",
       "    }\n",
       "\n",
       "    .dataframe tbody tr th {\n",
       "        vertical-align: top;\n",
       "    }\n",
       "\n",
       "    .dataframe thead th {\n",
       "        text-align: right;\n",
       "    }\n",
       "</style>\n",
       "<table border=\"1\" class=\"dataframe\">\n",
       "  <thead>\n",
       "    <tr style=\"text-align: right;\">\n",
       "      <th></th>\n",
       "      <th>Breed1</th>\n",
       "      <th>Breed2</th>\n",
       "      <th>MixedBreed</th>\n",
       "    </tr>\n",
       "  </thead>\n",
       "  <tbody>\n",
       "    <tr>\n",
       "      <th>0</th>\n",
       "      <td>Tabby</td>\n",
       "      <td>None</td>\n",
       "      <td>0</td>\n",
       "    </tr>\n",
       "    <tr>\n",
       "      <th>1</th>\n",
       "      <td>Domestic Medium Hair</td>\n",
       "      <td>None</td>\n",
       "      <td>0</td>\n",
       "    </tr>\n",
       "    <tr>\n",
       "      <th>2</th>\n",
       "      <td>Mixed Breed</td>\n",
       "      <td>None</td>\n",
       "      <td>0</td>\n",
       "    </tr>\n",
       "    <tr>\n",
       "      <th>3</th>\n",
       "      <td>Mixed Breed</td>\n",
       "      <td>None</td>\n",
       "      <td>0</td>\n",
       "    </tr>\n",
       "    <tr>\n",
       "      <th>4</th>\n",
       "      <td>Mixed Breed</td>\n",
       "      <td>None</td>\n",
       "      <td>0</td>\n",
       "    </tr>\n",
       "  </tbody>\n",
       "</table>\n",
       "</div>"
      ],
      "text/plain": [
       "                 Breed1 Breed2  MixedBreed\n",
       "0                 Tabby   None           0\n",
       "1  Domestic Medium Hair   None           0\n",
       "2           Mixed Breed   None           0\n",
       "3           Mixed Breed   None           0\n",
       "4           Mixed Breed   None           0"
      ]
     },
     "execution_count": 23,
     "metadata": {},
     "output_type": "execute_result"
    }
   ],
   "source": [
    "all_data[[\"Breed1\", \"Breed2\", \"MixedBreed\"]].head()"
   ]
  },
  {
   "cell_type": "code",
   "execution_count": 24,
   "metadata": {},
   "outputs": [],
   "source": [
    "# Make all the cases pure bred if breed 1 is the same as breed 2\n",
    "all_data.loc[all_data[\"Breed1\"] == all_data[\"Breed2\"], \"MixedBreed\"] = 0\n",
    "\n",
    "# But for the following cases, they are mixed:\n",
    "all_data.loc[all_data[\"Breed1\"] == \"Mixed Breed\", \"MixedBreed\"] = 1\n",
    "all_data.loc[all_data[\"Breed1\"] == \"Domestic Short Hair\", \"MixedBreed\"] = 1\n",
    "all_data.loc[all_data[\"Breed1\"] == \"Domestic Medium Hair\", \"MixedBreed\"] = 1\n",
    "all_data.loc[all_data[\"Breed1\"] == \"Domestic Long Hair\", \"MixedBreed\"] = 1"
   ]
  },
  {
   "cell_type": "code",
   "execution_count": 25,
   "metadata": {},
   "outputs": [
    {
     "data": {
      "text/plain": [
       "<matplotlib.axes._subplots.AxesSubplot at 0x2ef88b1a8d0>"
      ]
     },
     "execution_count": 25,
     "metadata": {},
     "output_type": "execute_result"
    },
    {
     "data": {
      "image/png": "[encoded data removed]",
      "text/plain": [
       "<Figure size 1296x576 with 1 Axes>"
      ]
     },
     "metadata": {},
     "output_type": "display_data"
    }
   ],
   "source": [
    "plt.figure(figsize=(18,8))\n",
    "sns.boxenplot(x = \"MixedBreed\", y = \"AdoptionSpeed\", hue=\"Animal_Type\", data=all_data)"
   ]
  },
  {
   "cell_type": "markdown",
   "metadata": {},
   "source": [
    "Now we have a better idea of the adoption rates of mixed breed animals. We can see that pure bred dogs get adopted faster than mixed breed dogs.\n",
    "\n",
    "But cats get adopted faster when they're a mixed breed.\n",
    "\n",
    "We will now use the \"MixedBreed\" feature instead of \"Breed1\" and \"Breed2\"."
   ]
  },
  {
   "cell_type": "markdown",
   "metadata": {},
   "source": [
    "## Gender"
   ]
  },
  {
   "cell_type": "markdown",
   "metadata": {},
   "source": [
    "Note that 1 - Male, 2 - Female and 3 - Mixed (Like when the profile represents multiple pets)."
   ]
  },
  {
   "cell_type": "code",
   "execution_count": 26,
   "metadata": {},
   "outputs": [
    {
     "data": {
      "text/plain": [
       "<matplotlib.axes._subplots.AxesSubplot at 0x2ef8931d6a0>"
      ]
     },
     "execution_count": 26,
     "metadata": {},
     "output_type": "execute_result"
    },
    {
     "data": {
      "image/png": "[encoded data removed]",
      "text/plain": [
       "<Figure size 576x360 with 1 Axes>"
      ]
     },
     "metadata": {},
     "output_type": "display_data"
    }
   ],
   "source": [
    "plt.figure(figsize=(8,5))\n",
    "sns.countplot(x = \"Gender\", hue=\"Animal_Type\", data=all_data)"
   ]
  },
  {
   "cell_type": "markdown",
   "metadata": {},
   "source": [
    "So we can see that there are a lot more female pets in the shelter than males. The smallest group is the mixed gender group.\n",
    "\n",
    "Now let's look at the distribution of the adoption speed of these different groups."
   ]
  },
  {
   "cell_type": "code",
   "execution_count": 27,
   "metadata": {},
   "outputs": [
    {
     "data": {
      "text/plain": [
       "<matplotlib.axes._subplots.AxesSubplot at 0x2ef88e74128>"
      ]
     },
     "execution_count": 27,
     "metadata": {},
     "output_type": "execute_result"
    },
    {
     "data": {
      "image/png": "[encoded data removed]",
      "text/plain": [
       "<Figure size 576x360 with 1 Axes>"
      ]
     },
     "metadata": {},
     "output_type": "display_data"
    }
   ],
   "source": [
    "plt.figure(figsize=(8,5))\n",
    "sns.boxenplot(x = \"Gender\", y = \"AdoptionSpeed\", hue=\"Animal_Type\", data=all_data)"
   ]
  },
  {
   "cell_type": "markdown",
   "metadata": {},
   "source": [
    "Male dogs get adopted a lot faster than female dogs and male cats tend to get adopted and not stay at the shelter for longer than 90 days unlike female cats.\n",
    "Female dogs on average get adopted later than male dogs, and a lot of of them don't get adopted.\n",
    "The mixed groups have similar distributions than the female dog and cat groups, except they tend to not get adopted as early.\n",
    "Does the mixed group mostly consist of a mother and her babies? And how many animals normally fall in the gender category 3?"
   ]
  },
  {
   "cell_type": "code",
   "execution_count": 28,
   "metadata": {},
   "outputs": [
    {
     "data": {
      "text/plain": [
       "count    2791.000000\n",
       "mean        3.910068\n",
       "std         2.298389\n",
       "min         2.000000\n",
       "25%         2.000000\n",
       "50%         3.000000\n",
       "75%         5.000000\n",
       "max        20.000000\n",
       "Name: Quantity, dtype: float64"
      ]
     },
     "execution_count": 28,
     "metadata": {},
     "output_type": "execute_result"
    }
   ],
   "source": [
    "all_data[all_data[\"Gender\"] == 3][\"Quantity\"].describe()"
   ]
  },
  {
   "cell_type": "markdown",
   "metadata": {},
   "source": [
    "On average, there are 4 animals that are listed as a group to be adopted. There's even a case of 20 animals. Normally, people adopt one or two pets so this explains the undesired adoption speed for this group. Shelters should consider listing the animals in smaller groups, or finding forster homes for them until the babies are weaned off their mom.\n",
    "\n",
    "But let's look at the description of these animals to investigate more."
   ]
  },
  {
   "cell_type": "markdown",
   "metadata": {},
   "source": [
    "## Description "
   ]
  },
  {
   "cell_type": "code",
   "execution_count": 29,
   "metadata": {},
   "outputs": [
    {
     "data": {
      "text/plain": [
       "1     14564\n",
       "2      1823\n",
       "3       905\n",
       "4       678\n",
       "5       443\n",
       "6       222\n",
       "7       109\n",
       "8        69\n",
       "9        44\n",
       "10       26\n",
       "20       18\n",
       "11       12\n",
       "12        7\n",
       "15        6\n",
       "14        4\n",
       "17        3\n",
       "13        3\n",
       "16        3\n",
       "18        2\n",
       "Name: Quantity, dtype: int64"
      ]
     },
     "execution_count": 29,
     "metadata": {},
     "output_type": "execute_result"
    }
   ],
   "source": [
    "all_data['Quantity'].value_counts().head(20)"
   ]
  },
  {
   "cell_type": "code",
   "execution_count": 30,
   "metadata": {},
   "outputs": [
    {
     "data": {
      "text/html": [
       "<div>\n",
       "<style scoped>\n",
       "    .dataframe tbody tr th:only-of-type {\n",
       "        vertical-align: middle;\n",
       "    }\n",
       "\n",
       "    .dataframe tbody tr th {\n",
       "        vertical-align: top;\n",
       "    }\n",
       "\n",
       "    .dataframe thead th {\n",
       "        text-align: right;\n",
       "    }\n",
       "</style>\n",
       "<table border=\"1\" class=\"dataframe\">\n",
       "  <thead>\n",
       "    <tr style=\"text-align: right;\">\n",
       "      <th></th>\n",
       "      <th>Description</th>\n",
       "      <th>Quantity</th>\n",
       "      <th>AdoptionSpeed</th>\n",
       "    </tr>\n",
       "  </thead>\n",
       "  <tbody>\n",
       "    <tr>\n",
       "      <th>263</th>\n",
       "      <td>These are 20 puppies, from 2 stray mums need good homes. They are 2 weeks old. If you can give them a good home without caging or chaining, please whatsapp or msg Ms Grace Bong tel no:</td>\n",
       "      <td>20</td>\n",
       "      <td>4.0</td>\n",
       "    </tr>\n",
       "    <tr>\n",
       "      <th>427</th>\n",
       "      <td>Hi, kepada sesiapa yang berminat untuk adopt kucing-kucing sila hubungi saya . Di sini ada berbagai jenis kucing, dari short hair - long hair.</td>\n",
       "      <td>20</td>\n",
       "      <td>4.0</td>\n",
       "    </tr>\n",
       "    <tr>\n",
       "      <th>1305</th>\n",
       "      <td>Bailey is an obedient and loyal dog Her owner is terminaaly ill and is unable to care for her</td>\n",
       "      <td>20</td>\n",
       "      <td>4.0</td>\n",
       "    </tr>\n",
       "    <tr>\n",
       "      <th>1659</th>\n",
       "      <td>Hi feline lovers, There are 40 cats desperately seeking new homes before they are taken away from DBKL! This video link shows the lady who has been keeping these cats: Her neighbors seem to dislike cats, so they complained to DBKL. DBKL came to her house and told her to get rid of those cats. They'll be coming back to her house this Monday (6th February ) and she can only have 1 cat. DBKL will take the other cats and put them to sleep. She's looking for people who wants to adopt her cats and be their new owner. If you are interested, please contact Nicole at. Thank you.</td>\n",
       "      <td>20</td>\n",
       "      <td>2.0</td>\n",
       "    </tr>\n",
       "    <tr>\n",
       "      <th>4759</th>\n",
       "      <td>The owner of these babies (Makcik Ani) has passed away on Monday 3 July There are about 30 cats. Mostly rescued. Her husband (Pakcik Ali) cannot manage 30 cats all alone by himself as he is old already. All cats are fully indoor T&amp;C: New adopters must be able to care for the cats financially &amp; care for them wholeheartedly with lots of love and with patience because Allahyarhamah Makcik Ani loved all her cats unconditionally. Location: Section 17, Shah Alam</td>\n",
       "      <td>20</td>\n",
       "      <td>2.0</td>\n",
       "    </tr>\n",
       "    <tr>\n",
       "      <th>6332</th>\n",
       "      <td>DAISY IS SMART AND LOYAL HER OWNER IS TERMINALLY ILL AND UNABLE TO CARE FOR HER</td>\n",
       "      <td>20</td>\n",
       "      <td>4.0</td>\n",
       "    </tr>\n",
       "    <tr>\n",
       "      <th>7094</th>\n",
       "      <td>SAYA ADA 20 LEBIH EKOR KUCING YANG TERPAKSA SAYA LEPASKAN SEBAB SAYA PERLU PINDAH TINGGAL DI KAMPUNG.Dalam gambar tu adalah separuh dari kucing yg saya ada.</td>\n",
       "      <td>20</td>\n",
       "      <td>4.0</td>\n",
       "    </tr>\n",
       "    <tr>\n",
       "      <th>7993</th>\n",
       "      <td>Iris owner is terminally ill and unable to care for her She is very approachable and caring in nature.</td>\n",
       "      <td>20</td>\n",
       "      <td>4.0</td>\n",
       "    </tr>\n",
       "    <tr>\n",
       "      <th>9405</th>\n",
       "      <td>Mocha is a lovable and friendly dog Owner is terminally ill and unable to care for her</td>\n",
       "      <td>20</td>\n",
       "      <td>4.0</td>\n",
       "    </tr>\n",
       "    <tr>\n",
       "      <th>9779</th>\n",
       "      <td>Sasha is obedient and has good temperament Her owner is terminally ill and is unable to care for her</td>\n",
       "      <td>20</td>\n",
       "      <td>4.0</td>\n",
       "    </tr>\n",
       "    <tr>\n",
       "      <th>12792</th>\n",
       "      <td>There are over 30 puppies in an abandon wooden house in Temiang, Seremban. Some neighbors are giving them clean water and their mother is trying to guard the house… The house is apparently attack by termite and the structure is in bad shape. According to the neighbor, the mothers will attack them if they get close to their puppies. In long run, it will going to bring a lot more problem to the neighborhood. The puppies will also in danger as the house condition is deteriorating. The puppies are adorable and look healthy.. Can anyone help to remove the puppies to a safe place please? They are at the following address: /A9, Jln Han Hui Foong, Temiang. Negeri Sembilan. Malaysia. It is at the wooden housing area behind SMK Tengku Ampuan Najihah, Temiang. Seremban.. Follow the road in front ...</td>\n",
       "      <td>20</td>\n",
       "      <td>3.0</td>\n",
       "    </tr>\n",
       "    <tr>\n",
       "      <th>14583</th>\n",
       "      <td>He is a very energetic dog Unfortunately his owner is terminally ill and unable to care for him</td>\n",
       "      <td>20</td>\n",
       "      <td>1.0</td>\n",
       "    </tr>\n",
       "    <tr>\n",
       "      <th>438</th>\n",
       "      <td>Rescued ones around 3 months old are up for adoption. They are mischievous, absolutely charming, sweet and loving. They are well taken care by their amma. If you are patient with puppies and looking for a companion kindly contact us or visit our shelter. Thank you!</td>\n",
       "      <td>20</td>\n",
       "      <td>NaN</td>\n",
       "    </tr>\n",
       "    <tr>\n",
       "      <th>463</th>\n",
       "      <td>Rescued ones around 3 months old are up for adoption. They are mischievous, absolutely charming, sweet and loving. They are well taken care by their amma. If you are patient with puppies and looking for a companion kindly contact us at/ or visit our shelter. Thank you!</td>\n",
       "      <td>20</td>\n",
       "      <td>NaN</td>\n",
       "    </tr>\n",
       "    <tr>\n",
       "      <th>642</th>\n",
       "      <td>Ebbi was going to be put down along with his siblings at the animal shelter as they were ill. After antibiotics and some TLC, he is running around the house chasing his siblings without a care in the world. He is the cheekiest kitten and loves attention. He has beautiful hazel eyes and likes playing with his toys, plastics bottles and empty candy wrappers. Hope to find a forever home for this playful kitty.</td>\n",
       "      <td>20</td>\n",
       "      <td>NaN</td>\n",
       "    </tr>\n",
       "    <tr>\n",
       "      <th>2582</th>\n",
       "      <td>Saving one dog will not change the world, but surely for that one dog, the world will change forever. Please call Ms.Liza / Ms.Nancy / Ms.Jennie LOCATION : FURRYKIDS SAFAHAVEN (SEREMBAN)</td>\n",
       "      <td>20</td>\n",
       "      <td>NaN</td>\n",
       "    </tr>\n",
       "    <tr>\n",
       "      <th>2919</th>\n",
       "      <td>Kajang Municipal is planning on putting 20 puppies to sleep. Anyone out there willingly to adopt the puppies, please Contact immediately SPCA Selangor</td>\n",
       "      <td>20</td>\n",
       "      <td>NaN</td>\n",
       "    </tr>\n",
       "    <tr>\n",
       "      <th>2953</th>\n",
       "      <td>Hi! I've 2 puppies mix breed male and female 1 month old. Interested kindly contact me at ms chai. thks.</td>\n",
       "      <td>20</td>\n",
       "      <td>NaN</td>\n",
       "    </tr>\n",
       "  </tbody>\n",
       "</table>\n",
       "</div>"
      ],
      "text/plain": [
       "                                                                                                                                                                                                                                                                                                                                                                                                                                                                                                                                                                                                                                                                                                                                                                                                                           Description  \\\n",
       "263                                                                                                                                                                                                                                                                                                                                                                                                                                                                                                                                                                                                                                           These are 20 puppies, from 2 stray mums need good homes. They are 2 weeks old. If you can give them a good home without caging or chaining, please whatsapp or msg Ms Grace Bong tel no:   \n",
       "427                                                                                                                                                                                                                                                                                                                                                                                                                                                                                                                                                                                                                                                                                     Hi, kepada sesiapa yang berminat untuk adopt kucing-kucing sila hubungi saya . Di sini ada berbagai jenis kucing, dari short hair - long hair.   \n",
       "1305                                                                                                                                                                                                                                                                                                                                                                                                                                                                                                                                                                                                                                                                                                                                     Bailey is an obedient and loyal dog Her owner is terminaaly ill and is unable to care for her   \n",
       "1659                                                                                                                                                                                                                                  Hi feline lovers, There are 40 cats desperately seeking new homes before they are taken away from DBKL! This video link shows the lady who has been keeping these cats: Her neighbors seem to dislike cats, so they complained to DBKL. DBKL came to her house and told her to get rid of those cats. They'll be coming back to her house this Monday (6th February ) and she can only have 1 cat. DBKL will take the other cats and put them to sleep. She's looking for people who wants to adopt her cats and be their new owner. If you are interested, please contact Nicole at. Thank you.   \n",
       "4759                                                                                                                                                                                                                                                                                                                                                      The owner of these babies (Makcik Ani) has passed away on Monday 3 July There are about 30 cats. Mostly rescued. Her husband (Pakcik Ali) cannot manage 30 cats all alone by himself as he is old already. All cats are fully indoor T&C: New adopters must be able to care for the cats financially & care for them wholeheartedly with lots of love and with patience because Allahyarhamah Makcik Ani loved all her cats unconditionally. Location: Section 17, Shah Alam   \n",
       "6332                                                                                                                                                                                                                                                                                                                                                                                                                                                                                                                                                                                                                                                                                                                                                   DAISY IS SMART AND LOYAL HER OWNER IS TERMINALLY ILL AND UNABLE TO CARE FOR HER   \n",
       "7094                                                                                                                                                                                                                                                                                                                                                                                                                                                                                                                                                                                                                                                                      SAYA ADA 20 LEBIH EKOR KUCING YANG TERPAKSA SAYA LEPASKAN SEBAB SAYA PERLU PINDAH TINGGAL DI KAMPUNG.Dalam gambar tu adalah separuh dari kucing yg saya ada.   \n",
       "7993                                                                                                                                                                                                                                                                                                                                                                                                                                                                                                                                                                                                                                                                                                                            Iris owner is terminally ill and unable to care for her She is very approachable and caring in nature.   \n",
       "9405                                                                                                                                                                                                                                                                                                                                                                                                                                                                                                                                                                                                                                                                                                                                            Mocha is a lovable and friendly dog Owner is terminally ill and unable to care for her   \n",
       "9779                                                                                                                                                                                                                                                                                                                                                                                                                                                                                                                                                                                                                                                                                                                              Sasha is obedient and has good temperament Her owner is terminally ill and is unable to care for her   \n",
       "12792  There are over 30 puppies in an abandon wooden house in Temiang, Seremban. Some neighbors are giving them clean water and their mother is trying to guard the house… The house is apparently attack by termite and the structure is in bad shape. According to the neighbor, the mothers will attack them if they get close to their puppies. In long run, it will going to bring a lot more problem to the neighborhood. The puppies will also in danger as the house condition is deteriorating. The puppies are adorable and look healthy.. Can anyone help to remove the puppies to a safe place please? They are at the following address: /A9, Jln Han Hui Foong, Temiang. Negeri Sembilan. Malaysia. It is at the wooden housing area behind SMK Tengku Ampuan Najihah, Temiang. Seremban.. Follow the road in front ...   \n",
       "14583                                                                                                                                                                                                                                                                                                                                                                                                                                                                                                                                                                                                                                                                                                                                  He is a very energetic dog Unfortunately his owner is terminally ill and unable to care for him   \n",
       "438                                                                                                                                                                                                                                                                                                                                                                                                                                                                                                                                                          Rescued ones around 3 months old are up for adoption. They are mischievous, absolutely charming, sweet and loving. They are well taken care by their amma. If you are patient with puppies and looking for a companion kindly contact us or visit our shelter. Thank you!   \n",
       "463                                                                                                                                                                                                                                                                                                                                                                                                                                                                                                                                                      Rescued ones around 3 months old are up for adoption. They are mischievous, absolutely charming, sweet and loving. They are well taken care by their amma. If you are patient with puppies and looking for a companion kindly contact us at/ or visit our shelter. Thank you!   \n",
       "642                                                                                                                                                                                                                                                                                                                                                                                                         Ebbi was going to be put down along with his siblings at the animal shelter as they were ill. After antibiotics and some TLC, he is running around the house chasing his siblings without a care in the world. He is the cheekiest kitten and loves attention. He has beautiful hazel eyes and likes playing with his toys, plastics bottles and empty candy wrappers. Hope to find a forever home for this playful kitty.   \n",
       "2582                                                                                                                                                                                                                                                                                                                                                                                                                                                                                                                                                                                                                                        Saving one dog will not change the world, but surely for that one dog, the world will change forever. Please call Ms.Liza / Ms.Nancy / Ms.Jennie LOCATION : FURRYKIDS SAFAHAVEN (SEREMBAN)   \n",
       "2919                                                                                                                                                                                                                                                                                                                                                                                                                                                                                                                                                                                                                                                                            Kajang Municipal is planning on putting 20 puppies to sleep. Anyone out there willingly to adopt the puppies, please Contact immediately SPCA Selangor   \n",
       "2953                                                                                                                                                                                                                                                                                                                                                                                                                                                                                                                                                                                                                                                                                                                          Hi! I've 2 puppies mix breed male and female 1 month old. Interested kindly contact me at ms chai. thks.   \n",
       "\n",
       "       Quantity  AdoptionSpeed  \n",
       "263          20            4.0  \n",
       "427          20            4.0  \n",
       "1305         20            4.0  \n",
       "1659         20            2.0  \n",
       "4759         20            2.0  \n",
       "6332         20            4.0  \n",
       "7094         20            4.0  \n",
       "7993         20            4.0  \n",
       "9405         20            4.0  \n",
       "9779         20            4.0  \n",
       "12792        20            3.0  \n",
       "14583        20            1.0  \n",
       "438          20            NaN  \n",
       "463          20            NaN  \n",
       "642          20            NaN  \n",
       "2582         20            NaN  \n",
       "2919         20            NaN  \n",
       "2953         20            NaN  "
      ]
     },
     "execution_count": 30,
     "metadata": {},
     "output_type": "execute_result"
    }
   ],
   "source": [
    "pd.set_option('max_colwidth', 800)\n",
    "all_data.loc[all_data['Quantity'] > 19][['Description', 'Quantity', 'AdoptionSpeed']].head(20)"
   ]
  },
  {
   "cell_type": "markdown",
   "metadata": {},
   "source": [
    "It seems that some of the descriptions and the actual quantity listed is not always the same. Most of the pets that have a quantity of 20, seems to actually be one pet.\n",
    "\n",
    "Let's see if the length of a description influences the adoption speed."
   ]
  },
  {
   "cell_type": "code",
   "execution_count": 31,
   "metadata": {},
   "outputs": [
    {
     "data": {
      "text/plain": [
       "Text(0.5,1,'AdoptionSpeed by Type and count of words in description')"
      ]
     },
     "execution_count": 31,
     "metadata": {},
     "output_type": "execute_result"
    },
    {
     "data": {
      "image/png": "[encoded data removed]",
      "text/plain": [
       "<Figure size 1152x432 with 2 Axes>"
      ]
     },
     "metadata": {},
     "output_type": "display_data"
    }
   ],
   "source": [
    "all_data[\"Description\"] = all_data[\"Description\"].fillna(\"\")\n",
    "all_data[\"desc_length\"] = all_data[\"Description\"].apply(lambda x: len(x))\n",
    "all_data[\"desc_words\"] = all_data[\"Description\"].apply(lambda x: len(x.split()))\n",
    "\n",
    "plt.figure(figsize=(16, 6))\n",
    "plt.subplot(1, 2, 1)\n",
    "sns.violinplot(x=\"AdoptionSpeed\", y=\"desc_length\", hue=\"Animal_Type\", data=all_data)\n",
    "plt.title(\"AdoptionSpeed by Type and description length\")\n",
    "\n",
    "plt.subplot(1, 2, 2)\n",
    "sns.violinplot(x=\"AdoptionSpeed\", y=\"desc_words\", hue=\"Animal_Type\", data=all_data)\n",
    "plt.title(\"AdoptionSpeed by Type and count of words in description\")"
   ]
  },
  {
   "cell_type": "markdown",
   "metadata": {},
   "source": [
    "It seems that shorter descriptions lead to faster adoption, and especially on the case of dogs, the longer the description, the least likely to get adopted."
   ]
  },
  {
   "cell_type": "markdown",
   "metadata": {},
   "source": [
    "## Size of the pets "
   ]
  },
  {
   "cell_type": "markdown",
   "metadata": {},
   "source": [
    "Perhaps smaller dogs are more likely to get adopted, since larger dogs need more space. I would think size doesn't really matter when it comes to cats, but let's check it out.\n",
    "\n",
    "Maturity Sizes are 1 - Small, 2 - Medium, 3 - Large, 4 - Extra Large, 0 - Not Specified."
   ]
  },
  {
   "cell_type": "code",
   "execution_count": 32,
   "metadata": {},
   "outputs": [
    {
     "data": {
      "text/plain": [
       "<matplotlib.axes._subplots.AxesSubplot at 0x2ef88b21898>"
      ]
     },
     "execution_count": 32,
     "metadata": {},
     "output_type": "execute_result"
    },
    {
     "data": {
      "image/png": "[encoded data removed]",
      "text/plain": [
       "<Figure size 576x360 with 1 Axes>"
      ]
     },
     "metadata": {},
     "output_type": "display_data"
    }
   ],
   "source": [
    "plt.figure(figsize=(8,5))\n",
    "sns.countplot(x = \"MaturitySize\", hue = \"Animal_Type\", data = all_data)"
   ]
  },
  {
   "cell_type": "markdown",
   "metadata": {},
   "source": [
    "Most dogs and cats are medium sized, and there aren't any cases where we have no data on the size. So let's check out the distribution."
   ]
  },
  {
   "cell_type": "code",
   "execution_count": 33,
   "metadata": {},
   "outputs": [
    {
     "data": {
      "text/plain": [
       "<matplotlib.axes._subplots.AxesSubplot at 0x2ef88e34e48>"
      ]
     },
     "execution_count": 33,
     "metadata": {},
     "output_type": "execute_result"
    },
    {
     "data": {
      "image/png": "[encoded data removed]",
      "text/plain": [
       "<Figure size 576x360 with 1 Axes>"
      ]
     },
     "metadata": {},
     "output_type": "display_data"
    }
   ],
   "source": [
    "plt.figure(figsize=(8,5))\n",
    "sns.boxenplot(x = \"MaturitySize\", y = \"AdoptionSpeed\", hue = \"Animal_Type\", data = all_data)"
   ]
  },
  {
   "cell_type": "markdown",
   "metadata": {},
   "source": [
    "Looks like smaller dogs are adopted quicker than their larger counterparts, and small cats are definitely the most popular size.\n",
    "It seems that there are no cases where the extra large dogs don't get adopted, so let's investigate that group and the unspecified size group.\n"
   ]
  },
  {
   "cell_type": "code",
   "execution_count": 34,
   "metadata": {},
   "outputs": [
    {
     "data": {
      "text/html": [
       "<div>\n",
       "<style scoped>\n",
       "    .dataframe tbody tr th:only-of-type {\n",
       "        vertical-align: middle;\n",
       "    }\n",
       "\n",
       "    .dataframe tbody tr th {\n",
       "        vertical-align: top;\n",
       "    }\n",
       "\n",
       "    .dataframe thead th {\n",
       "        text-align: right;\n",
       "    }\n",
       "</style>\n",
       "<table border=\"1\" class=\"dataframe\">\n",
       "  <thead>\n",
       "    <tr style=\"text-align: right;\">\n",
       "      <th></th>\n",
       "      <th>AdoptionSpeed</th>\n",
       "      <th>Age</th>\n",
       "      <th>Breed1</th>\n",
       "      <th>Breed2</th>\n",
       "      <th>Color1</th>\n",
       "      <th>Color2</th>\n",
       "      <th>Color3</th>\n",
       "      <th>DataType</th>\n",
       "      <th>Description</th>\n",
       "      <th>Dewormed</th>\n",
       "      <th>...</th>\n",
       "      <th>Sterilized</th>\n",
       "      <th>Type</th>\n",
       "      <th>Vaccinated</th>\n",
       "      <th>VideoAmt</th>\n",
       "      <th>Animal_Type</th>\n",
       "      <th>Unnamed</th>\n",
       "      <th>AgeInYrs</th>\n",
       "      <th>MixedBreed</th>\n",
       "      <th>desc_length</th>\n",
       "      <th>desc_words</th>\n",
       "    </tr>\n",
       "  </thead>\n",
       "  <tbody>\n",
       "  </tbody>\n",
       "</table>\n",
       "<p>0 rows × 31 columns</p>\n",
       "</div>"
      ],
      "text/plain": [
       "Empty DataFrame\n",
       "Columns: [AdoptionSpeed, Age, Breed1, Breed2, Color1, Color2, Color3, DataType, Description, Dewormed, Fee, FurLength, Gender, Health, MaturitySize, Name, PetID, PhotoAmt, Quantity, RescuerID, State, Sterilized, Type, Vaccinated, VideoAmt, Animal_Type, Unnamed, AgeInYrs, MixedBreed, desc_length, desc_words]\n",
       "Index: []\n",
       "\n",
       "[0 rows x 31 columns]"
      ]
     },
     "execution_count": 34,
     "metadata": {},
     "output_type": "execute_result"
    }
   ],
   "source": [
    "all_data[all_data[\"MaturitySize\"] == 0]\n",
    "\n",
    "# There are no casesn where we don't have a maturity size (Yay!)"
   ]
  },
  {
   "cell_type": "code",
   "execution_count": 35,
   "metadata": {},
   "outputs": [
    {
     "data": {
      "text/html": [
       "<div>\n",
       "<style scoped>\n",
       "    .dataframe tbody tr th:only-of-type {\n",
       "        vertical-align: middle;\n",
       "    }\n",
       "\n",
       "    .dataframe tbody tr th {\n",
       "        vertical-align: top;\n",
       "    }\n",
       "\n",
       "    .dataframe thead th {\n",
       "        text-align: right;\n",
       "    }\n",
       "</style>\n",
       "<table border=\"1\" class=\"dataframe\">\n",
       "  <thead>\n",
       "    <tr style=\"text-align: right;\">\n",
       "      <th></th>\n",
       "      <th>AdoptionSpeed</th>\n",
       "      <th>Age</th>\n",
       "      <th>Breed1</th>\n",
       "      <th>Breed2</th>\n",
       "      <th>Color1</th>\n",
       "      <th>Color2</th>\n",
       "      <th>Color3</th>\n",
       "      <th>DataType</th>\n",
       "      <th>Description</th>\n",
       "      <th>Dewormed</th>\n",
       "      <th>...</th>\n",
       "      <th>Sterilized</th>\n",
       "      <th>Type</th>\n",
       "      <th>Vaccinated</th>\n",
       "      <th>VideoAmt</th>\n",
       "      <th>Animal_Type</th>\n",
       "      <th>Unnamed</th>\n",
       "      <th>AgeInYrs</th>\n",
       "      <th>MixedBreed</th>\n",
       "      <th>desc_length</th>\n",
       "      <th>desc_words</th>\n",
       "    </tr>\n",
       "  </thead>\n",
       "  <tbody>\n",
       "    <tr>\n",
       "      <th>1265</th>\n",
       "      <td>1.0</td>\n",
       "      <td>12</td>\n",
       "      <td>Great Dane</td>\n",
       "      <td>None</td>\n",
       "      <td>1</td>\n",
       "      <td>0</td>\n",
       "      <td>0</td>\n",
       "      <td>training_data</td>\n",
       "      <td>Oreo Female Great Dane 1 year old</td>\n",
       "      <td>1</td>\n",
       "      <td>...</td>\n",
       "      <td>1</td>\n",
       "      <td>1</td>\n",
       "      <td>1</td>\n",
       "      <td>0</td>\n",
       "      <td>Dog</td>\n",
       "      <td>0</td>\n",
       "      <td>1.000000</td>\n",
       "      <td>0</td>\n",
       "      <td>33</td>\n",
       "      <td>7</td>\n",
       "    </tr>\n",
       "    <tr>\n",
       "      <th>1899</th>\n",
       "      <td>2.0</td>\n",
       "      <td>36</td>\n",
       "      <td>Bullmastiff</td>\n",
       "      <td>Rottweiler</td>\n",
       "      <td>1</td>\n",
       "      <td>2</td>\n",
       "      <td>0</td>\n",
       "      <td>training_data</td>\n",
       "      <td>Ali (named after the boxer Mohammad Ali) has a sad story. His owners put him up for boarding at a pet shop and abandoned him there about six months ago. The address and phone number they provided were fake and the pet shop people were saddled with Ali whom they did not want at all. When one of our volunteers went to the pet shop, she found Ali to be very frightened with his tail between his legs. He was removed from there and brought to Klang where he has been vaccinated pending neutering. He is currently being fostered and when he was let loose, the first thing Ali did was to romp around and get dirty. He is no longer afraid and is a friendly happy dog. Please help us give Ali a good home.</td>\n",
       "      <td>1</td>\n",
       "      <td>...</td>\n",
       "      <td>2</td>\n",
       "      <td>1</td>\n",
       "      <td>1</td>\n",
       "      <td>0</td>\n",
       "      <td>Dog</td>\n",
       "      <td>0</td>\n",
       "      <td>3.000000</td>\n",
       "      <td>1</td>\n",
       "      <td>699</td>\n",
       "      <td>136</td>\n",
       "    </tr>\n",
       "    <tr>\n",
       "      <th>2461</th>\n",
       "      <td>2.0</td>\n",
       "      <td>36</td>\n",
       "      <td>Saint Bernard</td>\n",
       "      <td>None</td>\n",
       "      <td>1</td>\n",
       "      <td>2</td>\n",
       "      <td>7</td>\n",
       "      <td>training_data</td>\n",
       "      <td>Owner bought him from a pet shop and was told to be just a medium size dog.Now found out he is too big to handle. He will be neuter before adoption to prevent illegal breeding. Interested to adopt him pls call Mr  .</td>\n",
       "      <td>1</td>\n",
       "      <td>...</td>\n",
       "      <td>2</td>\n",
       "      <td>1</td>\n",
       "      <td>1</td>\n",
       "      <td>0</td>\n",
       "      <td>Dog</td>\n",
       "      <td>0</td>\n",
       "      <td>3.000000</td>\n",
       "      <td>0</td>\n",
       "      <td>215</td>\n",
       "      <td>43</td>\n",
       "    </tr>\n",
       "    <tr>\n",
       "      <th>2514</th>\n",
       "      <td>2.0</td>\n",
       "      <td>4</td>\n",
       "      <td>Domestic Short Hair</td>\n",
       "      <td>None</td>\n",
       "      <td>1</td>\n",
       "      <td>6</td>\n",
       "      <td>0</td>\n",
       "      <td>training_data</td>\n",
       "      <td>-</td>\n",
       "      <td>2</td>\n",
       "      <td>...</td>\n",
       "      <td>2</td>\n",
       "      <td>2</td>\n",
       "      <td>2</td>\n",
       "      <td>0</td>\n",
       "      <td>Cat</td>\n",
       "      <td>1</td>\n",
       "      <td>0.333333</td>\n",
       "      <td>1</td>\n",
       "      <td>1</td>\n",
       "      <td>1</td>\n",
       "    </tr>\n",
       "    <tr>\n",
       "      <th>2523</th>\n",
       "      <td>3.0</td>\n",
       "      <td>72</td>\n",
       "      <td>Rottweiler</td>\n",
       "      <td>None</td>\n",
       "      <td>1</td>\n",
       "      <td>2</td>\n",
       "      <td>0</td>\n",
       "      <td>training_data</td>\n",
       "      <td>Rotti girl with MKA certificate looking for a forever home. Reimbursement of spaying fee is compulsory. Interested to adopt pls contact Rachel</td>\n",
       "      <td>3</td>\n",
       "      <td>...</td>\n",
       "      <td>1</td>\n",
       "      <td>1</td>\n",
       "      <td>3</td>\n",
       "      <td>0</td>\n",
       "      <td>Dog</td>\n",
       "      <td>0</td>\n",
       "      <td>6.000000</td>\n",
       "      <td>0</td>\n",
       "      <td>142</td>\n",
       "      <td>22</td>\n",
       "    </tr>\n",
       "    <tr>\n",
       "      <th>2738</th>\n",
       "      <td>1.0</td>\n",
       "      <td>18</td>\n",
       "      <td>Rottweiler</td>\n",
       "      <td>None</td>\n",
       "      <td>1</td>\n",
       "      <td>2</td>\n",
       "      <td>0</td>\n",
       "      <td>training_data</td>\n",
       "      <td>Pure breed Rottweiler rescued fr breeder. Already spayed, vaccinated and deworm. Ready to go to a home. Friendly but will bark when see strangers. Adopter must hv a big compound for her to run as she is a big dog. Reimbursement of spaying fee and some medical expenses is required upon adoption. If you are interested to adopt pls contact Amy</td>\n",
       "      <td>1</td>\n",
       "      <td>...</td>\n",
       "      <td>1</td>\n",
       "      <td>1</td>\n",
       "      <td>1</td>\n",
       "      <td>0</td>\n",
       "      <td>Dog</td>\n",
       "      <td>0</td>\n",
       "      <td>1.500000</td>\n",
       "      <td>0</td>\n",
       "      <td>343</td>\n",
       "      <td>61</td>\n",
       "    </tr>\n",
       "    <tr>\n",
       "      <th>3157</th>\n",
       "      <td>3.0</td>\n",
       "      <td>36</td>\n",
       "      <td>Golden Retriever</td>\n",
       "      <td>Mixed Breed</td>\n",
       "      <td>3</td>\n",
       "      <td>0</td>\n",
       "      <td>0</td>\n",
       "      <td>training_data</td>\n",
       "      <td>Owner cannot keep him anymore due to council ruling. Good guard dog. Neutered vaccinated rabies japped. Heartworm annual japped. Annual booster japped. Healthy dog. Rum is a blood donor.Trained with basic commands. Sit stay wait. Trained to walk on leash. If u interested to gv Rum a home pls contact Rachel</td>\n",
       "      <td>1</td>\n",
       "      <td>...</td>\n",
       "      <td>1</td>\n",
       "      <td>1</td>\n",
       "      <td>1</td>\n",
       "      <td>0</td>\n",
       "      <td>Dog</td>\n",
       "      <td>0</td>\n",
       "      <td>3.000000</td>\n",
       "      <td>1</td>\n",
       "      <td>307</td>\n",
       "      <td>51</td>\n",
       "    </tr>\n",
       "    <tr>\n",
       "      <th>3558</th>\n",
       "      <td>2.0</td>\n",
       "      <td>13</td>\n",
       "      <td>Doberman Pinscher</td>\n",
       "      <td>None</td>\n",
       "      <td>1</td>\n",
       "      <td>2</td>\n",
       "      <td>0</td>\n",
       "      <td>training_data</td>\n",
       "      <td>He is very playful, alert, energetic, smart and very healthy. But I tend to be a bit jealousy....</td>\n",
       "      <td>1</td>\n",
       "      <td>...</td>\n",
       "      <td>2</td>\n",
       "      <td>1</td>\n",
       "      <td>1</td>\n",
       "      <td>0</td>\n",
       "      <td>Dog</td>\n",
       "      <td>0</td>\n",
       "      <td>1.083333</td>\n",
       "      <td>0</td>\n",
       "      <td>97</td>\n",
       "      <td>18</td>\n",
       "    </tr>\n",
       "    <tr>\n",
       "      <th>4706</th>\n",
       "      <td>3.0</td>\n",
       "      <td>12</td>\n",
       "      <td>Great Dane</td>\n",
       "      <td>None</td>\n",
       "      <td>1</td>\n",
       "      <td>0</td>\n",
       "      <td>0</td>\n",
       "      <td>training_data</td>\n",
       "      <td>She is a pure Great Dane. Black in colour. I am giving her away because I wont be able to take care of her skin problem. She is infected with dermotex. Pls call me or sms if there is anyone who is willing to adopt her. Urgent reply pls. If I am not able to find casper a home, I am considering to put her to sleep which would be my last resort option.</td>\n",
       "      <td>1</td>\n",
       "      <td>...</td>\n",
       "      <td>2</td>\n",
       "      <td>1</td>\n",
       "      <td>1</td>\n",
       "      <td>0</td>\n",
       "      <td>Dog</td>\n",
       "      <td>0</td>\n",
       "      <td>1.000000</td>\n",
       "      <td>0</td>\n",
       "      <td>351</td>\n",
       "      <td>74</td>\n",
       "    </tr>\n",
       "    <tr>\n",
       "      <th>5571</th>\n",
       "      <td>0.0</td>\n",
       "      <td>1</td>\n",
       "      <td>Maine Coon</td>\n",
       "      <td>Bobtail</td>\n",
       "      <td>1</td>\n",
       "      <td>7</td>\n",
       "      <td>0</td>\n",
       "      <td>training_data</td>\n",
       "      <td>He is a very active and lovable kitten (about 5 weeks old). He has white socks and mittens on his enormous paws (he is going to be big!). Litter box trained and can eat soft food. He has been treated with Frontline and is pest free. He has been dewormed once. He is ready to go to his forever home but he is still a little guy and needs a lot of love and affection even when he plays rough with his tiny teeth and oversize paws.</td>\n",
       "      <td>1</td>\n",
       "      <td>...</td>\n",
       "      <td>2</td>\n",
       "      <td>2</td>\n",
       "      <td>2</td>\n",
       "      <td>2</td>\n",
       "      <td>Cat</td>\n",
       "      <td>0</td>\n",
       "      <td>0.083333</td>\n",
       "      <td>1</td>\n",
       "      <td>428</td>\n",
       "      <td>87</td>\n",
       "    </tr>\n",
       "    <tr>\n",
       "      <th>5781</th>\n",
       "      <td>3.0</td>\n",
       "      <td>30</td>\n",
       "      <td>Tabby</td>\n",
       "      <td>None</td>\n",
       "      <td>3</td>\n",
       "      <td>4</td>\n",
       "      <td>7</td>\n",
       "      <td>training_data</td>\n",
       "      <td>This is Jasper.I have had him for almost 3 years now. The reason I am giving him up for adoption is because the place I live in is very unsuitable for him. There are too many stray cats in my area and Jasper has come home too many times after being involved in serious cat fights. I have had to take him to the vet hospital so many times as an emergency case because of his fighting. I tried to keep him indoors and not letting him go out, but he got very depressed and wasn't interested in anything anymore. He loves to go out and sit in the sun and to roll in the grass. However, where I live, the place is very dangerous and there are hardly any fields for him to run and play at. I am looking for someone who seriously loves and understands cats. It is very important that the area you live i...</td>\n",
       "      <td>1</td>\n",
       "      <td>...</td>\n",
       "      <td>1</td>\n",
       "      <td>2</td>\n",
       "      <td>1</td>\n",
       "      <td>0</td>\n",
       "      <td>Cat</td>\n",
       "      <td>0</td>\n",
       "      <td>2.500000</td>\n",
       "      <td>0</td>\n",
       "      <td>1811</td>\n",
       "      <td>361</td>\n",
       "    </tr>\n",
       "    <tr>\n",
       "      <th>6007</th>\n",
       "      <td>2.0</td>\n",
       "      <td>48</td>\n",
       "      <td>German Shepherd Dog</td>\n",
       "      <td>None</td>\n",
       "      <td>2</td>\n",
       "      <td>0</td>\n",
       "      <td>0</td>\n",
       "      <td>training_data</td>\n",
       "      <td>Summer's owner, an elderly man passed away recently, and his family is not able to care for her due to time constraints as Summer is used to going for walks daily. They are currently managing but feel Summer would be better off with someone who has time for her.</td>\n",
       "      <td>1</td>\n",
       "      <td>...</td>\n",
       "      <td>2</td>\n",
       "      <td>1</td>\n",
       "      <td>1</td>\n",
       "      <td>0</td>\n",
       "      <td>Dog</td>\n",
       "      <td>0</td>\n",
       "      <td>4.000000</td>\n",
       "      <td>0</td>\n",
       "      <td>262</td>\n",
       "      <td>49</td>\n",
       "    </tr>\n",
       "    <tr>\n",
       "      <th>6712</th>\n",
       "      <td>3.0</td>\n",
       "      <td>30</td>\n",
       "      <td>Tabby</td>\n",
       "      <td>Domestic Medium Hair</td>\n",
       "      <td>5</td>\n",
       "      <td>0</td>\n",
       "      <td>0</td>\n",
       "      <td>training_data</td>\n",
       "      <td>This pet was fostered to me by the owner who was moving away. He is very affectionate, loves hugs and cuddles. He is a one person cat and will not share. Very big for a local cat he is in perfect form, long tail, slightly two toned pale yellow beige colouring. Potty trained, loves playing ropes, follows or runs after you. He might take to sleeping in your bed (he sleeps in mine and wakes me up with kisses). He is a lovely cat and needs an equally loving human to care for him.</td>\n",
       "      <td>1</td>\n",
       "      <td>...</td>\n",
       "      <td>1</td>\n",
       "      <td>2</td>\n",
       "      <td>1</td>\n",
       "      <td>0</td>\n",
       "      <td>Cat</td>\n",
       "      <td>0</td>\n",
       "      <td>2.500000</td>\n",
       "      <td>1</td>\n",
       "      <td>480</td>\n",
       "      <td>94</td>\n",
       "    </tr>\n",
       "    <tr>\n",
       "      <th>6899</th>\n",
       "      <td>2.0</td>\n",
       "      <td>3</td>\n",
       "      <td>Mixed Breed</td>\n",
       "      <td>Mixed Breed</td>\n",
       "      <td>2</td>\n",
       "      <td>0</td>\n",
       "      <td>0</td>\n",
       "      <td>training_data</td>\n",
       "      <td>FOR serious adopters only! If you are interested in adopting, kindly contact ==&gt; Call/ SMS / Whatapps to Requirements for Adoption: ========================= All adoptions are subject to an interview and house check. Cost of vaccinations and neutering to be borne by adopter. Vaccinations and neutering/spaying at 6 months of age are COMPULSORY.</td>\n",
       "      <td>1</td>\n",
       "      <td>...</td>\n",
       "      <td>2</td>\n",
       "      <td>1</td>\n",
       "      <td>1</td>\n",
       "      <td>0</td>\n",
       "      <td>Dog</td>\n",
       "      <td>0</td>\n",
       "      <td>0.250000</td>\n",
       "      <td>1</td>\n",
       "      <td>345</td>\n",
       "      <td>52</td>\n",
       "    </tr>\n",
       "    <tr>\n",
       "      <th>7692</th>\n",
       "      <td>2.0</td>\n",
       "      <td>24</td>\n",
       "      <td>Doberman Pinscher</td>\n",
       "      <td>None</td>\n",
       "      <td>2</td>\n",
       "      <td>0</td>\n",
       "      <td>0</td>\n",
       "      <td>training_data</td>\n",
       "      <td>Luca was abandoned by her owner and rescued from the streets of Klang. She has a genetic skin disorder but has fully recovered under treatment. The skin problem is not infectious and under control but she needs constant heartworm and skin treatment. Friendly, playful and active dog. Luca has a sleek and nice lean body. Only for those who have space in their home and heart for this beautiful dog. rehome to Ampang 12 April.</td>\n",
       "      <td>1</td>\n",
       "      <td>...</td>\n",
       "      <td>1</td>\n",
       "      <td>1</td>\n",
       "      <td>1</td>\n",
       "      <td>0</td>\n",
       "      <td>Dog</td>\n",
       "      <td>0</td>\n",
       "      <td>2.000000</td>\n",
       "      <td>0</td>\n",
       "      <td>425</td>\n",
       "      <td>75</td>\n",
       "    </tr>\n",
       "    <tr>\n",
       "      <th>7854</th>\n",
       "      <td>2.0</td>\n",
       "      <td>36</td>\n",
       "      <td>German Shepherd Dog</td>\n",
       "      <td>None</td>\n",
       "      <td>1</td>\n",
       "      <td>2</td>\n",
       "      <td>0</td>\n",
       "      <td>training_data</td>\n",
       "      <td>Lady was found lost in Taman Tun. She is a friendly and active dog. She loves her daily walks, very alert and good guard dog. Pls call Theresa at if interested.</td>\n",
       "      <td>3</td>\n",
       "      <td>...</td>\n",
       "      <td>3</td>\n",
       "      <td>1</td>\n",
       "      <td>3</td>\n",
       "      <td>0</td>\n",
       "      <td>Dog</td>\n",
       "      <td>0</td>\n",
       "      <td>3.000000</td>\n",
       "      <td>0</td>\n",
       "      <td>160</td>\n",
       "      <td>31</td>\n",
       "    </tr>\n",
       "    <tr>\n",
       "      <th>8148</th>\n",
       "      <td>1.0</td>\n",
       "      <td>37</td>\n",
       "      <td>Great Dane</td>\n",
       "      <td>Mixed Breed</td>\n",
       "      <td>1</td>\n",
       "      <td>2</td>\n",
       "      <td>7</td>\n",
       "      <td>training_data</td>\n",
       "      <td>YaabbaaadaabaaaDooooo!!! I look like Scooby Doo no? I got myself stranded at a emergency stairwell behind a shop for days. I was too terrified to go anywhere. Then weird creatures came from above and took me away in some space ship and I was lying down on this table with bright lights. After which when I woke up I felt something was missing between my legs. I'm a hygiene freak. I'd prefer my space to be spotless!! I pee shooting out of the cage unlike Rambo. He thinks he's human he pees in his bowl. I swear! But as for my poop, I still haven't figure a way to shoot that out of my cage yet.But I'd stay away from it. I need lots of space to run coz I have really long legs n huge paws. I need exercise!!! I think with more exercise I'd be able to scare off some thieves with my huge physiqu...</td>\n",
       "      <td>1</td>\n",
       "      <td>...</td>\n",
       "      <td>1</td>\n",
       "      <td>1</td>\n",
       "      <td>1</td>\n",
       "      <td>0</td>\n",
       "      <td>Dog</td>\n",
       "      <td>0</td>\n",
       "      <td>3.083333</td>\n",
       "      <td>1</td>\n",
       "      <td>920</td>\n",
       "      <td>184</td>\n",
       "    </tr>\n",
       "    <tr>\n",
       "      <th>8184</th>\n",
       "      <td>0.0</td>\n",
       "      <td>12</td>\n",
       "      <td>Domestic Short Hair</td>\n",
       "      <td>None</td>\n",
       "      <td>1</td>\n",
       "      <td>7</td>\n",
       "      <td>0</td>\n",
       "      <td>training_data</td>\n",
       "      <td>Hi! If you are a Cat Lover &amp; u need a friendly companion then this beautiful cat is up for an adoption. You may wonder why i am giving up this cat for an adoption? It's because it is not technically my cat, it belongs my grandmother whom previously belongs to my aunt but... Unfortunately, they cant afford to own this extremely healthy cat as she weigh as much as her big appetite! Robine now is under my care. I cant keep this cat as i have 2 kittens at home and Robine cant seem to adapt to them well. Plus, i am adopting another kitten from a Vet this week. This worries me, my cat are ok but not Robine. I dont prefer to give this cat away to SPCA, but if i have no other option, i have to let her go. I hope anyone could take this oppurtunity to love and keep her. Do contact me via email o...</td>\n",
       "      <td>1</td>\n",
       "      <td>...</td>\n",
       "      <td>1</td>\n",
       "      <td>2</td>\n",
       "      <td>1</td>\n",
       "      <td>0</td>\n",
       "      <td>Cat</td>\n",
       "      <td>0</td>\n",
       "      <td>1.000000</td>\n",
       "      <td>1</td>\n",
       "      <td>834</td>\n",
       "      <td>169</td>\n",
       "    </tr>\n",
       "    <tr>\n",
       "      <th>8316</th>\n",
       "      <td>2.0</td>\n",
       "      <td>24</td>\n",
       "      <td>Rottweiler</td>\n",
       "      <td>None</td>\n",
       "      <td>1</td>\n",
       "      <td>0</td>\n",
       "      <td>0</td>\n",
       "      <td>training_data</td>\n",
       "      <td>Brian is a rescued Rottie. Brian has good temperament.I'm looking for an adopter who has experience handling large dogs preferably from Ipoh. *** Potential adopters will be interviewed by rescuer before decision is made.</td>\n",
       "      <td>1</td>\n",
       "      <td>...</td>\n",
       "      <td>1</td>\n",
       "      <td>1</td>\n",
       "      <td>1</td>\n",
       "      <td>0</td>\n",
       "      <td>Dog</td>\n",
       "      <td>0</td>\n",
       "      <td>2.000000</td>\n",
       "      <td>0</td>\n",
       "      <td>220</td>\n",
       "      <td>34</td>\n",
       "    </tr>\n",
       "    <tr>\n",
       "      <th>8381</th>\n",
       "      <td>3.0</td>\n",
       "      <td>2</td>\n",
       "      <td>Belgian Shepherd Malinois</td>\n",
       "      <td>Mixed Breed</td>\n",
       "      <td>1</td>\n",
       "      <td>2</td>\n",
       "      <td>0</td>\n",
       "      <td>training_data</td>\n",
       "      <td>Healthy and adorable puppy looking for a foever home. Commitment to spay her is compulsory. If u are interested to gv her a home, pls contact Amy</td>\n",
       "      <td>1</td>\n",
       "      <td>...</td>\n",
       "      <td>2</td>\n",
       "      <td>1</td>\n",
       "      <td>1</td>\n",
       "      <td>0</td>\n",
       "      <td>Dog</td>\n",
       "      <td>0</td>\n",
       "      <td>0.166667</td>\n",
       "      <td>1</td>\n",
       "      <td>146</td>\n",
       "      <td>27</td>\n",
       "    </tr>\n",
       "    <tr>\n",
       "      <th>8457</th>\n",
       "      <td>3.0</td>\n",
       "      <td>36</td>\n",
       "      <td>Norwegian Forest Cat</td>\n",
       "      <td>Domestic Long Hair</td>\n",
       "      <td>1</td>\n",
       "      <td>2</td>\n",
       "      <td>0</td>\n",
       "      <td>training_data</td>\n",
       "      <td>This is an unseparable Yin Yang twin.The darker one is defensive the brighter one is submissive. But both of them are very playful n affectionate to human. They are only for giving and receiving love, not breeding (neutered). New owner must -not separate them -keep them cageless -vaccinate yearly n give proper health care -have no other cat in house or it will take time to adapt cause the big one is defensive -allow me to see their picture updates, as requested by previous owner they came all the way from Johor from an owner who cant keep them due to arrival of a baby and are transited somewhere else for a week before i can get em. Now they are at my house (Bangsar) but my cats wont accept them. so they are a bit underweight now from all those transitional stress.but u can see in 1st p...</td>\n",
       "      <td>1</td>\n",
       "      <td>...</td>\n",
       "      <td>1</td>\n",
       "      <td>2</td>\n",
       "      <td>1</td>\n",
       "      <td>0</td>\n",
       "      <td>Cat</td>\n",
       "      <td>0</td>\n",
       "      <td>3.000000</td>\n",
       "      <td>1</td>\n",
       "      <td>1007</td>\n",
       "      <td>188</td>\n",
       "    </tr>\n",
       "    <tr>\n",
       "      <th>8754</th>\n",
       "      <td>3.0</td>\n",
       "      <td>84</td>\n",
       "      <td>German Shepherd Dog</td>\n",
       "      <td>None</td>\n",
       "      <td>1</td>\n",
       "      <td>2</td>\n",
       "      <td>0</td>\n",
       "      <td>training_data</td>\n",
       "      <td>7 year old German Shepherd is looking for a home. He is a great companion especially for eldery person. He was found on the street looking extremely skinny and malnourished. His owner dumped him and the poor fella being a home pet wasn't able to fend for himself. He has been nursed back to health and ready for adoption. Adopter ideally needs to have large compound for the dog to run around and daily walk is needed. No adoption fee but we seek for kibbles to be donated to our food supply in feeding the strays. 2 bag of combo at RM each and you may donate more if wish to. This dog has special diet requirement. He has to be fed on grain free and we recommend wild avoderm salmon grain free. Our requirement is simple : a) Adopter must be an animal lover. We don't want the dog to end up agai...</td>\n",
       "      <td>1</td>\n",
       "      <td>...</td>\n",
       "      <td>2</td>\n",
       "      <td>1</td>\n",
       "      <td>1</td>\n",
       "      <td>0</td>\n",
       "      <td>Dog</td>\n",
       "      <td>0</td>\n",
       "      <td>7.000000</td>\n",
       "      <td>0</td>\n",
       "      <td>1458</td>\n",
       "      <td>278</td>\n",
       "    </tr>\n",
       "    <tr>\n",
       "      <th>9707</th>\n",
       "      <td>4.0</td>\n",
       "      <td>28</td>\n",
       "      <td>Maine Coon</td>\n",
       "      <td>None</td>\n",
       "      <td>4</td>\n",
       "      <td>6</td>\n",
       "      <td>7</td>\n",
       "      <td>training_data</td>\n",
       "      <td>My beautiful boy &amp; girl are really playful and active. They will be having fresh cooked tuna or tenggiri once a week. Body weight is 8.KG (Boy) &amp; 7.KG (Girl). This weight is taken 1 1/2 hour ago before i create this post. For adopter information :- 1) I'm not selling pet - Both of them was given to me by a friend from New Zealand. Yes, im not buying it but the cost from New Zealand to Sarawak is more than Eur1k. 2)Why i charged for both of them? if someone couldn't afford to pay adoption fee then how my cat can live in good environment with new owner? 3)I will show you all certification about both of them. I will hold all documentation about cert/import document/certification document etc. unless you show me how are they for 3-4 months. If i can see they in good hand then i will releas...</td>\n",
       "      <td>1</td>\n",
       "      <td>...</td>\n",
       "      <td>2</td>\n",
       "      <td>2</td>\n",
       "      <td>1</td>\n",
       "      <td>0</td>\n",
       "      <td>Cat</td>\n",
       "      <td>0</td>\n",
       "      <td>2.333333</td>\n",
       "      <td>0</td>\n",
       "      <td>1763</td>\n",
       "      <td>316</td>\n",
       "    </tr>\n",
       "    <tr>\n",
       "      <th>10413</th>\n",
       "      <td>2.0</td>\n",
       "      <td>7</td>\n",
       "      <td>Husky</td>\n",
       "      <td>None</td>\n",
       "      <td>6</td>\n",
       "      <td>7</td>\n",
       "      <td>0</td>\n",
       "      <td>training_data</td>\n",
       "      <td>healthy husky looking for new owner previous went overseas no trader or breader please only pet lover and good family</td>\n",
       "      <td>1</td>\n",
       "      <td>...</td>\n",
       "      <td>3</td>\n",
       "      <td>1</td>\n",
       "      <td>1</td>\n",
       "      <td>0</td>\n",
       "      <td>Dog</td>\n",
       "      <td>0</td>\n",
       "      <td>0.583333</td>\n",
       "      <td>0</td>\n",
       "      <td>117</td>\n",
       "      <td>20</td>\n",
       "    </tr>\n",
       "    <tr>\n",
       "      <th>10737</th>\n",
       "      <td>2.0</td>\n",
       "      <td>120</td>\n",
       "      <td>German Shepherd Dog</td>\n",
       "      <td>None</td>\n",
       "      <td>1</td>\n",
       "      <td>2</td>\n",
       "      <td>0</td>\n",
       "      <td>training_data</td>\n",
       "      <td>Pony was nicknamed due to his large size that resembles a pony. He is about kgs and was abandoned by his owner at a vet after refusing to pay the bill. The vet hopes to rehome Pony to a good home as he is still healthy and is a good dog. Please SMS or email me with details and i will get back to you.</td>\n",
       "      <td>3</td>\n",
       "      <td>...</td>\n",
       "      <td>2</td>\n",
       "      <td>1</td>\n",
       "      <td>3</td>\n",
       "      <td>0</td>\n",
       "      <td>Dog</td>\n",
       "      <td>0</td>\n",
       "      <td>10.000000</td>\n",
       "      <td>0</td>\n",
       "      <td>301</td>\n",
       "      <td>65</td>\n",
       "    </tr>\n",
       "    <tr>\n",
       "      <th>11262</th>\n",
       "      <td>1.0</td>\n",
       "      <td>24</td>\n",
       "      <td>Persian</td>\n",
       "      <td>None</td>\n",
       "      <td>4</td>\n",
       "      <td>0</td>\n",
       "      <td>0</td>\n",
       "      <td>training_data</td>\n",
       "      <td>Zuba is 2 yrs old. Male, neutered. He is a very large cat. Needs experience owner. Good with certain cats.</td>\n",
       "      <td>1</td>\n",
       "      <td>...</td>\n",
       "      <td>1</td>\n",
       "      <td>2</td>\n",
       "      <td>1</td>\n",
       "      <td>0</td>\n",
       "      <td>Cat</td>\n",
       "      <td>0</td>\n",
       "      <td>2.000000</td>\n",
       "      <td>0</td>\n",
       "      <td>106</td>\n",
       "      <td>20</td>\n",
       "    </tr>\n",
       "    <tr>\n",
       "      <th>11338</th>\n",
       "      <td>1.0</td>\n",
       "      <td>24</td>\n",
       "      <td>Rottweiler</td>\n",
       "      <td>None</td>\n",
       "      <td>1</td>\n",
       "      <td>2</td>\n",
       "      <td>0</td>\n",
       "      <td>training_data</td>\n",
       "      <td>Pure breed Rottweiler rescued fr breeder. Alrdy spayed, vaccinated and deworm.Ready to go to a home. Friendly but will bark at strangers. Adopter must hv a big compound for her to run as she is a big dog. Reimbursement of some medical expenses is required upon adoption.If you are interested to adopt pls contact Amy</td>\n",
       "      <td>1</td>\n",
       "      <td>...</td>\n",
       "      <td>1</td>\n",
       "      <td>1</td>\n",
       "      <td>1</td>\n",
       "      <td>0</td>\n",
       "      <td>Dog</td>\n",
       "      <td>0</td>\n",
       "      <td>2.000000</td>\n",
       "      <td>0</td>\n",
       "      <td>317</td>\n",
       "      <td>55</td>\n",
       "    </tr>\n",
       "    <tr>\n",
       "      <th>11745</th>\n",
       "      <td>1.0</td>\n",
       "      <td>3</td>\n",
       "      <td>Belgian Shepherd Malinois</td>\n",
       "      <td>None</td>\n",
       "      <td>2</td>\n",
       "      <td>0</td>\n",
       "      <td>0</td>\n",
       "      <td>training_data</td>\n",
       "      <td>Pure breed German Shepherd puppy up for adoption. The reason for this puppy up for adoption is because she was mistreated by his previous owner. The previous owner doesn't want to keep her as she chewed their shoes.........They kept her in the cage behind the house, very bad condition. She is 3 months old. Location in Petaling Jaya.</td>\n",
       "      <td>3</td>\n",
       "      <td>...</td>\n",
       "      <td>2</td>\n",
       "      <td>1</td>\n",
       "      <td>1</td>\n",
       "      <td>0</td>\n",
       "      <td>Dog</td>\n",
       "      <td>0</td>\n",
       "      <td>0.250000</td>\n",
       "      <td>0</td>\n",
       "      <td>334</td>\n",
       "      <td>58</td>\n",
       "    </tr>\n",
       "    <tr>\n",
       "      <th>11854</th>\n",
       "      <td>3.0</td>\n",
       "      <td>24</td>\n",
       "      <td>Mixed Breed</td>\n",
       "      <td>None</td>\n",
       "      <td>1</td>\n",
       "      <td>0</td>\n",
       "      <td>0</td>\n",
       "      <td>training_data</td>\n",
       "      <td>Please Take Me Home! I am adorable, playful, smart, faithful, funny and socializing. I hope one of you can give me a roof over my head.</td>\n",
       "      <td>3</td>\n",
       "      <td>...</td>\n",
       "      <td>3</td>\n",
       "      <td>1</td>\n",
       "      <td>3</td>\n",
       "      <td>0</td>\n",
       "      <td>Dog</td>\n",
       "      <td>0</td>\n",
       "      <td>2.000000</td>\n",
       "      <td>1</td>\n",
       "      <td>135</td>\n",
       "      <td>26</td>\n",
       "    </tr>\n",
       "    <tr>\n",
       "      <th>12366</th>\n",
       "      <td>3.0</td>\n",
       "      <td>24</td>\n",
       "      <td>Siamese</td>\n",
       "      <td>None</td>\n",
       "      <td>1</td>\n",
       "      <td>7</td>\n",
       "      <td>0</td>\n",
       "      <td>training_data</td>\n",
       "      <td>Tom: Male, 2 years old, Siamese Breed, Born indoor Tom has been tamed to live with people. He is very discipline regarding his food hours and very timid as a cat. He has been vaccinated and dewormed. Most of the day he will relax somewhere in the house and during the night he will sleep like a baby.</td>\n",
       "      <td>1</td>\n",
       "      <td>...</td>\n",
       "      <td>2</td>\n",
       "      <td>2</td>\n",
       "      <td>1</td>\n",
       "      <td>0</td>\n",
       "      <td>Cat</td>\n",
       "      <td>0</td>\n",
       "      <td>2.000000</td>\n",
       "      <td>0</td>\n",
       "      <td>300</td>\n",
       "      <td>58</td>\n",
       "    </tr>\n",
       "    <tr>\n",
       "      <th>13618</th>\n",
       "      <td>4.0</td>\n",
       "      <td>60</td>\n",
       "      <td>Tabby</td>\n",
       "      <td>None</td>\n",
       "      <td>1</td>\n",
       "      <td>2</td>\n",
       "      <td>5</td>\n",
       "      <td>training_data</td>\n",
       "      <td>Garcia is my second oldest and a big boy. Hes so fun and very affectionate. Loves to be around people including children. He has a beautiful soft coat and you will just love him. Hes very playful but very cuddly.</td>\n",
       "      <td>1</td>\n",
       "      <td>...</td>\n",
       "      <td>1</td>\n",
       "      <td>2</td>\n",
       "      <td>1</td>\n",
       "      <td>0</td>\n",
       "      <td>Cat</td>\n",
       "      <td>0</td>\n",
       "      <td>5.000000</td>\n",
       "      <td>0</td>\n",
       "      <td>212</td>\n",
       "      <td>40</td>\n",
       "    </tr>\n",
       "    <tr>\n",
       "      <th>14005</th>\n",
       "      <td>1.0</td>\n",
       "      <td>3</td>\n",
       "      <td>Saint Bernard</td>\n",
       "      <td>None</td>\n",
       "      <td>1</td>\n",
       "      <td>7</td>\n",
       "      <td>0</td>\n",
       "      <td>training_data</td>\n",
       "      <td>Someone dropped off this mix Saint Bernard to us. This puppy is currently under medical treatment for skin infection. We are looking for an athletic person who have large compound as well as a secure income that would like a companion dog for daily jog. She has a guard-dog character and therefore needs to be neutered at 6 months old and needs jogging to stay disciplined. This is a large breed dog by the look of her paws. Looking for responsible owner who resides in Melaka because her next vet appointment is location in Malim and will have to go for a weekly treatment and checkup for one month. Fit owner may contact Ayi at.</td>\n",
       "      <td>2</td>\n",
       "      <td>...</td>\n",
       "      <td>2</td>\n",
       "      <td>1</td>\n",
       "      <td>1</td>\n",
       "      <td>0</td>\n",
       "      <td>Dog</td>\n",
       "      <td>0</td>\n",
       "      <td>0.250000</td>\n",
       "      <td>0</td>\n",
       "      <td>630</td>\n",
       "      <td>115</td>\n",
       "    </tr>\n",
       "    <tr>\n",
       "      <th>14043</th>\n",
       "      <td>4.0</td>\n",
       "      <td>96</td>\n",
       "      <td>Russian Blue</td>\n",
       "      <td>None</td>\n",
       "      <td>6</td>\n",
       "      <td>0</td>\n",
       "      <td>0</td>\n",
       "      <td>training_data</td>\n",
       "      <td>Russia is such an affectionate female cat with such a calm personality. she loves a cuddle and doesnt do anything wrong. shes my princess and she is the oldest out of the 3.</td>\n",
       "      <td>1</td>\n",
       "      <td>...</td>\n",
       "      <td>1</td>\n",
       "      <td>2</td>\n",
       "      <td>1</td>\n",
       "      <td>0</td>\n",
       "      <td>Cat</td>\n",
       "      <td>0</td>\n",
       "      <td>8.000000</td>\n",
       "      <td>0</td>\n",
       "      <td>173</td>\n",
       "      <td>33</td>\n",
       "    </tr>\n",
       "    <tr>\n",
       "      <th>353</th>\n",
       "      <td>NaN</td>\n",
       "      <td>36</td>\n",
       "      <td>Saint Bernard</td>\n",
       "      <td>None</td>\n",
       "      <td>1</td>\n",
       "      <td>2</td>\n",
       "      <td>7</td>\n",
       "      <td>testing_data</td>\n",
       "      <td>JILL will be at our adoption fair On Saturday and Sunday May 5th-6th , Come along and show your support for local rescue groups. WE WOULD LOVE TO SEE YOU THERE! 2.. +2° .° 31' 6.01\" For more Info :</td>\n",
       "      <td>1</td>\n",
       "      <td>...</td>\n",
       "      <td>3</td>\n",
       "      <td>1</td>\n",
       "      <td>1</td>\n",
       "      <td>0</td>\n",
       "      <td>Dog</td>\n",
       "      <td>0</td>\n",
       "      <td>3.000000</td>\n",
       "      <td>0</td>\n",
       "      <td>197</td>\n",
       "      <td>40</td>\n",
       "    </tr>\n",
       "    <tr>\n",
       "      <th>1039</th>\n",
       "      <td>NaN</td>\n",
       "      <td>8</td>\n",
       "      <td>Fila Brasileiro</td>\n",
       "      <td>None</td>\n",
       "      <td>1</td>\n",
       "      <td>2</td>\n",
       "      <td>0</td>\n",
       "      <td>testing_data</td>\n",
       "      <td>this puppy was recommend by a online friend. her cousin leaving to Sydney nxt wk for his uni. the parents aint willing to take care of this boy cause he is a super large breed dog. therefore he is putting out together with accessories. alot have said i did not state. therefore i shall put in caps. PLEASE CALL TO ENQUIRE! THANKYOU!</td>\n",
       "      <td>1</td>\n",
       "      <td>...</td>\n",
       "      <td>2</td>\n",
       "      <td>1</td>\n",
       "      <td>1</td>\n",
       "      <td>0</td>\n",
       "      <td>Dog</td>\n",
       "      <td>0</td>\n",
       "      <td>0.666667</td>\n",
       "      <td>0</td>\n",
       "      <td>332</td>\n",
       "      <td>62</td>\n",
       "    </tr>\n",
       "    <tr>\n",
       "      <th>1058</th>\n",
       "      <td>NaN</td>\n",
       "      <td>41</td>\n",
       "      <td>Afghan Hound</td>\n",
       "      <td>None</td>\n",
       "      <td>1</td>\n",
       "      <td>5</td>\n",
       "      <td>0</td>\n",
       "      <td>testing_data</td>\n",
       "      <td>As stated in the picture, adopter has to spend a lot of time on him as he requires a lot of running,exercise and grooming. Owner has to be of a strong character and preferably has experience with a few dogs before. Do email me with an introduction of yourself and also on your experience in handling dogs.</td>\n",
       "      <td>1</td>\n",
       "      <td>...</td>\n",
       "      <td>1</td>\n",
       "      <td>1</td>\n",
       "      <td>1</td>\n",
       "      <td>0</td>\n",
       "      <td>Dog</td>\n",
       "      <td>0</td>\n",
       "      <td>3.416667</td>\n",
       "      <td>0</td>\n",
       "      <td>305</td>\n",
       "      <td>57</td>\n",
       "    </tr>\n",
       "    <tr>\n",
       "      <th>2308</th>\n",
       "      <td>NaN</td>\n",
       "      <td>36</td>\n",
       "      <td>Domestic Short Hair</td>\n",
       "      <td>None</td>\n",
       "      <td>1</td>\n",
       "      <td>6</td>\n",
       "      <td>7</td>\n",
       "      <td>testing_data</td>\n",
       "      <td>Boo Yah was rescued with his twin brother by me 3 years ago. I bottle fed him myself. He's an active and the most gentle soul ever. Very expressive one too. He' s a smart and a loving boy. I'm moving abroad for good and looking for a good home for him. Currently he live in my apartment alone since the twin brother got adopted. I travel back and forth to oversea to settle my moving there and I only see him few days once, I wish I could find him a good parent. He is toilet trained and well behaved boy. He is good with kids too. It breaks my heart if I have to send him to SPCA because he has such potential and he deserved to go to loving home. Please help spread the words if any of you is reading this.</td>\n",
       "      <td>1</td>\n",
       "      <td>...</td>\n",
       "      <td>1</td>\n",
       "      <td>2</td>\n",
       "      <td>1</td>\n",
       "      <td>0</td>\n",
       "      <td>Cat</td>\n",
       "      <td>0</td>\n",
       "      <td>3.000000</td>\n",
       "      <td>1</td>\n",
       "      <td>708</td>\n",
       "      <td>145</td>\n",
       "    </tr>\n",
       "    <tr>\n",
       "      <th>3182</th>\n",
       "      <td>NaN</td>\n",
       "      <td>62</td>\n",
       "      <td>Golden Retriever</td>\n",
       "      <td>None</td>\n",
       "      <td>3</td>\n",
       "      <td>0</td>\n",
       "      <td>0</td>\n",
       "      <td>testing_data</td>\n",
       "      <td>- Miley very friendly and playful. - Adopted Miley since year from an owner who going to move from landed house to condominium. She was 2 years old that time. - Not able to take care anymore due to having a baby at home. No time spend with Miley. I'm still loving her, hope can get a good owner who loves her.</td>\n",
       "      <td>3</td>\n",
       "      <td>...</td>\n",
       "      <td>2</td>\n",
       "      <td>1</td>\n",
       "      <td>3</td>\n",
       "      <td>0</td>\n",
       "      <td>Dog</td>\n",
       "      <td>0</td>\n",
       "      <td>5.166667</td>\n",
       "      <td>0</td>\n",
       "      <td>309</td>\n",
       "      <td>62</td>\n",
       "    </tr>\n",
       "    <tr>\n",
       "      <th>3731</th>\n",
       "      <td>NaN</td>\n",
       "      <td>6</td>\n",
       "      <td>German Shepherd Dog</td>\n",
       "      <td>Bullmastiff</td>\n",
       "      <td>1</td>\n",
       "      <td>3</td>\n",
       "      <td>0</td>\n",
       "      <td>testing_data</td>\n",
       "      <td>I rescued this puppy when it was only 6 days old and about to be slaughtered for the pot. I have raised it since then with the original intention of keeping her. However I now have to move to a new place that does not allow dogs and have to give her up. She is toilet trained and will poop and pee in the bathroom. She is also a small eater despite her size. At six months she is about 30kg but only eats about g of kibble a day. She doesn't need much exercise and is very much an indoor dog. She needs a good home where her new owners will pamper her and not chain her up outside.</td>\n",
       "      <td>1</td>\n",
       "      <td>...</td>\n",
       "      <td>2</td>\n",
       "      <td>1</td>\n",
       "      <td>2</td>\n",
       "      <td>0</td>\n",
       "      <td>Dog</td>\n",
       "      <td>0</td>\n",
       "      <td>0.500000</td>\n",
       "      <td>1</td>\n",
       "      <td>581</td>\n",
       "      <td>120</td>\n",
       "    </tr>\n",
       "    <tr>\n",
       "      <th>3836</th>\n",
       "      <td>NaN</td>\n",
       "      <td>63</td>\n",
       "      <td>Great Pyrenees</td>\n",
       "      <td>None</td>\n",
       "      <td>7</td>\n",
       "      <td>0</td>\n",
       "      <td>0</td>\n",
       "      <td>testing_data</td>\n",
       "      <td>It's really hard to let him go, and that's why I'm hoping someone who love and understand or even know how to train dog can take care of Bianco. He don't like people touching his bowl when he's eating, and he will bite strangers. Other than that, he is well behaved if family or friends (or even maid) are properly introduced. He is a lovely dog who always want to be with the people who feed him, walk side by side with the care taker. A protective dog. My family can't afford him anymore as we have 3 more dogs in the house. Hope to find someone who is able to be his alpha and love him as much as we do. (P/S: Bianco just went thru an opt to cut off his left ears caused by some infection, he is fully recovered now and his hearing is all fine. He is in good health.)</td>\n",
       "      <td>1</td>\n",
       "      <td>...</td>\n",
       "      <td>2</td>\n",
       "      <td>1</td>\n",
       "      <td>1</td>\n",
       "      <td>1</td>\n",
       "      <td>Dog</td>\n",
       "      <td>0</td>\n",
       "      <td>5.250000</td>\n",
       "      <td>0</td>\n",
       "      <td>770</td>\n",
       "      <td>155</td>\n",
       "    </tr>\n",
       "  </tbody>\n",
       "</table>\n",
       "<p>40 rows × 31 columns</p>\n",
       "</div>"
      ],
      "text/plain": [
       "       AdoptionSpeed  Age                     Breed1                Breed2  \\\n",
       "1265             1.0   12                 Great Dane                  None   \n",
       "1899             2.0   36                Bullmastiff            Rottweiler   \n",
       "2461             2.0   36              Saint Bernard                  None   \n",
       "2514             2.0    4        Domestic Short Hair                  None   \n",
       "2523             3.0   72                 Rottweiler                  None   \n",
       "2738             1.0   18                 Rottweiler                  None   \n",
       "3157             3.0   36           Golden Retriever           Mixed Breed   \n",
       "3558             2.0   13          Doberman Pinscher                  None   \n",
       "4706             3.0   12                 Great Dane                  None   \n",
       "5571             0.0    1                 Maine Coon               Bobtail   \n",
       "5781             3.0   30                      Tabby                  None   \n",
       "6007             2.0   48        German Shepherd Dog                  None   \n",
       "6712             3.0   30                      Tabby  Domestic Medium Hair   \n",
       "6899             2.0    3                Mixed Breed           Mixed Breed   \n",
       "7692             2.0   24          Doberman Pinscher                  None   \n",
       "7854             2.0   36        German Shepherd Dog                  None   \n",
       "8148             1.0   37                 Great Dane           Mixed Breed   \n",
       "8184             0.0   12        Domestic Short Hair                  None   \n",
       "8316             2.0   24                 Rottweiler                  None   \n",
       "8381             3.0    2  Belgian Shepherd Malinois           Mixed Breed   \n",
       "8457             3.0   36       Norwegian Forest Cat    Domestic Long Hair   \n",
       "8754             3.0   84        German Shepherd Dog                  None   \n",
       "9707             4.0   28                 Maine Coon                  None   \n",
       "10413            2.0    7                      Husky                  None   \n",
       "10737            2.0  120        German Shepherd Dog                  None   \n",
       "11262            1.0   24                    Persian                  None   \n",
       "11338            1.0   24                 Rottweiler                  None   \n",
       "11745            1.0    3  Belgian Shepherd Malinois                  None   \n",
       "11854            3.0   24                Mixed Breed                  None   \n",
       "12366            3.0   24                    Siamese                  None   \n",
       "13618            4.0   60                      Tabby                  None   \n",
       "14005            1.0    3              Saint Bernard                  None   \n",
       "14043            4.0   96               Russian Blue                  None   \n",
       "353              NaN   36              Saint Bernard                  None   \n",
       "1039             NaN    8            Fila Brasileiro                  None   \n",
       "1058             NaN   41               Afghan Hound                  None   \n",
       "2308             NaN   36        Domestic Short Hair                  None   \n",
       "3182             NaN   62           Golden Retriever                  None   \n",
       "3731             NaN    6        German Shepherd Dog           Bullmastiff   \n",
       "3836             NaN   63             Great Pyrenees                  None   \n",
       "\n",
       "       Color1  Color2  Color3       DataType  \\\n",
       "1265        1       0       0  training_data   \n",
       "1899        1       2       0  training_data   \n",
       "2461        1       2       7  training_data   \n",
       "2514        1       6       0  training_data   \n",
       "2523        1       2       0  training_data   \n",
       "2738        1       2       0  training_data   \n",
       "3157        3       0       0  training_data   \n",
       "3558        1       2       0  training_data   \n",
       "4706        1       0       0  training_data   \n",
       "5571        1       7       0  training_data   \n",
       "5781        3       4       7  training_data   \n",
       "6007        2       0       0  training_data   \n",
       "6712        5       0       0  training_data   \n",
       "6899        2       0       0  training_data   \n",
       "7692        2       0       0  training_data   \n",
       "7854        1       2       0  training_data   \n",
       "8148        1       2       7  training_data   \n",
       "8184        1       7       0  training_data   \n",
       "8316        1       0       0  training_data   \n",
       "8381        1       2       0  training_data   \n",
       "8457        1       2       0  training_data   \n",
       "8754        1       2       0  training_data   \n",
       "9707        4       6       7  training_data   \n",
       "10413       6       7       0  training_data   \n",
       "10737       1       2       0  training_data   \n",
       "11262       4       0       0  training_data   \n",
       "11338       1       2       0  training_data   \n",
       "11745       2       0       0  training_data   \n",
       "11854       1       0       0  training_data   \n",
       "12366       1       7       0  training_data   \n",
       "13618       1       2       5  training_data   \n",
       "14005       1       7       0  training_data   \n",
       "14043       6       0       0  training_data   \n",
       "353         1       2       7   testing_data   \n",
       "1039        1       2       0   testing_data   \n",
       "1058        1       5       0   testing_data   \n",
       "2308        1       6       7   testing_data   \n",
       "3182        3       0       0   testing_data   \n",
       "3731        1       3       0   testing_data   \n",
       "3836        7       0       0   testing_data   \n",
       "\n",
       "                                                                                                                                                                                                                                                                                                                                                                                                                                                                                                                                                                                                                                                                                                                                                                                                                           Description  \\\n",
       "1265                                                                                                                                                                                                                                                                                                                                                                                                                                                                                                                                                                                                                                                                                                                                                                                                 Oreo Female Great Dane 1 year old   \n",
       "1899                                                                                                       Ali (named after the boxer Mohammad Ali) has a sad story. His owners put him up for boarding at a pet shop and abandoned him there about six months ago. The address and phone number they provided were fake and the pet shop people were saddled with Ali whom they did not want at all. When one of our volunteers went to the pet shop, she found Ali to be very frightened with his tail between his legs. He was removed from there and brought to Klang where he has been vaccinated pending neutering. He is currently being fostered and when he was let loose, the first thing Ali did was to romp around and get dirty. He is no longer afraid and is a friendly happy dog. Please help us give Ali a good home.   \n",
       "2461                                                                                                                                                                                                                                                                                                                                                                                                                                                                                                                                                                                                           Owner bought him from a pet shop and was told to be just a medium size dog.Now found out he is too big to handle. He will be neuter before adoption to prevent illegal breeding. Interested to adopt him pls call Mr  .   \n",
       "2514                                                                                                                                                                                                                                                                                                                                                                                                                                                                                                                                                                                                                                                                                                                                                                                                                                 -   \n",
       "2523                                                                                                                                                                                                                                                                                                                                                                                                                                                                                                                                                                                                                                                                                    Rotti girl with MKA certificate looking for a forever home. Reimbursement of spaying fee is compulsory. Interested to adopt pls contact Rachel   \n",
       "2738                                                                                                                                                                                                                                                                                                                                                                                                                                                                           Pure breed Rottweiler rescued fr breeder. Already spayed, vaccinated and deworm. Ready to go to a home. Friendly but will bark when see strangers. Adopter must hv a big compound for her to run as she is a big dog. Reimbursement of spaying fee and some medical expenses is required upon adoption. If you are interested to adopt pls contact Amy    \n",
       "3157                                                                                                                                                                                                                                                                                                                                                                                                                                                                                                               Owner cannot keep him anymore due to council ruling. Good guard dog. Neutered vaccinated rabies japped. Heartworm annual japped. Annual booster japped. Healthy dog. Rum is a blood donor.Trained with basic commands. Sit stay wait. Trained to walk on leash. If u interested to gv Rum a home pls contact Rachel   \n",
       "3558                                                                                                                                                                                                                                                                                                                                                                                                                                                                                                                                                                                                                                                                                                                                 He is very playful, alert, energetic, smart and very healthy. But I tend to be a bit jealousy....   \n",
       "4706                                                                                                                                                                                                                                                                                                                                                                                                                                                                   She is a pure Great Dane. Black in colour. I am giving her away because I wont be able to take care of her skin problem. She is infected with dermotex. Pls call me or sms if there is anyone who is willing to adopt her. Urgent reply pls. If I am not able to find casper a home, I am considering to put her to sleep which would be my last resort option.   \n",
       "5571                                                                                                                                                                                                                                                                                                                                                                                      He is a very active and lovable kitten (about 5 weeks old). He has white socks and mittens on his enormous paws (he is going to be big!). Litter box trained and can eat soft food. He has been treated with Frontline and is pest free. He has been dewormed once. He is ready to go to his forever home but he is still a little guy and needs a lot of love and affection even when he plays rough with his tiny teeth and oversize paws.   \n",
       "5781   This is Jasper.I have had him for almost 3 years now. The reason I am giving him up for adoption is because the place I live in is very unsuitable for him. There are too many stray cats in my area and Jasper has come home too many times after being involved in serious cat fights. I have had to take him to the vet hospital so many times as an emergency case because of his fighting. I tried to keep him indoors and not letting him go out, but he got very depressed and wasn't interested in anything anymore. He loves to go out and sit in the sun and to roll in the grass. However, where I live, the place is very dangerous and there are hardly any fields for him to run and play at. I am looking for someone who seriously loves and understands cats. It is very important that the area you live i...   \n",
       "6007                                                                                                                                                                                                                                                                                                                                                                                                                                                                                                                                                            Summer's owner, an elderly man passed away recently, and his family is not able to care for her due to time constraints as Summer is used to going for walks daily. They are currently managing but feel Summer would be better off with someone who has time for her.   \n",
       "6712                                                                                                                                                                                                                                                                                                                                  This pet was fostered to me by the owner who was moving away. He is very affectionate, loves hugs and cuddles. He is a one person cat and will not share. Very big for a local cat he is in perfect form, long tail, slightly two toned pale yellow beige colouring. Potty trained, loves playing ropes, follows or runs after you. He might take to sleeping in your bed (he sleeps in mine and wakes me up with kisses). He is a lovely cat and needs an equally loving human to care for him.   \n",
       "6899                                                                                                                                                                                                                                                                                                                                                                                                                                                                         FOR serious adopters only! If you are interested in adopting, kindly contact ==> Call/ SMS / Whatapps to Requirements for Adoption: ========================= All adoptions are subject to an interview and house check. Cost of vaccinations and neutering to be borne by adopter. Vaccinations and neutering/spaying at 6 months of age are COMPULSORY.   \n",
       "7692                                                                                                                                                                                                                                                                                                                                                                                         Luca was abandoned by her owner and rescued from the streets of Klang. She has a genetic skin disorder but has fully recovered under treatment. The skin problem is not infectious and under control but she needs constant heartworm and skin treatment. Friendly, playful and active dog. Luca has a sleek and nice lean body. Only for those who have space in their home and heart for this beautiful dog. rehome to Ampang 12 April.   \n",
       "7854                                                                                                                                                                                                                                                                                                                                                                                                                                                                                                                                                                                                                                                                  Lady was found lost in Taman Tun. She is a friendly and active dog. She loves her daily walks, very alert and good guard dog. Pls call Theresa at if interested.   \n",
       "8148   YaabbaaadaabaaaDooooo!!! I look like Scooby Doo no? I got myself stranded at a emergency stairwell behind a shop for days. I was too terrified to go anywhere. Then weird creatures came from above and took me away in some space ship and I was lying down on this table with bright lights. After which when I woke up I felt something was missing between my legs. I'm a hygiene freak. I'd prefer my space to be spotless!! I pee shooting out of the cage unlike Rambo. He thinks he's human he pees in his bowl. I swear! But as for my poop, I still haven't figure a way to shoot that out of my cage yet.But I'd stay away from it. I need lots of space to run coz I have really long legs n huge paws. I need exercise!!! I think with more exercise I'd be able to scare off some thieves with my huge physiqu...   \n",
       "8184   Hi! If you are a Cat Lover & u need a friendly companion then this beautiful cat is up for an adoption. You may wonder why i am giving up this cat for an adoption? It's because it is not technically my cat, it belongs my grandmother whom previously belongs to my aunt but... Unfortunately, they cant afford to own this extremely healthy cat as she weigh as much as her big appetite! Robine now is under my care. I cant keep this cat as i have 2 kittens at home and Robine cant seem to adapt to them well. Plus, i am adopting another kitten from a Vet this week. This worries me, my cat are ok but not Robine. I dont prefer to give this cat away to SPCA, but if i have no other option, i have to let her go. I hope anyone could take this oppurtunity to love and keep her. Do contact me via email o...   \n",
       "8316                                                                                                                                                                                                                                                                                                                                                                                                                                                                                                                                                                                                      Brian is a rescued Rottie. Brian has good temperament.I'm looking for an adopter who has experience handling large dogs preferably from Ipoh. *** Potential adopters will be interviewed by rescuer before decision is made.   \n",
       "8381                                                                                                                                                                                                                                                                                                                                                                                                                                                                                                                                                                                                                                                                                Healthy and adorable puppy looking for a foever home. Commitment to spay her is compulsory. If u are interested to gv her a home, pls contact Amy    \n",
       "8457   This is an unseparable Yin Yang twin.The darker one is defensive the brighter one is submissive. But both of them are very playful n affectionate to human. They are only for giving and receiving love, not breeding (neutered). New owner must -not separate them -keep them cageless -vaccinate yearly n give proper health care -have no other cat in house or it will take time to adapt cause the big one is defensive -allow me to see their picture updates, as requested by previous owner they came all the way from Johor from an owner who cant keep them due to arrival of a baby and are transited somewhere else for a week before i can get em. Now they are at my house (Bangsar) but my cats wont accept them. so they are a bit underweight now from all those transitional stress.but u can see in 1st p...   \n",
       "8754   7 year old German Shepherd is looking for a home. He is a great companion especially for eldery person. He was found on the street looking extremely skinny and malnourished. His owner dumped him and the poor fella being a home pet wasn't able to fend for himself. He has been nursed back to health and ready for adoption. Adopter ideally needs to have large compound for the dog to run around and daily walk is needed. No adoption fee but we seek for kibbles to be donated to our food supply in feeding the strays. 2 bag of combo at RM each and you may donate more if wish to. This dog has special diet requirement. He has to be fed on grain free and we recommend wild avoderm salmon grain free. Our requirement is simple : a) Adopter must be an animal lover. We don't want the dog to end up agai...   \n",
       "9707   My beautiful boy & girl are really playful and active. They will be having fresh cooked tuna or tenggiri once a week. Body weight is 8.KG (Boy) & 7.KG (Girl). This weight is taken 1 1/2 hour ago before i create this post. For adopter information :- 1) I'm not selling pet - Both of them was given to me by a friend from New Zealand. Yes, im not buying it but the cost from New Zealand to Sarawak is more than Eur1k. 2)Why i charged for both of them? if someone couldn't afford to pay adoption fee then how my cat can live in good environment with new owner? 3)I will show you all certification about both of them. I will hold all documentation about cert/import document/certification document etc. unless you show me how are they for 3-4 months. If i can see they in good hand then i will releas...   \n",
       "10413                                                                                                                                                                                                                                                                                                                                                                                                                                                                                                                                                                                                                                                                                                            healthy husky looking for new owner previous went overseas no trader or breader please only pet lover and good family   \n",
       "10737                                                                                                                                                                                                                                                                                                                                                                                                                                                                                                                    Pony was nicknamed due to his large size that resembles a pony. He is about kgs and was abandoned by his owner at a vet after refusing to pay the bill. The vet hopes to rehome Pony to a good home as he is still healthy and is a good dog. Please SMS or email me with details and i will get back to you.   \n",
       "11262                                                                                                                                                                                                                                                                                                                                                                                                                                                                                                                                                                                                                                                                                                                       Zuba is 2 yrs old. Male, neutered. He is a very large cat. Needs experience owner. Good with certain cats.   \n",
       "11338                                                                                                                                                                                                                                                                                                                                                                                                                                                                                                    Pure breed Rottweiler rescued fr breeder. Alrdy spayed, vaccinated and deworm.Ready to go to a home. Friendly but will bark at strangers. Adopter must hv a big compound for her to run as she is a big dog. Reimbursement of some medical expenses is required upon adoption.If you are interested to adopt pls contact Amy    \n",
       "11745                                                                                                                                                                                                                                                                                                                                                                                                                                                                                   Pure breed German Shepherd puppy up for adoption. The reason for this puppy up for adoption is because she was mistreated by his previous owner. The previous owner doesn't want to keep her as she chewed their shoes.........They kept her in the cage behind the house, very bad condition. She is 3 months old. Location in Petaling Jaya.   \n",
       "11854                                                                                                                                                                                                                                                                                                                                                                                                                                                                                                                                                                                                                                                                                          Please Take Me Home! I am adorable, playful, smart, faithful, funny and socializing. I hope one of you can give me a roof over my head.   \n",
       "12366                                                                                                                                                                                                                                                                                                                                                                                                                                                                                                                     Tom: Male, 2 years old, Siamese Breed, Born indoor Tom has been tamed to live with people. He is very discipline regarding his food hours and very timid as a cat. He has been vaccinated and dewormed. Most of the day he will relax somewhere in the house and during the night he will sleep like a baby.   \n",
       "13618                                                                                                                                                                                                                                                                                                                                                                                                                                                                                                                                                                                                             Garcia is my second oldest and a big boy. Hes so fun and very affectionate. Loves to be around people including children. He has a beautiful soft coat and you will just love him. Hes very playful but very cuddly.   \n",
       "14005                                                                                                                                                                           Someone dropped off this mix Saint Bernard to us. This puppy is currently under medical treatment for skin infection. We are looking for an athletic person who have large compound as well as a secure income that would like a companion dog for daily jog. She has a guard-dog character and therefore needs to be neutered at 6 months old and needs jogging to stay disciplined. This is a large breed dog by the look of her paws. Looking for responsible owner who resides in Melaka because her next vet appointment is location in Malim and will have to go for a weekly treatment and checkup for one month. Fit owner may contact Ayi at.   \n",
       "14043                                                                                                                                                                                                                                                                                                                                                                                                                                                                                                                                                                                                                                                    Russia is such an affectionate female cat with such a calm personality. she loves a cuddle and doesnt do anything wrong. shes my princess and she is the oldest out of the 3.   \n",
       "353                                                                                                                                                                                                                                                                                                                                                                                                                                                                                                                                                                                                                              JILL will be at our adoption fair On Saturday and Sunday May 5th-6th , Come along and show your support for local rescue groups. WE WOULD LOVE TO SEE YOU THERE! 2.. +2° .° 31' 6.01\" For more Info :   \n",
       "1039                                                                                                                                                                                                                                                                                                                                                                                                                                                                                      this puppy was recommend by a online friend. her cousin leaving to Sydney nxt wk for his uni. the parents aint willing to take care of this boy cause he is a super large breed dog. therefore he is putting out together with accessories. alot have said i did not state. therefore i shall put in caps. PLEASE CALL TO ENQUIRE! THANKYOU!   \n",
       "1058                                                                                                                                                                                                                                                                                                                                                                                                                                                                                                                 As stated in the picture, adopter has to spend a lot of time on him as he requires a lot of running,exercise and grooming. Owner has to be of a strong character and preferably has experience with a few dogs before. Do email me with an introduction of yourself and also on your experience in handling dogs.   \n",
       "2308                                                                                              Boo Yah was rescued with his twin brother by me 3 years ago. I bottle fed him myself. He's an active and the most gentle soul ever. Very expressive one too. He' s a smart and a loving boy. I'm moving abroad for good and looking for a good home for him. Currently he live in my apartment alone since the twin brother got adopted. I travel back and forth to oversea to settle my moving there and I only see him few days once, I wish I could find him a good parent. He is toilet trained and well behaved boy. He is good with kids too. It breaks my heart if I have to send him to SPCA because he has such potential and he deserved to go to loving home. Please help spread the words if any of you is reading this.   \n",
       "3182                                                                                                                                                                                                                                                                                                                                                                                                                                                                                                             - Miley very friendly and playful. - Adopted Miley since year from an owner who going to move from landed house to condominium. She was 2 years old that time. - Not able to take care anymore due to having a baby at home. No time spend with Miley. I'm still loving her, hope can get a good owner who loves her.   \n",
       "3731                                                                                                                                                                                                                             I rescued this puppy when it was only 6 days old and about to be slaughtered for the pot. I have raised it since then with the original intention of keeping her. However I now have to move to a new place that does not allow dogs and have to give her up. She is toilet trained and will poop and pee in the bathroom. She is also a small eater despite her size. At six months she is about 30kg but only eats about g of kibble a day. She doesn't need much exercise and is very much an indoor dog. She needs a good home where her new owners will pamper her and not chain her up outside.   \n",
       "3836                                It's really hard to let him go, and that's why I'm hoping someone who love and understand or even know how to train dog can take care of Bianco. He don't like people touching his bowl when he's eating, and he will bite strangers. Other than that, he is well behaved if family or friends (or even maid) are properly introduced. He is a lovely dog who always want to be with the people who feed him, walk side by side with the care taker. A protective dog. My family can't afford him anymore as we have 3 more dogs in the house. Hope to find someone who is able to be his alpha and love him as much as we do. (P/S: Bianco just went thru an opt to cut off his left ears caused by some infection, he is fully recovered now and his hearing is all fine. He is in good health.)   \n",
       "\n",
       "       Dewormed    ...      Sterilized  Type  Vaccinated  VideoAmt  \\\n",
       "1265          1    ...               1     1           1         0   \n",
       "1899          1    ...               2     1           1         0   \n",
       "2461          1    ...               2     1           1         0   \n",
       "2514          2    ...               2     2           2         0   \n",
       "2523          3    ...               1     1           3         0   \n",
       "2738          1    ...               1     1           1         0   \n",
       "3157          1    ...               1     1           1         0   \n",
       "3558          1    ...               2     1           1         0   \n",
       "4706          1    ...               2     1           1         0   \n",
       "5571          1    ...               2     2           2         2   \n",
       "5781          1    ...               1     2           1         0   \n",
       "6007          1    ...               2     1           1         0   \n",
       "6712          1    ...               1     2           1         0   \n",
       "6899          1    ...               2     1           1         0   \n",
       "7692          1    ...               1     1           1         0   \n",
       "7854          3    ...               3     1           3         0   \n",
       "8148          1    ...               1     1           1         0   \n",
       "8184          1    ...               1     2           1         0   \n",
       "8316          1    ...               1     1           1         0   \n",
       "8381          1    ...               2     1           1         0   \n",
       "8457          1    ...               1     2           1         0   \n",
       "8754          1    ...               2     1           1         0   \n",
       "9707          1    ...               2     2           1         0   \n",
       "10413         1    ...               3     1           1         0   \n",
       "10737         3    ...               2     1           3         0   \n",
       "11262         1    ...               1     2           1         0   \n",
       "11338         1    ...               1     1           1         0   \n",
       "11745         3    ...               2     1           1         0   \n",
       "11854         3    ...               3     1           3         0   \n",
       "12366         1    ...               2     2           1         0   \n",
       "13618         1    ...               1     2           1         0   \n",
       "14005         2    ...               2     1           1         0   \n",
       "14043         1    ...               1     2           1         0   \n",
       "353           1    ...               3     1           1         0   \n",
       "1039          1    ...               2     1           1         0   \n",
       "1058          1    ...               1     1           1         0   \n",
       "2308          1    ...               1     2           1         0   \n",
       "3182          3    ...               2     1           3         0   \n",
       "3731          1    ...               2     1           2         0   \n",
       "3836          1    ...               2     1           1         1   \n",
       "\n",
       "       Animal_Type Unnamed   AgeInYrs  MixedBreed  desc_length desc_words  \n",
       "1265           Dog       0   1.000000           0           33          7  \n",
       "1899           Dog       0   3.000000           1          699        136  \n",
       "2461           Dog       0   3.000000           0          215         43  \n",
       "2514           Cat       1   0.333333           1            1          1  \n",
       "2523           Dog       0   6.000000           0          142         22  \n",
       "2738           Dog       0   1.500000           0          343         61  \n",
       "3157           Dog       0   3.000000           1          307         51  \n",
       "3558           Dog       0   1.083333           0           97         18  \n",
       "4706           Dog       0   1.000000           0          351         74  \n",
       "5571           Cat       0   0.083333           1          428         87  \n",
       "5781           Cat       0   2.500000           0         1811        361  \n",
       "6007           Dog       0   4.000000           0          262         49  \n",
       "6712           Cat       0   2.500000           1          480         94  \n",
       "6899           Dog       0   0.250000           1          345         52  \n",
       "7692           Dog       0   2.000000           0          425         75  \n",
       "7854           Dog       0   3.000000           0          160         31  \n",
       "8148           Dog       0   3.083333           1          920        184  \n",
       "8184           Cat       0   1.000000           1          834        169  \n",
       "8316           Dog       0   2.000000           0          220         34  \n",
       "8381           Dog       0   0.166667           1          146         27  \n",
       "8457           Cat       0   3.000000           1         1007        188  \n",
       "8754           Dog       0   7.000000           0         1458        278  \n",
       "9707           Cat       0   2.333333           0         1763        316  \n",
       "10413          Dog       0   0.583333           0          117         20  \n",
       "10737          Dog       0  10.000000           0          301         65  \n",
       "11262          Cat       0   2.000000           0          106         20  \n",
       "11338          Dog       0   2.000000           0          317         55  \n",
       "11745          Dog       0   0.250000           0          334         58  \n",
       "11854          Dog       0   2.000000           1          135         26  \n",
       "12366          Cat       0   2.000000           0          300         58  \n",
       "13618          Cat       0   5.000000           0          212         40  \n",
       "14005          Dog       0   0.250000           0          630        115  \n",
       "14043          Cat       0   8.000000           0          173         33  \n",
       "353            Dog       0   3.000000           0          197         40  \n",
       "1039           Dog       0   0.666667           0          332         62  \n",
       "1058           Dog       0   3.416667           0          305         57  \n",
       "2308           Cat       0   3.000000           1          708        145  \n",
       "3182           Dog       0   5.166667           0          309         62  \n",
       "3731           Dog       0   0.500000           1          581        120  \n",
       "3836           Dog       0   5.250000           0          770        155  \n",
       "\n",
       "[40 rows x 31 columns]"
      ]
     },
     "execution_count": 35,
     "metadata": {},
     "output_type": "execute_result"
    }
   ],
   "source": [
    "all_data[all_data[\"MaturitySize\"] == 4]"
   ]
  },
  {
   "cell_type": "markdown",
   "metadata": {},
   "source": [
    "I just saw that for same cases we have NaN's for the adoption speed, which is a problem. Do we rather set it as a 4? Or the average adoption speed?\n",
    "I'll check how many cases have NaN's before I decide anything."
   ]
  },
  {
   "cell_type": "code",
   "execution_count": 36,
   "metadata": {},
   "outputs": [
    {
     "name": "stdout",
     "output_type": "stream",
     "text": [
      "26.332288401253916\n"
     ]
    }
   ],
   "source": [
    "print(((len(all_data) - all_data[\"AdoptionSpeed\"].count())/all_data[\"AdoptionSpeed\"].count())*100)"
   ]
  },
  {
   "cell_type": "markdown",
   "metadata": {},
   "source": [
    "So 26% of our adoption speeds are nulls. What I'm going to do is train the model on 3 cases: \n",
    "\n",
    "1) Fill NaN with highest adoption speed. \n",
    "\n",
    "2) Drop NaN records \n",
    "\n",
    "3) Fill in the average adoptionspeed\n",
    "\n",
    "But for the data analysis, I'll drop the NA records."
   ]
  },
  {
   "cell_type": "code",
   "execution_count": 37,
   "metadata": {},
   "outputs": [],
   "source": [
    "all_data.dropna(axis=0, how = \"any\", inplace=True)"
   ]
  },
  {
   "cell_type": "markdown",
   "metadata": {},
   "source": [
    "## Vaccinations and sterilisation"
   ]
  },
  {
   "cell_type": "markdown",
   "metadata": {},
   "source": [
    "How does the pet being vaccinated and sterlised influence the adoption speed?\n",
    "\n",
    "Vaccinations: 1-Yes, 2-No, 3-Unsure\n",
    "\n",
    "Dewormed: 1-Yes, 2-No, 3-Unsure\n",
    "\n",
    "Sterilised: 1-Yes, 2-No, 3-Unsure\n"
   ]
  },
  {
   "cell_type": "code",
   "execution_count": 38,
   "metadata": {},
   "outputs": [
    {
     "data": {
      "text/plain": [
       "<matplotlib.axes._subplots.AxesSubplot at 0x2ef89633470>"
      ]
     },
     "execution_count": 38,
     "metadata": {},
     "output_type": "execute_result"
    },
    {
     "data": {
      "image/png": "[encoded data removed]",
      "text/plain": [
       "<Figure size 576x360 with 1 Axes>"
      ]
     },
     "metadata": {},
     "output_type": "display_data"
    }
   ],
   "source": [
    "plt.figure(figsize=(8,5))\n",
    "sns.boxenplot(x=\"Vaccinated\", y=\"AdoptionSpeed\", hue = \"Animal_Type\", data = all_data, palette=\"Set1\")"
   ]
  },
  {
   "cell_type": "markdown",
   "metadata": {},
   "source": [
    "It's strange how the adoption speed for animals that weren't vaccinated is better than for those who have."
   ]
  },
  {
   "cell_type": "code",
   "execution_count": 39,
   "metadata": {},
   "outputs": [
    {
     "data": {
      "text/plain": [
       "<matplotlib.axes._subplots.AxesSubplot at 0x2ef89678e48>"
      ]
     },
     "execution_count": 39,
     "metadata": {},
     "output_type": "execute_result"
    },
    {
     "data": {
      "image/png": "[encoded data removed]",
      "text/plain": [
       "<Figure size 576x360 with 1 Axes>"
      ]
     },
     "metadata": {},
     "output_type": "display_data"
    }
   ],
   "source": [
    "plt.figure(figsize=(8,5))\n",
    "sns.boxenplot(x=\"Dewormed\", y=\"AdoptionSpeed\", hue = \"Animal_Type\", data = all_data, palette = \"Set2\")"
   ]
  },
  {
   "cell_type": "markdown",
   "metadata": {},
   "source": [
    "It seems that dewormed animals have a similar distribution than those that were vaccinated. This is very strange - does this mean people prefer animals that weren't vaccinated or dewormed? Or is it a case of puppy or kittens being adopted, and just not being old enough for all the vaccinations?"
   ]
  },
  {
   "cell_type": "code",
   "execution_count": 40,
   "metadata": {},
   "outputs": [
    {
     "data": {
      "text/plain": [
       "<matplotlib.axes._subplots.AxesSubplot at 0x2ef88f47a58>"
      ]
     },
     "execution_count": 40,
     "metadata": {},
     "output_type": "execute_result"
    },
    {
     "data": {
      "image/png": "[encoded data removed]",
      "text/plain": [
       "<Figure size 576x360 with 1 Axes>"
      ]
     },
     "metadata": {},
     "output_type": "display_data"
    }
   ],
   "source": [
    "plt.figure(figsize=(8,5))\n",
    "sns.boxenplot(x=\"Sterilized\", y=\"AdoptionSpeed\", hue = \"Animal_Type\", data = all_data, palette=\"Set3\")"
   ]
  },
  {
   "cell_type": "markdown",
   "metadata": {},
   "source": [
    "Seems like non-sterilised animals have a better change of being adopted - especially cats."
   ]
  },
  {
   "cell_type": "markdown",
   "metadata": {},
   "source": [
    "## What about health?"
   ]
  },
  {
   "cell_type": "markdown",
   "metadata": {},
   "source": [
    "1 - Healthy\n",
    "\n",
    "2 - Minor injury\n",
    "\n",
    "3 - Serious injury\n",
    "\n",
    "0 - Not specified"
   ]
  },
  {
   "cell_type": "code",
   "execution_count": 41,
   "metadata": {},
   "outputs": [
    {
     "data": {
      "text/plain": [
       "<matplotlib.axes._subplots.AxesSubplot at 0x2ef88f3aa90>"
      ]
     },
     "execution_count": 41,
     "metadata": {},
     "output_type": "execute_result"
    },
    {
     "data": {
      "image/png": "[encoded data removed]",
      "text/plain": [
       "<Figure size 576x360 with 1 Axes>"
      ]
     },
     "metadata": {},
     "output_type": "display_data"
    }
   ],
   "source": [
    "plt.figure(figsize=(8,5))\n",
    "sns.boxenplot(x=\"Health\", y=\"AdoptionSpeed\", hue = \"Animal_Type\", data = all_data, palette=\"Set1\")"
   ]
  },
  {
   "cell_type": "markdown",
   "metadata": {},
   "source": [
    "Seems like pets with serious injuries are the least likely to be adopted in the early stages after they were listed."
   ]
  },
  {
   "cell_type": "markdown",
   "metadata": {},
   "source": [
    "## Adoption Fee\n"
   ]
  },
  {
   "cell_type": "markdown",
   "metadata": {},
   "source": [
    "Now I'm trying to establish whether the adoption rate is influenced by the adoption fees. So let's look at the distribution of the fees."
   ]
  },
  {
   "cell_type": "code",
   "execution_count": 42,
   "metadata": {},
   "outputs": [
    {
     "data": {
      "text/plain": [
       "0      12663\n",
       "50       468\n",
       "100      408\n",
       "200      219\n",
       "150      162\n",
       "20       136\n",
       "300      120\n",
       "30       103\n",
       "250       92\n",
       "1         82\n",
       "10        70\n",
       "80        66\n",
       "500       56\n",
       "350       50\n",
       "400       30\n",
       "5         24\n",
       "15        20\n",
       "40        19\n",
       "120       19\n",
       "600       13\n",
       "70        13\n",
       "60        11\n",
       "450       11\n",
       "160       11\n",
       "180       10\n",
       "25         8\n",
       "90         8\n",
       "8          7\n",
       "750        7\n",
       "110        6\n",
       "Name: Fee, dtype: int64"
      ]
     },
     "execution_count": 42,
     "metadata": {},
     "output_type": "execute_result"
    }
   ],
   "source": [
    "all_data[\"Fee\"].value_counts().head(30)"
   ]
  },
  {
   "cell_type": "code",
   "execution_count": 43,
   "metadata": {},
   "outputs": [
    {
     "data": {
      "text/plain": [
       "<matplotlib.axes._subplots.AxesSubplot at 0x2ef88e782b0>"
      ]
     },
     "execution_count": 43,
     "metadata": {},
     "output_type": "execute_result"
    },
    {
     "data": {
      "image/png": "[encoded data removed]",
      "text/plain": [
       "<Figure size 576x720 with 1 Axes>"
      ]
     },
     "metadata": {},
     "output_type": "display_data"
    }
   ],
   "source": [
    "plt.figure(figsize=(8,10))\n",
    "sns.violinplot(x = \"AdoptionSpeed\", y=\"Fee\", hue = \"Animal_Type\", data = all_data, palette=\"Set2\")"
   ]
  },
  {
   "cell_type": "markdown",
   "metadata": {},
   "source": [
    "If we look at dogs, it seems that the fees range between 0 and 3 000. However, it seems that adoption speed 3 has the highest fees, whereas adoption speed 4 has the lowest fees. \n",
    "\n",
    "In the case of cats, there doesn't seem to be a significant difference in the fees for the different adoption speeds."
   ]
  }
 ],
 "metadata": {
  "kernelspec": {
   "display_name": "Python 3",
   "language": "python",
   "name": "python3"
  },
  "language_info": {
   "codemirror_mode": {
    "name": "ipython",
    "version": 3
   },
   "file_extension": ".py",
   "mimetype": "text/x-python",
   "name": "python",
   "nbconvert_exporter": "python",
   "pygments_lexer": "ipython3",
   "version": "3.5.4"
  }
 },
 "nbformat": 4,
 "nbformat_minor": 2
}
