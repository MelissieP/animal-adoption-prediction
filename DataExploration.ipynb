{
 "cells": [
  {
   "cell_type": "code",
   "execution_count": 1,
   "metadata": {},
   "outputs": [],
   "source": [
    "import pandas as pd\n",
    "import warnings\n",
    "warnings.filterwarnings(\"ignore\")\n",
    "import matplotlib.pyplot as plt\n",
    "import seaborn as sns\n",
    "import numpy as np"
   ]
  },
  {
   "cell_type": "markdown",
   "metadata": {},
   "source": [
    "Our target variable is Adoption Speed:\n",
    "\n",
    "0 - Pet was adopted the day it was listed.\n",
    "\n",
    "1 - Pet was adopted the first week after being listed.\n",
    "\n",
    "2 - Pet was adopted the first month after being listed.\n",
    "\n",
    "3 - Pet was adopted in the 2nd and 3rd month after being listed.\n",
    "\n",
    "4 - The pet hasn't been adopted 90 days after being listed. :( \n"
   ]
  },
  {
   "cell_type": "code",
   "execution_count": 2,
   "metadata": {},
   "outputs": [],
   "source": [
    "# Reading in all our data\n",
    "\n",
    "train = pd.read_csv(\"data/train/train.csv\")\n",
    "breeds = pd.read_csv(\"data/breed_labels.csv\")\n",
    "colours = pd.read_csv(\"data/color_labels.csv\")\n",
    "states = pd.read_csv(\"data/state_labels.csv\")\n",
    "\n",
    "test = pd.read_csv(\"data/test/test.csv\")\n",
    "submission = pd.read_csv(\"data/test/sample_submission.csv\")\n",
    "\n",
    "# Add the type of dataset\n",
    "train[\"DataType\"] = \"training_data\"\n",
    "test[\"DataType\"] = \"testing_data\"\n",
    "\n",
    "\n",
    "all_data = pd.concat([train, test])"
   ]
  },
  {
   "cell_type": "markdown",
   "metadata": {},
   "source": [
    "# Data Analysis"
   ]
  },
  {
   "cell_type": "code",
   "execution_count": 3,
   "metadata": {},
   "outputs": [
    {
     "name": "stdout",
     "output_type": "stream",
     "text": [
      "<class 'pandas.core.frame.DataFrame'>\n",
      "RangeIndex: 14993 entries, 0 to 14992\n",
      "Data columns (total 24 columns):\n",
      "Type             14993 non-null int64\n",
      "Name             13736 non-null object\n",
      "Age              14993 non-null int64\n",
      "Breed1           14993 non-null int64\n",
      "Breed2           14993 non-null int64\n",
      "Gender           14993 non-null int64\n",
      "Color1           14993 non-null int64\n",
      "Color2           14993 non-null int64\n",
      "Color3           14993 non-null int64\n",
      "MaturitySize     14993 non-null int64\n",
      "FurLength        14993 non-null int64\n",
      "Vaccinated       14993 non-null int64\n",
      "Dewormed         14993 non-null int64\n",
      "Sterilized       14993 non-null int64\n",
      "Health           14993 non-null int64\n",
      "Quantity         14993 non-null int64\n",
      "Fee              14993 non-null int64\n",
      "State            14993 non-null int64\n",
      "RescuerID        14993 non-null object\n",
      "VideoAmt         14993 non-null int64\n",
      "PetID            14993 non-null object\n",
      "PhotoAmt         14993 non-null float64\n",
      "AdoptionSpeed    14993 non-null int64\n",
      "DataType         14993 non-null object\n",
      "dtypes: float64(1), int64(19), object(4)\n",
      "memory usage: 2.7+ MB\n"
     ]
    }
   ],
   "source": [
    "train.drop(labels = [\"Description\"], axis = 1, inplace=True) # Can add other labels to drop later if necessary\n",
    "train.info()"
   ]
  },
  {
   "cell_type": "markdown",
   "metadata": {},
   "source": [
    "Looking at the initial data anaylis, we see that there are a lot of names missing - which poses the question of how naming influences adoption speed?\n",
    "We also see that there is a Breed1 and Breed2 feature, where Breed2 is 0 when the animal is purebred.\n",
    "We can also look at how the photo and video amounts influence adoption speed, as well vaccination, sterilization etc."
   ]
  },
  {
   "cell_type": "markdown",
   "metadata": {},
   "source": [
    "## Now lets get into it ..."
   ]
  },
  {
   "cell_type": "code",
   "execution_count": 4,
   "metadata": {},
   "outputs": [
    {
     "data": {
      "text/plain": [
       "Text(0.5,1,'Count of Adoption Speed Classes')"
      ]
     },
     "execution_count": 4,
     "metadata": {},
     "output_type": "execute_result"
    },
    {
     "data": {
      "image/png": "[encoded data removed]",
      "text/plain": [
       "<Figure size 432x288 with 1 Axes>"
      ]
     },
     "metadata": {
      "needs_background": "light"
     },
     "output_type": "display_data"
    }
   ],
   "source": [
    "train[\"AdoptionSpeed\"].value_counts().sort_index().plot(\"bar\")\n",
    "plt.title(\"Count of Adoption Speed Classes\")"
   ]
  },
  {
   "cell_type": "markdown",
   "metadata": {},
   "source": [
    "We can see from the graph above that even though some animals get adopted on the same day,a lot more get edopted in the first week or two. Sadly the class with the highest counts are animals who still aren't adoped."
   ]
  },
  {
   "cell_type": "markdown",
   "metadata": {},
   "source": [
    "## Dogs vs Cats"
   ]
  },
  {
   "cell_type": "code",
   "execution_count": 5,
   "metadata": {},
   "outputs": [
    {
     "data": {
      "text/plain": [
       "Text(0.5,1,'Number of dogs and cats in the train and test set: ')"
      ]
     },
     "execution_count": 5,
     "metadata": {},
     "output_type": "execute_result"
    },
    {
     "data": {
      "image/png": "[encoded data removed]",
      "text/plain": [
       "<Figure size 432x288 with 1 Axes>"
      ]
     },
     "metadata": {
      "needs_background": "light"
     },
     "output_type": "display_data"
    }
   ],
   "source": [
    "all_data[\"Animal_Type\"] = [\"Dog\" if x == 1 else \"Cat\" for x in all_data[\"Type\"]]\n",
    "sns.countplot(x=\"DataType\", data = all_data, hue=\"Animal_Type\")\n",
    "plt.title(\"Number of dogs and cats in the train and test set: \")"
   ]
  },
  {
   "cell_type": "markdown",
   "metadata": {},
   "source": [
    "So we can see there is an insignificant difference in the dog:cat ratio in the different data sets."
   ]
  },
  {
   "cell_type": "code",
   "execution_count": 6,
   "metadata": {},
   "outputs": [
    {
     "data": {
      "text/plain": [
       "<matplotlib.axes._subplots.AxesSubplot at 0x148130667f0>"
      ]
     },
     "execution_count": 6,
     "metadata": {},
     "output_type": "execute_result"
    },
    {
     "data": {
      "image/png": "[encoded data removed]",
      "text/plain": [
       "<Figure size 1296x576 with 1 Axes>"
      ]
     },
     "metadata": {
      "needs_background": "light"
     },
     "output_type": "display_data"
    }
   ],
   "source": [
    "plt.figure(figsize=(18, 8))\n",
    "sns.countplot(x = \"Animal_Type\", hue=\"AdoptionSpeed\", data = all_data)"
   ]
  },
  {
   "cell_type": "markdown",
   "metadata": {},
   "source": [
    "Cats are more likely to get adopted early on, where more dogs get adopted later. We can also see that the overall percentage of cats that are not adopted is lower than for dogs."
   ]
  },
  {
   "cell_type": "markdown",
   "metadata": {},
   "source": [
    "## Do the names they give the pets have an influence?"
   ]
  },
  {
   "cell_type": "code",
   "execution_count": 7,
   "metadata": {},
   "outputs": [
    {
     "name": "stdout",
     "output_type": "stream",
     "text": [
      "Most popular pet names and AdoptionSpeed:\n",
      "Baby\n",
      "0     2\n",
      "1    11\n",
      "2    15\n",
      "3    11\n",
      "4    27\n",
      "Name: AdoptionSpeed, dtype: int64 \n",
      "\n",
      "Lucky\n",
      "0     5\n",
      "1    14\n",
      "2    16\n",
      "3    12\n",
      "4    17\n",
      "Name: AdoptionSpeed, dtype: int64 \n",
      "\n",
      "Brownie\n",
      "0     1\n",
      "1    11\n",
      "2    14\n",
      "3    12\n",
      "4    16\n",
      "Name: AdoptionSpeed, dtype: int64 \n",
      "\n",
      "No Name\n",
      "0     3\n",
      "1    14\n",
      "2    11\n",
      "3     6\n",
      "4    20\n",
      "Name: AdoptionSpeed, dtype: int64 \n",
      "\n",
      "Mimi\n",
      "0     3\n",
      "1    12\n",
      "2    13\n",
      "3     7\n",
      "4    17\n",
      "Name: AdoptionSpeed, dtype: int64 \n",
      "\n"
     ]
    }
   ],
   "source": [
    "print(\"Most popular pet names and AdoptionSpeed:\")\n",
    "for n in train[\"Name\"].value_counts().index[:5]:\n",
    "    print(n)\n",
    "    print(train.loc[train[\"Name\"] == n, \"AdoptionSpeed\"].value_counts().sort_index(),\"\\n\")"
   ]
  },
  {
   "cell_type": "code",
   "execution_count": 8,
   "metadata": {},
   "outputs": [
    {
     "name": "stdout",
     "output_type": "stream",
     "text": [
      "No Name:  66\n",
      "Unnamed:  5\n",
      "None:  9\n",
      "No Name Yet:  26\n"
     ]
    }
   ],
   "source": [
    "print(\"No Name: \", all_data[all_data[\"Name\"] == \"No Name\"][\"Name\"].count())\n",
    "print(\"Unnamed: \", all_data[all_data[\"Name\"] == \"Unnamed\"][\"Name\"].count())\n",
    "print(\"None: \", all_data[all_data[\"Name\"] == \"None\"][\"Name\"].count())\n",
    "print(\"No Name Yet: \", all_data[all_data[\"Name\"] == \"No Name Yet\"][\"Name\"].count())"
   ]
  },
  {
   "cell_type": "code",
   "execution_count": 9,
   "metadata": {},
   "outputs": [],
   "source": [
    "all_data[\"Name\"] = all_data[\"Name\"].fillna(\"Unnamed\")\n",
    "train[\"Name\"] = train[\"Name\"].fillna(\"Unnamed\")\n",
    "test[\"Name\"] = test[\"Name\"].fillna(\"Unnamed\")\n",
    "\n",
    "all_data[\"Name\"] = np.where(all_data[\"Name\"] == \"No Name\",\"Unnamed\", all_data[\"Name\"])\n",
    "all_data[\"Name\"] = np.where(all_data[\"Name\"] == \"None\",\"Unnamed\", all_data[\"Name\"])\n",
    "all_data[\"Name\"] = np.where(all_data[\"Name\"] == \"No Name Yet\",\"Unnamed\", all_data[\"Name\"])\n",
    "\n",
    "train[\"Name\"] = np.where(train[\"Name\"] == \"No Name\",\"Unnamed\", train[\"Name\"])\n",
    "train[\"Name\"] = np.where(train[\"Name\"] == \"None\",\"Unnamed\", train[\"Name\"])\n",
    "train[\"Name\"] = np.where(train[\"Name\"] == \"No Name Yet\",\"Unnamed\", train[\"Name\"])\n",
    "\n",
    "test[\"Name\"] = np.where(test[\"Name\"] == \"No Name\",\"Unnamed\", test[\"Name\"])\n",
    "test[\"Name\"] = np.where(test[\"Name\"] == \"None\",\"Unnamed\", test[\"Name\"])\n",
    "test[\"Name\"] = np.where(test[\"Name\"] == \"No Name Yet\",\"Unnamed\", test[\"Name\"])"
   ]
  },
  {
   "cell_type": "markdown",
   "metadata": {},
   "source": [
    "Let's create a feature based on whether the animal has a name or not, and then we can compare the adoption speed to named animals."
   ]
  },
  {
   "cell_type": "code",
   "execution_count": 10,
   "metadata": {},
   "outputs": [],
   "source": [
    "train[\"Unnamed\"] = 0\n",
    "train.loc[train[\"Name\"] == \"Unnamed\", \"Unnamed\"] = 1\n",
    "\n",
    "test[\"Unnamed\"] = 0\n",
    "test.loc[test[\"Name\"] == \"Unnamed\", \"Unnamed\"] = 1\n",
    "\n",
    "all_data[\"Unnamed\"] = 0\n",
    "all_data.loc[all_data[\"Name\"] == \"Unnamed\", \"Unnamed\"] = 1"
   ]
  },
  {
   "cell_type": "code",
   "execution_count": 11,
   "metadata": {},
   "outputs": [
    {
     "data": {
      "text/html": [
       "<div>\n",
       "<style scoped>\n",
       "    .dataframe tbody tr th:only-of-type {\n",
       "        vertical-align: middle;\n",
       "    }\n",
       "\n",
       "    .dataframe tbody tr th {\n",
       "        vertical-align: top;\n",
       "    }\n",
       "\n",
       "    .dataframe thead th {\n",
       "        text-align: right;\n",
       "    }\n",
       "</style>\n",
       "<table border=\"1\" class=\"dataframe\">\n",
       "  <thead>\n",
       "    <tr style=\"text-align: right;\">\n",
       "      <th>AdoptionSpeed</th>\n",
       "      <th>0</th>\n",
       "      <th>1</th>\n",
       "      <th>2</th>\n",
       "      <th>3</th>\n",
       "      <th>4</th>\n",
       "    </tr>\n",
       "    <tr>\n",
       "      <th>Unnamed</th>\n",
       "      <th></th>\n",
       "      <th></th>\n",
       "      <th></th>\n",
       "      <th></th>\n",
       "      <th></th>\n",
       "    </tr>\n",
       "  </thead>\n",
       "  <tbody>\n",
       "    <tr>\n",
       "      <th>0</th>\n",
       "      <td>0.027845</td>\n",
       "      <td>0.205027</td>\n",
       "      <td>0.271342</td>\n",
       "      <td>0.221954</td>\n",
       "      <td>0.273833</td>\n",
       "    </tr>\n",
       "    <tr>\n",
       "      <th>1</th>\n",
       "      <td>0.022288</td>\n",
       "      <td>0.216939</td>\n",
       "      <td>0.248143</td>\n",
       "      <td>0.170877</td>\n",
       "      <td>0.341753</td>\n",
       "    </tr>\n",
       "  </tbody>\n",
       "</table>\n",
       "</div>"
      ],
      "text/plain": [
       "AdoptionSpeed         0         1         2         3         4\n",
       "Unnamed                                                        \n",
       "0              0.027845  0.205027  0.271342  0.221954  0.273833\n",
       "1              0.022288  0.216939  0.248143  0.170877  0.341753"
      ]
     },
     "execution_count": 11,
     "metadata": {},
     "output_type": "execute_result"
    }
   ],
   "source": [
    "pd.crosstab(train[\"Unnamed\"], train[\"AdoptionSpeed\"], normalize = \"index\")"
   ]
  },
  {
   "cell_type": "markdown",
   "metadata": {},
   "source": [
    "It seems that if an animal is unnamed, it less likely to get adopted compared to an animal with an assigned name."
   ]
  },
  {
   "cell_type": "code",
   "execution_count": 12,
   "metadata": {},
   "outputs": [
    {
     "data": {
      "text/plain": [
       "<matplotlib.axes._subplots.AxesSubplot at 0x148134ebef0>"
      ]
     },
     "execution_count": 12,
     "metadata": {},
     "output_type": "execute_result"
    },
    {
     "data": {
      "image/png": "[encoded data removed]",
      "text/plain": [
       "<Figure size 1296x576 with 1 Axes>"
      ]
     },
     "metadata": {
      "needs_background": "light"
     },
     "output_type": "display_data"
    }
   ],
   "source": [
    "plt.figure(figsize=(18,8))\n",
    "sns.countplot(x = \"Unnamed\", hue=\"AdoptionSpeed\", data=all_data)"
   ]
  },
  {
   "cell_type": "code",
   "execution_count": 13,
   "metadata": {},
   "outputs": [
    {
     "data": {
      "text/plain": [
       "Max    48\n",
       "Tom    33\n",
       "Boy    20\n",
       "Leo    18\n",
       "Ben    15\n",
       "Sam    14\n",
       "Mia    10\n",
       "QQ     10\n",
       "Ash    10\n",
       "BB      9\n",
       "Sky     9\n",
       "Joe     8\n",
       "Blu     8\n",
       "Rex     8\n",
       "Dot     7\n",
       "May     6\n",
       "MJ      6\n",
       "Amy     6\n",
       "JJ      6\n",
       "Joy     6\n",
       "Bee     5\n",
       "Eva     5\n",
       "Jay     5\n",
       "B1      5\n",
       "Zoe     5\n",
       "Moo     4\n",
       "Abu     4\n",
       "Ace     4\n",
       "Cat     4\n",
       "GG      4\n",
       "       ..\n",
       "M1      1\n",
       "Sim     1\n",
       "Ewa     1\n",
       "Liz     1\n",
       "B33     1\n",
       "R7      1\n",
       "Y6      1\n",
       "W1      1\n",
       "OJ      1\n",
       "Y5      1\n",
       "BT8     1\n",
       "Bak     1\n",
       "C1C     1\n",
       "F2      1\n",
       "KFC     1\n",
       "Z3      1\n",
       "F11     1\n",
       "A-D     1\n",
       "Rin     1\n",
       "No5     1\n",
       "G       1\n",
       "BEN     1\n",
       "Niu     1\n",
       "Gon     1\n",
       "C6C     1\n",
       "P6      1\n",
       "Y3      1\n",
       "H1      1\n",
       "Man     1\n",
       "KAT     1\n",
       "Name: Name, Length: 442, dtype: int64"
      ]
     },
     "execution_count": 13,
     "metadata": {},
     "output_type": "execute_result"
    }
   ],
   "source": [
    "all_data[all_data[\"Name\"].apply(lambda x: len(str(x))) <= 3][\"Name\"].value_counts()"
   ]
  },
  {
   "cell_type": "markdown",
   "metadata": {},
   "source": [
    "So we see that some of the names that have 3 characters or less are meaningless. This then probably increases the animals chances of not getting adopted, but we can't remove all these names since names like Max and Tom do have meaning."
   ]
  },
  {
   "cell_type": "markdown",
   "metadata": {},
   "source": [
    "## Does age matter? "
   ]
  },
  {
   "cell_type": "markdown",
   "metadata": {},
   "source": [
    "I would expect that people are more likely to adopt puppies and kittens than older animals. But let's take a look ..."
   ]
  },
  {
   "cell_type": "code",
   "execution_count": 14,
   "metadata": {},
   "outputs": [
    {
     "data": {
      "text/plain": [
       "array([[<matplotlib.axes._subplots.AxesSubplot object at 0x00000148130D9438>]],\n",
       "      dtype=object)"
      ]
     },
     "execution_count": 14,
     "metadata": {},
     "output_type": "execute_result"
    },
    {
     "data": {
      "image/png": "[encoded data removed]",
      "text/plain": [
       "<Figure size 432x288 with 1 Axes>"
      ]
     },
     "metadata": {
      "needs_background": "light"
     },
     "output_type": "display_data"
    }
   ],
   "source": [
    "# Currently the age is in months so I want to set it to age in years\n",
    "train[\"AgeInYrs\"] = train[\"Age\"]/12\n",
    "test[\"AgeInYrs\"] = test[\"Age\"]/12\n",
    "\n",
    "train.hist(column = \"AgeInYrs\")"
   ]
  },
  {
   "cell_type": "markdown",
   "metadata": {},
   "source": [
    "It seems that the majority of animals are under the age of 3"
   ]
  },
  {
   "cell_type": "markdown",
   "metadata": {},
   "source": [
    "Let's now analyse the adoption speed based on age."
   ]
  },
  {
   "cell_type": "code",
   "execution_count": 15,
   "metadata": {},
   "outputs": [
    {
     "data": {
      "image/png": "[encoded data removed]",
      "text/plain": [
       "<Figure size 1296x576 with 1 Axes>"
      ]
     },
     "metadata": {
      "needs_background": "light"
     },
     "output_type": "display_data"
    }
   ],
   "source": [
    "plt.figure(figsize=(18,8))\n",
    "ax = sns.boxenplot(x = \"AdoptionSpeed\", y=\"AgeInYrs\", hue=\"Type\", data=train)\n",
    "# ax = sns.stripplot(x = \"AdoptionSpeed\", y = \"AgeInYrs\", hue=\"Type\", data=train, size=4, jitter=True, color=\"gray\")"
   ]
  },
  {
   "cell_type": "markdown",
   "metadata": {},
   "source": [
    "Looking at the graph above, we can see that younger pets are adopted a lot more quickly than older pets. "
   ]
  },
  {
   "cell_type": "markdown",
   "metadata": {},
   "source": [
    "## Breeds: Mixed vs Pure? "
   ]
  },
  {
   "cell_type": "markdown",
   "metadata": {},
   "source": [
    "I'm wondering if people are more likely to adopts a pure breed animal or a mixed breed animal?"
   ]
  },
  {
   "cell_type": "code",
   "execution_count": 16,
   "metadata": {},
   "outputs": [],
   "source": [
    "train[\"MixedBreed\"] = [1 if x > 0 else 0 for x in train[\"Breed2\"]]\n",
    "test[\"MixedBreed\"] = [1 if x > 0 else 0 for x in test[\"Breed2\"]]\n",
    "all_data[\"MixedBreed\"] = [1 if x > 0 else 0 for x in all_data[\"Breed2\"]]"
   ]
  },
  {
   "cell_type": "code",
   "execution_count": 17,
   "metadata": {},
   "outputs": [
    {
     "name": "stdout",
     "output_type": "stream",
     "text": [
      "Rate of mixed breed pets in train data: 28.2198%.\n",
      "Rate of mixed breed pets in test data: 22.0365%.\n"
     ]
    }
   ],
   "source": [
    "print(f\"Rate of mixed breed pets in train data: {train['MixedBreed'].sum() * 100 / train['MixedBreed'].shape[0]:.4f}%.\")\n",
    "print(f\"Rate of mixed breed pets in test data: {test['MixedBreed'].sum() * 100 / test['MixedBreed'].shape[0]:.4f}%.\")"
   ]
  },
  {
   "cell_type": "markdown",
   "metadata": {},
   "source": [
    "So it seems that the majority of animals are pure bred which is unexpected."
   ]
  },
  {
   "cell_type": "code",
   "execution_count": 18,
   "metadata": {},
   "outputs": [
    {
     "data": {
      "text/plain": [
       "<matplotlib.axes._subplots.AxesSubplot at 0x14812b746d8>"
      ]
     },
     "execution_count": 18,
     "metadata": {},
     "output_type": "execute_result"
    },
    {
     "data": {
      "image/png": "[encoded data removed]",
      "text/plain": [
       "<Figure size 1296x576 with 1 Axes>"
      ]
     },
     "metadata": {
      "needs_background": "light"
     },
     "output_type": "display_data"
    }
   ],
   "source": [
    "plt.figure(figsize=(18,8))\n",
    "sns.boxenplot(x = \"MixedBreed\", y = \"AdoptionSpeed\", hue=\"Type\", data=train)"
   ]
  },
  {
   "cell_type": "markdown",
   "metadata": {},
   "source": [
    "So it seems that dogs have an equally likely chance of being adopted for both mixed and pure breeds. For cats, mixed breed cats are more likely to be adopted quickly than pure breed cats."
   ]
  },
  {
   "cell_type": "markdown",
   "metadata": {},
   "source": [
    "Let's try to see whether a specific breed is more likely to be adopted."
   ]
  },
  {
   "cell_type": "code",
   "execution_count": 19,
   "metadata": {},
   "outputs": [
    {
     "data": {
      "text/html": [
       "<div>\n",
       "<style scoped>\n",
       "    .dataframe tbody tr th:only-of-type {\n",
       "        vertical-align: middle;\n",
       "    }\n",
       "\n",
       "    .dataframe tbody tr th {\n",
       "        vertical-align: top;\n",
       "    }\n",
       "\n",
       "    .dataframe thead th {\n",
       "        text-align: right;\n",
       "    }\n",
       "</style>\n",
       "<table border=\"1\" class=\"dataframe\">\n",
       "  <thead>\n",
       "    <tr style=\"text-align: right;\">\n",
       "      <th></th>\n",
       "      <th>BreedID</th>\n",
       "      <th>Type</th>\n",
       "      <th>BreedName</th>\n",
       "    </tr>\n",
       "  </thead>\n",
       "  <tbody>\n",
       "    <tr>\n",
       "      <th>0</th>\n",
       "      <td>1</td>\n",
       "      <td>1</td>\n",
       "      <td>Affenpinscher</td>\n",
       "    </tr>\n",
       "    <tr>\n",
       "      <th>1</th>\n",
       "      <td>2</td>\n",
       "      <td>1</td>\n",
       "      <td>Afghan Hound</td>\n",
       "    </tr>\n",
       "    <tr>\n",
       "      <th>2</th>\n",
       "      <td>3</td>\n",
       "      <td>1</td>\n",
       "      <td>Airedale Terrier</td>\n",
       "    </tr>\n",
       "    <tr>\n",
       "      <th>3</th>\n",
       "      <td>4</td>\n",
       "      <td>1</td>\n",
       "      <td>Akbash</td>\n",
       "    </tr>\n",
       "    <tr>\n",
       "      <th>4</th>\n",
       "      <td>5</td>\n",
       "      <td>1</td>\n",
       "      <td>Akita</td>\n",
       "    </tr>\n",
       "  </tbody>\n",
       "</table>\n",
       "</div>"
      ],
      "text/plain": [
       "   BreedID  Type         BreedName\n",
       "0        1     1     Affenpinscher\n",
       "1        2     1      Afghan Hound\n",
       "2        3     1  Airedale Terrier\n",
       "3        4     1            Akbash\n",
       "4        5     1             Akita"
      ]
     },
     "execution_count": 19,
     "metadata": {},
     "output_type": "execute_result"
    }
   ],
   "source": [
    "breeds.head()"
   ]
  },
  {
   "cell_type": "code",
   "execution_count": 20,
   "metadata": {},
   "outputs": [],
   "source": [
    "breed_cols = breeds[[\"BreedID\", \"BreedName\"]]\n",
    "\n",
    "breed_cols.set_index(\"BreedID\", drop = True, inplace = True)\n",
    "\n",
    "breed_dict = breed_cols.to_dict()[\"BreedName\"]"
   ]
  },
  {
   "cell_type": "code",
   "execution_count": 21,
   "metadata": {},
   "outputs": [
    {
     "data": {
      "text/html": [
       "<div>\n",
       "<style scoped>\n",
       "    .dataframe tbody tr th:only-of-type {\n",
       "        vertical-align: middle;\n",
       "    }\n",
       "\n",
       "    .dataframe tbody tr th {\n",
       "        vertical-align: top;\n",
       "    }\n",
       "\n",
       "    .dataframe thead th {\n",
       "        text-align: right;\n",
       "    }\n",
       "</style>\n",
       "<table border=\"1\" class=\"dataframe\">\n",
       "  <thead>\n",
       "    <tr style=\"text-align: right;\">\n",
       "      <th></th>\n",
       "      <th>Type</th>\n",
       "      <th>Name</th>\n",
       "      <th>Age</th>\n",
       "      <th>Breed1</th>\n",
       "      <th>Breed2</th>\n",
       "      <th>Gender</th>\n",
       "      <th>Color1</th>\n",
       "      <th>Color2</th>\n",
       "      <th>Color3</th>\n",
       "      <th>MaturitySize</th>\n",
       "      <th>...</th>\n",
       "      <th>State</th>\n",
       "      <th>RescuerID</th>\n",
       "      <th>VideoAmt</th>\n",
       "      <th>PetID</th>\n",
       "      <th>PhotoAmt</th>\n",
       "      <th>AdoptionSpeed</th>\n",
       "      <th>DataType</th>\n",
       "      <th>Unnamed</th>\n",
       "      <th>AgeInYrs</th>\n",
       "      <th>MixedBreed</th>\n",
       "    </tr>\n",
       "  </thead>\n",
       "  <tbody>\n",
       "    <tr>\n",
       "      <th>0</th>\n",
       "      <td>2</td>\n",
       "      <td>Nibble</td>\n",
       "      <td>3</td>\n",
       "      <td>299</td>\n",
       "      <td>0</td>\n",
       "      <td>1</td>\n",
       "      <td>1</td>\n",
       "      <td>7</td>\n",
       "      <td>0</td>\n",
       "      <td>1</td>\n",
       "      <td>...</td>\n",
       "      <td>41326</td>\n",
       "      <td>8480853f516546f6cf33aa88cd76c379</td>\n",
       "      <td>0</td>\n",
       "      <td>86e1089a3</td>\n",
       "      <td>1.0</td>\n",
       "      <td>2</td>\n",
       "      <td>training_data</td>\n",
       "      <td>0</td>\n",
       "      <td>0.250000</td>\n",
       "      <td>0</td>\n",
       "    </tr>\n",
       "    <tr>\n",
       "      <th>1</th>\n",
       "      <td>2</td>\n",
       "      <td>Unnamed</td>\n",
       "      <td>1</td>\n",
       "      <td>265</td>\n",
       "      <td>0</td>\n",
       "      <td>1</td>\n",
       "      <td>1</td>\n",
       "      <td>2</td>\n",
       "      <td>0</td>\n",
       "      <td>2</td>\n",
       "      <td>...</td>\n",
       "      <td>41401</td>\n",
       "      <td>3082c7125d8fb66f7dd4bff4192c8b14</td>\n",
       "      <td>0</td>\n",
       "      <td>6296e909a</td>\n",
       "      <td>2.0</td>\n",
       "      <td>0</td>\n",
       "      <td>training_data</td>\n",
       "      <td>1</td>\n",
       "      <td>0.083333</td>\n",
       "      <td>0</td>\n",
       "    </tr>\n",
       "    <tr>\n",
       "      <th>2</th>\n",
       "      <td>1</td>\n",
       "      <td>Brisco</td>\n",
       "      <td>1</td>\n",
       "      <td>307</td>\n",
       "      <td>0</td>\n",
       "      <td>1</td>\n",
       "      <td>2</td>\n",
       "      <td>7</td>\n",
       "      <td>0</td>\n",
       "      <td>2</td>\n",
       "      <td>...</td>\n",
       "      <td>41326</td>\n",
       "      <td>fa90fa5b1ee11c86938398b60abc32cb</td>\n",
       "      <td>0</td>\n",
       "      <td>3422e4906</td>\n",
       "      <td>7.0</td>\n",
       "      <td>3</td>\n",
       "      <td>training_data</td>\n",
       "      <td>0</td>\n",
       "      <td>0.083333</td>\n",
       "      <td>0</td>\n",
       "    </tr>\n",
       "    <tr>\n",
       "      <th>3</th>\n",
       "      <td>1</td>\n",
       "      <td>Miko</td>\n",
       "      <td>4</td>\n",
       "      <td>307</td>\n",
       "      <td>0</td>\n",
       "      <td>2</td>\n",
       "      <td>1</td>\n",
       "      <td>2</td>\n",
       "      <td>0</td>\n",
       "      <td>2</td>\n",
       "      <td>...</td>\n",
       "      <td>41401</td>\n",
       "      <td>9238e4f44c71a75282e62f7136c6b240</td>\n",
       "      <td>0</td>\n",
       "      <td>5842f1ff5</td>\n",
       "      <td>8.0</td>\n",
       "      <td>2</td>\n",
       "      <td>training_data</td>\n",
       "      <td>0</td>\n",
       "      <td>0.333333</td>\n",
       "      <td>0</td>\n",
       "    </tr>\n",
       "    <tr>\n",
       "      <th>4</th>\n",
       "      <td>1</td>\n",
       "      <td>Hunter</td>\n",
       "      <td>1</td>\n",
       "      <td>307</td>\n",
       "      <td>0</td>\n",
       "      <td>1</td>\n",
       "      <td>1</td>\n",
       "      <td>0</td>\n",
       "      <td>0</td>\n",
       "      <td>2</td>\n",
       "      <td>...</td>\n",
       "      <td>41326</td>\n",
       "      <td>95481e953f8aed9ec3d16fc4509537e8</td>\n",
       "      <td>0</td>\n",
       "      <td>850a43f90</td>\n",
       "      <td>3.0</td>\n",
       "      <td>2</td>\n",
       "      <td>training_data</td>\n",
       "      <td>0</td>\n",
       "      <td>0.083333</td>\n",
       "      <td>0</td>\n",
       "    </tr>\n",
       "  </tbody>\n",
       "</table>\n",
       "<p>5 rows × 27 columns</p>\n",
       "</div>"
      ],
      "text/plain": [
       "   Type     Name  Age  Breed1  Breed2  Gender  Color1  Color2  Color3  \\\n",
       "0     2   Nibble    3     299       0       1       1       7       0   \n",
       "1     2  Unnamed    1     265       0       1       1       2       0   \n",
       "2     1   Brisco    1     307       0       1       2       7       0   \n",
       "3     1     Miko    4     307       0       2       1       2       0   \n",
       "4     1   Hunter    1     307       0       1       1       0       0   \n",
       "\n",
       "   MaturitySize     ...      State                         RescuerID  \\\n",
       "0             1     ...      41326  8480853f516546f6cf33aa88cd76c379   \n",
       "1             2     ...      41401  3082c7125d8fb66f7dd4bff4192c8b14   \n",
       "2             2     ...      41326  fa90fa5b1ee11c86938398b60abc32cb   \n",
       "3             2     ...      41401  9238e4f44c71a75282e62f7136c6b240   \n",
       "4             2     ...      41326  95481e953f8aed9ec3d16fc4509537e8   \n",
       "\n",
       "   VideoAmt      PetID  PhotoAmt  AdoptionSpeed       DataType  Unnamed  \\\n",
       "0         0  86e1089a3       1.0              2  training_data        0   \n",
       "1         0  6296e909a       2.0              0  training_data        1   \n",
       "2         0  3422e4906       7.0              3  training_data        0   \n",
       "3         0  5842f1ff5       8.0              2  training_data        0   \n",
       "4         0  850a43f90       3.0              2  training_data        0   \n",
       "\n",
       "   AgeInYrs  MixedBreed  \n",
       "0  0.250000           0  \n",
       "1  0.083333           0  \n",
       "2  0.083333           0  \n",
       "3  0.333333           0  \n",
       "4  0.083333           0  \n",
       "\n",
       "[5 rows x 27 columns]"
      ]
     },
     "execution_count": 21,
     "metadata": {},
     "output_type": "execute_result"
    }
   ],
   "source": [
    "train.head()"
   ]
  },
  {
   "cell_type": "code",
   "execution_count": 22,
   "metadata": {},
   "outputs": [],
   "source": [
    "train[\"Breed1\"] = train[\"Breed1\"].map(breed_dict).fillna(\"Unknown\")\n",
    "train[\"Breed2\"] = train[\"Breed2\"].map(breed_dict).fillna(\"None\")\n",
    "\n",
    "test[\"Breed1\"] = test[\"Breed1\"].map(breed_dict).fillna(\"Unknown\")\n",
    "test[\"Breed2\"] = test[\"Breed2\"].map(breed_dict).fillna(\"None\")\n",
    "\n",
    "all_data[\"Breed1\"] = all_data[\"Breed1\"].map(breed_dict).fillna(\"Unknown\")\n",
    "all_data[\"Breed2\"] = all_data[\"Breed2\"].map(breed_dict).fillna(\"None\")"
   ]
  },
  {
   "cell_type": "markdown",
   "metadata": {},
   "source": [
    "We see that even though some of the breed names doesn't count as a pure breed, such as \"Mixed Breed\"."
   ]
  },
  {
   "cell_type": "code",
   "execution_count": 23,
   "metadata": {},
   "outputs": [
    {
     "data": {
      "text/plain": [
       "Mixed Breed & None             5573\n",
       "Domestic Short Hair & None     4042\n",
       "Domestic Medium Hair & None    1264\n",
       "Mixed Breed & Mixed Breed      1188\n",
       "Tabby & None                    379\n",
       "dtype: int64"
      ]
     },
     "execution_count": 23,
     "metadata": {},
     "output_type": "execute_result"
    }
   ],
   "source": [
    "(all_data[\"Breed1\"] + \" & \" + all_data[\"Breed2\"]).value_counts().head()"
   ]
  },
  {
   "cell_type": "markdown",
   "metadata": {},
   "source": [
    "In some cases people write both the breeds in the second field, even though its the same as the first. So how do we go about using breed information if we have inaccurate data?\n",
    "\n",
    "I decided that I'm going to list them as mixed breed if mixed breed is present in the column.\n",
    "\n",
    "Also, for some of the cases of catsthe same breed is listed twice and they're then seen as mixed breed.\n",
    "We also notice that domestic short/medium/long hair cats are seen as pure bred, but they're not recognised as a pure breed so we need to adjust this."
   ]
  },
  {
   "cell_type": "code",
   "execution_count": 24,
   "metadata": {},
   "outputs": [
    {
     "data": {
      "text/html": [
       "<div>\n",
       "<style scoped>\n",
       "    .dataframe tbody tr th:only-of-type {\n",
       "        vertical-align: middle;\n",
       "    }\n",
       "\n",
       "    .dataframe tbody tr th {\n",
       "        vertical-align: top;\n",
       "    }\n",
       "\n",
       "    .dataframe thead th {\n",
       "        text-align: right;\n",
       "    }\n",
       "</style>\n",
       "<table border=\"1\" class=\"dataframe\">\n",
       "  <thead>\n",
       "    <tr style=\"text-align: right;\">\n",
       "      <th></th>\n",
       "      <th>Breed1</th>\n",
       "      <th>Breed2</th>\n",
       "      <th>MixedBreed</th>\n",
       "    </tr>\n",
       "  </thead>\n",
       "  <tbody>\n",
       "    <tr>\n",
       "      <th>0</th>\n",
       "      <td>Tabby</td>\n",
       "      <td>None</td>\n",
       "      <td>0</td>\n",
       "    </tr>\n",
       "    <tr>\n",
       "      <th>1</th>\n",
       "      <td>Domestic Medium Hair</td>\n",
       "      <td>None</td>\n",
       "      <td>0</td>\n",
       "    </tr>\n",
       "    <tr>\n",
       "      <th>2</th>\n",
       "      <td>Mixed Breed</td>\n",
       "      <td>None</td>\n",
       "      <td>0</td>\n",
       "    </tr>\n",
       "    <tr>\n",
       "      <th>3</th>\n",
       "      <td>Mixed Breed</td>\n",
       "      <td>None</td>\n",
       "      <td>0</td>\n",
       "    </tr>\n",
       "    <tr>\n",
       "      <th>4</th>\n",
       "      <td>Mixed Breed</td>\n",
       "      <td>None</td>\n",
       "      <td>0</td>\n",
       "    </tr>\n",
       "  </tbody>\n",
       "</table>\n",
       "</div>"
      ],
      "text/plain": [
       "                 Breed1 Breed2  MixedBreed\n",
       "0                 Tabby   None           0\n",
       "1  Domestic Medium Hair   None           0\n",
       "2           Mixed Breed   None           0\n",
       "3           Mixed Breed   None           0\n",
       "4           Mixed Breed   None           0"
      ]
     },
     "execution_count": 24,
     "metadata": {},
     "output_type": "execute_result"
    }
   ],
   "source": [
    "all_data[[\"Breed1\", \"Breed2\", \"MixedBreed\"]].head()"
   ]
  },
  {
   "cell_type": "code",
   "execution_count": 25,
   "metadata": {},
   "outputs": [],
   "source": [
    "# Make all the cases pure bred if breed 1 is the same as breed 2\n",
    "all_data.loc[all_data[\"Breed1\"] == all_data[\"Breed2\"], \"MixedBreed\"] = 0\n",
    "\n",
    "# But for the following cases, they are mixed:\n",
    "all_data.loc[all_data[\"Breed1\"] == \"Mixed Breed\", \"MixedBreed\"] = 1\n",
    "all_data.loc[all_data[\"Breed1\"] == \"Domestic Short Hair\", \"MixedBreed\"] = 1\n",
    "all_data.loc[all_data[\"Breed1\"] == \"Domestic Medium Hair\", \"MixedBreed\"] = 1\n",
    "all_data.loc[all_data[\"Breed1\"] == \"Domestic Long Hair\", \"MixedBreed\"] = 1\n",
    "\n",
    "# For train and test as well.\n",
    "train.loc[train[\"Breed1\"] == train[\"Breed2\"], \"MixedBreed\"] = 0\n",
    "train.loc[train[\"Breed1\"] == \"Mixed Breed\", \"MixedBreed\"] = 1\n",
    "train.loc[train[\"Breed1\"] == \"Domestic Short Hair\", \"MixedBreed\"] = 1\n",
    "train.loc[train[\"Breed1\"] == \"Domestic Medium Hair\", \"MixedBreed\"] = 1\n",
    "train.loc[train[\"Breed1\"] == \"Domestic Long Hair\", \"MixedBreed\"] = 1\n",
    "\n",
    "test.loc[test[\"Breed1\"] == test[\"Breed2\"], \"MixedBreed\"] = 0\n",
    "test.loc[test[\"Breed1\"] == \"Mixed Breed\", \"MixedBreed\"] = 1\n",
    "test.loc[test[\"Breed1\"] == \"Domestic Short Hair\", \"MixedBreed\"] = 1\n",
    "test.loc[test[\"Breed1\"] == \"Domestic Medium Hair\", \"MixedBreed\"] = 1\n",
    "test.loc[test[\"Breed1\"] == \"Domestic Long Hair\", \"MixedBreed\"] = 1"
   ]
  },
  {
   "cell_type": "code",
   "execution_count": 26,
   "metadata": {},
   "outputs": [
    {
     "data": {
      "text/plain": [
       "<matplotlib.axes._subplots.AxesSubplot at 0x14812c31da0>"
      ]
     },
     "execution_count": 26,
     "metadata": {},
     "output_type": "execute_result"
    },
    {
     "data": {
      "image/png": "[encoded data removed]",
      "text/plain": [
       "<Figure size 1296x576 with 1 Axes>"
      ]
     },
     "metadata": {
      "needs_background": "light"
     },
     "output_type": "display_data"
    }
   ],
   "source": [
    "plt.figure(figsize=(18,8))\n",
    "sns.boxenplot(x = \"MixedBreed\", y = \"AdoptionSpeed\", hue=\"Type\", data=all_data)"
   ]
  },
  {
   "cell_type": "markdown",
   "metadata": {},
   "source": [
    "Now we have a better idea of the adoption rates of mixed breed animals. We can see that pure bred dogs get adopted faster than mixed breed dogs.\n",
    "\n",
    "But cats get adopted faster when they're a mixed breed.\n",
    "\n",
    "We will now use the \"MixedBreed\" feature instead of \"Breed1\" and \"Breed2\"."
   ]
  },
  {
   "cell_type": "markdown",
   "metadata": {},
   "source": [
    "## Gender"
   ]
  },
  {
   "cell_type": "markdown",
   "metadata": {},
   "source": [
    "Note that 1 - Male, 2 - Female and 3 - Mixed (Like when the profile represents multiple pets)."
   ]
  },
  {
   "cell_type": "code",
   "execution_count": 27,
   "metadata": {},
   "outputs": [
    {
     "data": {
      "text/plain": [
       "<matplotlib.axes._subplots.AxesSubplot at 0x14812c3a5c0>"
      ]
     },
     "execution_count": 27,
     "metadata": {},
     "output_type": "execute_result"
    },
    {
     "data": {
      "image/png": "[encoded data removed]",
      "text/plain": [
       "<Figure size 576x360 with 1 Axes>"
      ]
     },
     "metadata": {
      "needs_background": "light"
     },
     "output_type": "display_data"
    }
   ],
   "source": [
    "plt.figure(figsize=(8,5))\n",
    "sns.countplot(x = \"Gender\", hue=\"Type\", data=all_data)"
   ]
  },
  {
   "cell_type": "markdown",
   "metadata": {},
   "source": [
    "So we can see that there are a lot more female pets in the shelter than males. The smallest group is the mised gender group.\n",
    "\n",
    "Now let's look at the distribution of the adoption speed of these different groups."
   ]
  },
  {
   "cell_type": "code",
   "execution_count": 28,
   "metadata": {},
   "outputs": [
    {
     "data": {
      "text/plain": [
       "<matplotlib.axes._subplots.AxesSubplot at 0x148146a6f98>"
      ]
     },
     "execution_count": 28,
     "metadata": {},
     "output_type": "execute_result"
    },
    {
     "data": {
      "image/png": "[encoded data removed]",
      "text/plain": [
       "<Figure size 576x360 with 1 Axes>"
      ]
     },
     "metadata": {
      "needs_background": "light"
     },
     "output_type": "display_data"
    }
   ],
   "source": [
    "plt.figure(figsize=(8,5))\n",
    "sns.boxenplot(x = \"Gender\", y = \"AdoptionSpeed\", hue=\"Type\", data=all_data)"
   ]
  },
  {
   "cell_type": "markdown",
   "metadata": {},
   "source": [
    "Male dogs get adopted a lot faster than female dogs and male cats tend to get adopted and not stay at the shelter for longer than 90 days unlike female cats.\n",
    "Female dogs on average get adopted later than male dogs, and a lot of of them don't get adopted.\n",
    "The mixed groups have similar distributions than the female dog and cat groups, except they tend to not get adopted as early.\n",
    "Does the mixed group mostly consist of a mother and her babies? And how many animals normally fall in the gender category 3?"
   ]
  },
  {
   "cell_type": "code",
   "execution_count": 30,
   "metadata": {},
   "outputs": [
    {
     "data": {
      "text/plain": [
       "count    2791.000000\n",
       "mean        3.910068\n",
       "std         2.298389\n",
       "min         2.000000\n",
       "25%         2.000000\n",
       "50%         3.000000\n",
       "75%         5.000000\n",
       "max        20.000000\n",
       "Name: Quantity, dtype: float64"
      ]
     },
     "execution_count": 30,
     "metadata": {},
     "output_type": "execute_result"
    }
   ],
   "source": [
    "all_data[all_data[\"Gender\"] == 3][\"Quantity\"].describe()"
   ]
  },
  {
   "cell_type": "markdown",
   "metadata": {},
   "source": [
    "On average, there are 4 animals that are listed as a group to be adopted. There's even a case of 20 animals. Normally, people adopt one or two pets so this explains the undesired adoption speed for this group. Shelters should consider listing the animals in smaller groups, or finding forster homes for them until the babies are weaned off their mom."
   ]
  },
  {
   "cell_type": "markdown",
   "metadata": {},
   "source": [
    "## Size of the pets "
   ]
  },
  {
   "cell_type": "markdown",
   "metadata": {},
   "source": [
    "Perhaps smaller dogs are more likely to get adopted, since larger dogs need more space. I would think size doesn't really matter when it comes to cats, but let's check it out.\n",
    "\n",
    "Maturity Sizes are 1 - Small, 2 - Medium, 3 - Large, 4 - Extra Large, 0 - Not Specified."
   ]
  },
  {
   "cell_type": "code",
   "execution_count": 32,
   "metadata": {},
   "outputs": [
    {
     "data": {
      "text/plain": [
       "<matplotlib.axes._subplots.AxesSubplot at 0x14813218c18>"
      ]
     },
     "execution_count": 32,
     "metadata": {},
     "output_type": "execute_result"
    },
    {
     "data": {
      "image/png": "[encoded data removed]",
      "text/plain": [
       "<Figure size 576x360 with 1 Axes>"
      ]
     },
     "metadata": {
      "needs_background": "light"
     },
     "output_type": "display_data"
    }
   ],
   "source": [
    "plt.figure(figsize=(8,5))\n",
    "sns.countplot(x = \"MaturitySize\", hue = \"Type\", data = all_data)"
   ]
  },
  {
   "cell_type": "markdown",
   "metadata": {},
   "source": [
    "Most dogs and cats are medium sized, and there aren't any cases where we have no data on the size. So let's check out the distribution."
   ]
  },
  {
   "cell_type": "code",
   "execution_count": 33,
   "metadata": {},
   "outputs": [
    {
     "data": {
      "text/plain": [
       "<matplotlib.axes._subplots.AxesSubplot at 0x14813755fd0>"
      ]
     },
     "execution_count": 33,
     "metadata": {},
     "output_type": "execute_result"
    },
    {
     "data": {
      "image/png": "[encoded data removed]",
      "text/plain": [
       "<Figure size 576x360 with 1 Axes>"
      ]
     },
     "metadata": {
      "needs_background": "light"
     },
     "output_type": "display_data"
    }
   ],
   "source": [
    "plt.figure(figsize=(8,5))\n",
    "sns.boxenplot(x = \"MaturitySize\", y = \"AdoptionSpeed\", hue = \"Type\", data = all_data)"
   ]
  },
  {
   "cell_type": "markdown",
   "metadata": {},
   "source": [
    "Looks like smaller dogs are adopted quicker than their larger counterparts, and small cats are definitely the most popular size.\n",
    "It seems that there are no cases where the extra large dogs don't get adopted, so let's investigate that group and the unspecified size group.\n"
   ]
  },
  {
   "cell_type": "code",
   "execution_count": 35,
   "metadata": {},
   "outputs": [
    {
     "data": {
      "text/html": [
       "<div>\n",
       "<style scoped>\n",
       "    .dataframe tbody tr th:only-of-type {\n",
       "        vertical-align: middle;\n",
       "    }\n",
       "\n",
       "    .dataframe tbody tr th {\n",
       "        vertical-align: top;\n",
       "    }\n",
       "\n",
       "    .dataframe thead th {\n",
       "        text-align: right;\n",
       "    }\n",
       "</style>\n",
       "<table border=\"1\" class=\"dataframe\">\n",
       "  <thead>\n",
       "    <tr style=\"text-align: right;\">\n",
       "      <th></th>\n",
       "      <th>AdoptionSpeed</th>\n",
       "      <th>Age</th>\n",
       "      <th>Breed1</th>\n",
       "      <th>Breed2</th>\n",
       "      <th>Color1</th>\n",
       "      <th>Color2</th>\n",
       "      <th>Color3</th>\n",
       "      <th>DataType</th>\n",
       "      <th>Description</th>\n",
       "      <th>Dewormed</th>\n",
       "      <th>...</th>\n",
       "      <th>Quantity</th>\n",
       "      <th>RescuerID</th>\n",
       "      <th>State</th>\n",
       "      <th>Sterilized</th>\n",
       "      <th>Type</th>\n",
       "      <th>Vaccinated</th>\n",
       "      <th>VideoAmt</th>\n",
       "      <th>Animal_Type</th>\n",
       "      <th>Unnamed</th>\n",
       "      <th>MixedBreed</th>\n",
       "    </tr>\n",
       "  </thead>\n",
       "  <tbody>\n",
       "  </tbody>\n",
       "</table>\n",
       "<p>0 rows × 28 columns</p>\n",
       "</div>"
      ],
      "text/plain": [
       "Empty DataFrame\n",
       "Columns: [AdoptionSpeed, Age, Breed1, Breed2, Color1, Color2, Color3, DataType, Description, Dewormed, Fee, FurLength, Gender, Health, MaturitySize, Name, PetID, PhotoAmt, Quantity, RescuerID, State, Sterilized, Type, Vaccinated, VideoAmt, Animal_Type, Unnamed, MixedBreed]\n",
       "Index: []\n",
       "\n",
       "[0 rows x 28 columns]"
      ]
     },
     "execution_count": 35,
     "metadata": {},
     "output_type": "execute_result"
    }
   ],
   "source": [
    "all_data[all_data[\"MaturitySize\"] == 0]\n",
    "\n",
    "# There are no casesn where we don't have a maturity size (Yay!)"
   ]
  },
  {
   "cell_type": "code",
   "execution_count": 34,
   "metadata": {},
   "outputs": [
    {
     "data": {
      "text/html": [
       "<div>\n",
       "<style scoped>\n",
       "    .dataframe tbody tr th:only-of-type {\n",
       "        vertical-align: middle;\n",
       "    }\n",
       "\n",
       "    .dataframe tbody tr th {\n",
       "        vertical-align: top;\n",
       "    }\n",
       "\n",
       "    .dataframe thead th {\n",
       "        text-align: right;\n",
       "    }\n",
       "</style>\n",
       "<table border=\"1\" class=\"dataframe\">\n",
       "  <thead>\n",
       "    <tr style=\"text-align: right;\">\n",
       "      <th></th>\n",
       "      <th>AdoptionSpeed</th>\n",
       "      <th>Age</th>\n",
       "      <th>Breed1</th>\n",
       "      <th>Breed2</th>\n",
       "      <th>Color1</th>\n",
       "      <th>Color2</th>\n",
       "      <th>Color3</th>\n",
       "      <th>DataType</th>\n",
       "      <th>Description</th>\n",
       "      <th>Dewormed</th>\n",
       "      <th>...</th>\n",
       "      <th>Quantity</th>\n",
       "      <th>RescuerID</th>\n",
       "      <th>State</th>\n",
       "      <th>Sterilized</th>\n",
       "      <th>Type</th>\n",
       "      <th>Vaccinated</th>\n",
       "      <th>VideoAmt</th>\n",
       "      <th>Animal_Type</th>\n",
       "      <th>Unnamed</th>\n",
       "      <th>MixedBreed</th>\n",
       "    </tr>\n",
       "  </thead>\n",
       "  <tbody>\n",
       "    <tr>\n",
       "      <th>1265</th>\n",
       "      <td>1.0</td>\n",
       "      <td>12</td>\n",
       "      <td>Great Dane</td>\n",
       "      <td>None</td>\n",
       "      <td>1</td>\n",
       "      <td>0</td>\n",
       "      <td>0</td>\n",
       "      <td>training_data</td>\n",
       "      <td>Oreo Female Great Dane 1 year old</td>\n",
       "      <td>1</td>\n",
       "      <td>...</td>\n",
       "      <td>1</td>\n",
       "      <td>b3b9d092e0cced7bb066e65e6793f527</td>\n",
       "      <td>41326</td>\n",
       "      <td>1</td>\n",
       "      <td>1</td>\n",
       "      <td>1</td>\n",
       "      <td>0</td>\n",
       "      <td>Dog</td>\n",
       "      <td>0</td>\n",
       "      <td>0</td>\n",
       "    </tr>\n",
       "    <tr>\n",
       "      <th>1899</th>\n",
       "      <td>2.0</td>\n",
       "      <td>36</td>\n",
       "      <td>Bullmastiff</td>\n",
       "      <td>Rottweiler</td>\n",
       "      <td>1</td>\n",
       "      <td>2</td>\n",
       "      <td>0</td>\n",
       "      <td>training_data</td>\n",
       "      <td>Ali (named after the boxer Mohammad Ali) has a...</td>\n",
       "      <td>1</td>\n",
       "      <td>...</td>\n",
       "      <td>1</td>\n",
       "      <td>aa66486163b6cbc25ea62a34b11c9b91</td>\n",
       "      <td>41326</td>\n",
       "      <td>2</td>\n",
       "      <td>1</td>\n",
       "      <td>1</td>\n",
       "      <td>0</td>\n",
       "      <td>Dog</td>\n",
       "      <td>0</td>\n",
       "      <td>1</td>\n",
       "    </tr>\n",
       "    <tr>\n",
       "      <th>2461</th>\n",
       "      <td>2.0</td>\n",
       "      <td>36</td>\n",
       "      <td>Saint Bernard</td>\n",
       "      <td>None</td>\n",
       "      <td>1</td>\n",
       "      <td>2</td>\n",
       "      <td>7</td>\n",
       "      <td>training_data</td>\n",
       "      <td>Owner bought him from a pet shop and was told ...</td>\n",
       "      <td>1</td>\n",
       "      <td>...</td>\n",
       "      <td>1</td>\n",
       "      <td>fa90fa5b1ee11c86938398b60abc32cb</td>\n",
       "      <td>41326</td>\n",
       "      <td>2</td>\n",
       "      <td>1</td>\n",
       "      <td>1</td>\n",
       "      <td>0</td>\n",
       "      <td>Dog</td>\n",
       "      <td>0</td>\n",
       "      <td>0</td>\n",
       "    </tr>\n",
       "    <tr>\n",
       "      <th>2514</th>\n",
       "      <td>2.0</td>\n",
       "      <td>4</td>\n",
       "      <td>Domestic Short Hair</td>\n",
       "      <td>None</td>\n",
       "      <td>1</td>\n",
       "      <td>6</td>\n",
       "      <td>0</td>\n",
       "      <td>training_data</td>\n",
       "      <td>-</td>\n",
       "      <td>2</td>\n",
       "      <td>...</td>\n",
       "      <td>1</td>\n",
       "      <td>5be13320d12dc6478d94268d6e103e56</td>\n",
       "      <td>41401</td>\n",
       "      <td>2</td>\n",
       "      <td>2</td>\n",
       "      <td>2</td>\n",
       "      <td>0</td>\n",
       "      <td>Cat</td>\n",
       "      <td>1</td>\n",
       "      <td>1</td>\n",
       "    </tr>\n",
       "    <tr>\n",
       "      <th>2523</th>\n",
       "      <td>3.0</td>\n",
       "      <td>72</td>\n",
       "      <td>Rottweiler</td>\n",
       "      <td>None</td>\n",
       "      <td>1</td>\n",
       "      <td>2</td>\n",
       "      <td>0</td>\n",
       "      <td>training_data</td>\n",
       "      <td>Rotti girl with MKA certificate looking for a ...</td>\n",
       "      <td>3</td>\n",
       "      <td>...</td>\n",
       "      <td>1</td>\n",
       "      <td>fa90fa5b1ee11c86938398b60abc32cb</td>\n",
       "      <td>41326</td>\n",
       "      <td>1</td>\n",
       "      <td>1</td>\n",
       "      <td>3</td>\n",
       "      <td>0</td>\n",
       "      <td>Dog</td>\n",
       "      <td>0</td>\n",
       "      <td>0</td>\n",
       "    </tr>\n",
       "    <tr>\n",
       "      <th>2738</th>\n",
       "      <td>1.0</td>\n",
       "      <td>18</td>\n",
       "      <td>Rottweiler</td>\n",
       "      <td>None</td>\n",
       "      <td>1</td>\n",
       "      <td>2</td>\n",
       "      <td>0</td>\n",
       "      <td>training_data</td>\n",
       "      <td>Pure breed Rottweiler rescued fr breeder. Alre...</td>\n",
       "      <td>1</td>\n",
       "      <td>...</td>\n",
       "      <td>1</td>\n",
       "      <td>fa90fa5b1ee11c86938398b60abc32cb</td>\n",
       "      <td>41326</td>\n",
       "      <td>1</td>\n",
       "      <td>1</td>\n",
       "      <td>1</td>\n",
       "      <td>0</td>\n",
       "      <td>Dog</td>\n",
       "      <td>0</td>\n",
       "      <td>0</td>\n",
       "    </tr>\n",
       "    <tr>\n",
       "      <th>3157</th>\n",
       "      <td>3.0</td>\n",
       "      <td>36</td>\n",
       "      <td>Golden Retriever</td>\n",
       "      <td>Mixed Breed</td>\n",
       "      <td>3</td>\n",
       "      <td>0</td>\n",
       "      <td>0</td>\n",
       "      <td>training_data</td>\n",
       "      <td>Owner cannot keep him anymore due to council r...</td>\n",
       "      <td>1</td>\n",
       "      <td>...</td>\n",
       "      <td>1</td>\n",
       "      <td>fa90fa5b1ee11c86938398b60abc32cb</td>\n",
       "      <td>41326</td>\n",
       "      <td>1</td>\n",
       "      <td>1</td>\n",
       "      <td>1</td>\n",
       "      <td>0</td>\n",
       "      <td>Dog</td>\n",
       "      <td>0</td>\n",
       "      <td>1</td>\n",
       "    </tr>\n",
       "    <tr>\n",
       "      <th>3558</th>\n",
       "      <td>2.0</td>\n",
       "      <td>13</td>\n",
       "      <td>Doberman Pinscher</td>\n",
       "      <td>None</td>\n",
       "      <td>1</td>\n",
       "      <td>2</td>\n",
       "      <td>0</td>\n",
       "      <td>training_data</td>\n",
       "      <td>He is very playful, alert, energetic, smart an...</td>\n",
       "      <td>1</td>\n",
       "      <td>...</td>\n",
       "      <td>1</td>\n",
       "      <td>ac8608c9cc3c828c4b5a44a7e6002cbe</td>\n",
       "      <td>41326</td>\n",
       "      <td>2</td>\n",
       "      <td>1</td>\n",
       "      <td>1</td>\n",
       "      <td>0</td>\n",
       "      <td>Dog</td>\n",
       "      <td>0</td>\n",
       "      <td>0</td>\n",
       "    </tr>\n",
       "    <tr>\n",
       "      <th>4706</th>\n",
       "      <td>3.0</td>\n",
       "      <td>12</td>\n",
       "      <td>Great Dane</td>\n",
       "      <td>None</td>\n",
       "      <td>1</td>\n",
       "      <td>0</td>\n",
       "      <td>0</td>\n",
       "      <td>training_data</td>\n",
       "      <td>She is a pure Great Dane. Black in colour. I a...</td>\n",
       "      <td>1</td>\n",
       "      <td>...</td>\n",
       "      <td>1</td>\n",
       "      <td>64cab7e12961c2929700559615bc8488</td>\n",
       "      <td>41401</td>\n",
       "      <td>2</td>\n",
       "      <td>1</td>\n",
       "      <td>1</td>\n",
       "      <td>0</td>\n",
       "      <td>Dog</td>\n",
       "      <td>0</td>\n",
       "      <td>0</td>\n",
       "    </tr>\n",
       "    <tr>\n",
       "      <th>5571</th>\n",
       "      <td>0.0</td>\n",
       "      <td>1</td>\n",
       "      <td>Maine Coon</td>\n",
       "      <td>Bobtail</td>\n",
       "      <td>1</td>\n",
       "      <td>7</td>\n",
       "      <td>0</td>\n",
       "      <td>training_data</td>\n",
       "      <td>He is a very active and lovable kitten (about ...</td>\n",
       "      <td>1</td>\n",
       "      <td>...</td>\n",
       "      <td>1</td>\n",
       "      <td>3554aa44f8737bf17937be3b8231a79a</td>\n",
       "      <td>41401</td>\n",
       "      <td>2</td>\n",
       "      <td>2</td>\n",
       "      <td>2</td>\n",
       "      <td>2</td>\n",
       "      <td>Cat</td>\n",
       "      <td>0</td>\n",
       "      <td>1</td>\n",
       "    </tr>\n",
       "    <tr>\n",
       "      <th>5781</th>\n",
       "      <td>3.0</td>\n",
       "      <td>30</td>\n",
       "      <td>Tabby</td>\n",
       "      <td>None</td>\n",
       "      <td>3</td>\n",
       "      <td>4</td>\n",
       "      <td>7</td>\n",
       "      <td>training_data</td>\n",
       "      <td>This is Jasper.I have had him for almost 3 yea...</td>\n",
       "      <td>1</td>\n",
       "      <td>...</td>\n",
       "      <td>1</td>\n",
       "      <td>2f9ab0afc00c24daefed36cd88224ffa</td>\n",
       "      <td>41326</td>\n",
       "      <td>1</td>\n",
       "      <td>2</td>\n",
       "      <td>1</td>\n",
       "      <td>0</td>\n",
       "      <td>Cat</td>\n",
       "      <td>0</td>\n",
       "      <td>0</td>\n",
       "    </tr>\n",
       "    <tr>\n",
       "      <th>6007</th>\n",
       "      <td>2.0</td>\n",
       "      <td>48</td>\n",
       "      <td>German Shepherd Dog</td>\n",
       "      <td>None</td>\n",
       "      <td>2</td>\n",
       "      <td>0</td>\n",
       "      <td>0</td>\n",
       "      <td>training_data</td>\n",
       "      <td>Summer's owner, an elderly man passed away rec...</td>\n",
       "      <td>1</td>\n",
       "      <td>...</td>\n",
       "      <td>1</td>\n",
       "      <td>d21f689eab9b3faa1b738ecc836b4b36</td>\n",
       "      <td>41326</td>\n",
       "      <td>2</td>\n",
       "      <td>1</td>\n",
       "      <td>1</td>\n",
       "      <td>0</td>\n",
       "      <td>Dog</td>\n",
       "      <td>0</td>\n",
       "      <td>0</td>\n",
       "    </tr>\n",
       "    <tr>\n",
       "      <th>6712</th>\n",
       "      <td>3.0</td>\n",
       "      <td>30</td>\n",
       "      <td>Tabby</td>\n",
       "      <td>Domestic Medium Hair</td>\n",
       "      <td>5</td>\n",
       "      <td>0</td>\n",
       "      <td>0</td>\n",
       "      <td>training_data</td>\n",
       "      <td>This pet was fostered to me by the owner who w...</td>\n",
       "      <td>1</td>\n",
       "      <td>...</td>\n",
       "      <td>1</td>\n",
       "      <td>a1f1fbe3d5eccf487464c3cc2f4a3df6</td>\n",
       "      <td>41326</td>\n",
       "      <td>1</td>\n",
       "      <td>2</td>\n",
       "      <td>1</td>\n",
       "      <td>0</td>\n",
       "      <td>Cat</td>\n",
       "      <td>0</td>\n",
       "      <td>1</td>\n",
       "    </tr>\n",
       "    <tr>\n",
       "      <th>6899</th>\n",
       "      <td>2.0</td>\n",
       "      <td>3</td>\n",
       "      <td>Mixed Breed</td>\n",
       "      <td>Mixed Breed</td>\n",
       "      <td>2</td>\n",
       "      <td>0</td>\n",
       "      <td>0</td>\n",
       "      <td>training_data</td>\n",
       "      <td>FOR serious adopters only! If you are interest...</td>\n",
       "      <td>1</td>\n",
       "      <td>...</td>\n",
       "      <td>6</td>\n",
       "      <td>3b074cadd2350de62dca7056b9bab6f4</td>\n",
       "      <td>41326</td>\n",
       "      <td>2</td>\n",
       "      <td>1</td>\n",
       "      <td>1</td>\n",
       "      <td>0</td>\n",
       "      <td>Dog</td>\n",
       "      <td>0</td>\n",
       "      <td>1</td>\n",
       "    </tr>\n",
       "    <tr>\n",
       "      <th>7692</th>\n",
       "      <td>2.0</td>\n",
       "      <td>24</td>\n",
       "      <td>Doberman Pinscher</td>\n",
       "      <td>None</td>\n",
       "      <td>2</td>\n",
       "      <td>0</td>\n",
       "      <td>0</td>\n",
       "      <td>training_data</td>\n",
       "      <td>Luca was abandoned by her owner and rescued fr...</td>\n",
       "      <td>1</td>\n",
       "      <td>...</td>\n",
       "      <td>1</td>\n",
       "      <td>aa66486163b6cbc25ea62a34b11c9b91</td>\n",
       "      <td>41326</td>\n",
       "      <td>1</td>\n",
       "      <td>1</td>\n",
       "      <td>1</td>\n",
       "      <td>0</td>\n",
       "      <td>Dog</td>\n",
       "      <td>0</td>\n",
       "      <td>0</td>\n",
       "    </tr>\n",
       "    <tr>\n",
       "      <th>7854</th>\n",
       "      <td>2.0</td>\n",
       "      <td>36</td>\n",
       "      <td>German Shepherd Dog</td>\n",
       "      <td>None</td>\n",
       "      <td>1</td>\n",
       "      <td>2</td>\n",
       "      <td>0</td>\n",
       "      <td>training_data</td>\n",
       "      <td>Lady was found lost in Taman Tun. She is a fri...</td>\n",
       "      <td>3</td>\n",
       "      <td>...</td>\n",
       "      <td>1</td>\n",
       "      <td>aa66486163b6cbc25ea62a34b11c9b91</td>\n",
       "      <td>41326</td>\n",
       "      <td>3</td>\n",
       "      <td>1</td>\n",
       "      <td>3</td>\n",
       "      <td>0</td>\n",
       "      <td>Dog</td>\n",
       "      <td>0</td>\n",
       "      <td>0</td>\n",
       "    </tr>\n",
       "    <tr>\n",
       "      <th>8148</th>\n",
       "      <td>1.0</td>\n",
       "      <td>37</td>\n",
       "      <td>Great Dane</td>\n",
       "      <td>Mixed Breed</td>\n",
       "      <td>1</td>\n",
       "      <td>2</td>\n",
       "      <td>7</td>\n",
       "      <td>training_data</td>\n",
       "      <td>YaabbaaadaabaaaDooooo!!! I look like Scooby Do...</td>\n",
       "      <td>1</td>\n",
       "      <td>...</td>\n",
       "      <td>1</td>\n",
       "      <td>6f40a7acfad5cc0bb3e44591ea446c05</td>\n",
       "      <td>41326</td>\n",
       "      <td>1</td>\n",
       "      <td>1</td>\n",
       "      <td>1</td>\n",
       "      <td>0</td>\n",
       "      <td>Dog</td>\n",
       "      <td>0</td>\n",
       "      <td>1</td>\n",
       "    </tr>\n",
       "    <tr>\n",
       "      <th>8184</th>\n",
       "      <td>0.0</td>\n",
       "      <td>12</td>\n",
       "      <td>Domestic Short Hair</td>\n",
       "      <td>None</td>\n",
       "      <td>1</td>\n",
       "      <td>7</td>\n",
       "      <td>0</td>\n",
       "      <td>training_data</td>\n",
       "      <td>Hi! If you are a Cat Lover &amp; u need a friendly...</td>\n",
       "      <td>1</td>\n",
       "      <td>...</td>\n",
       "      <td>1</td>\n",
       "      <td>1baad21cc721ce5bc2bd13dd4c4ba4f6</td>\n",
       "      <td>41401</td>\n",
       "      <td>1</td>\n",
       "      <td>2</td>\n",
       "      <td>1</td>\n",
       "      <td>0</td>\n",
       "      <td>Cat</td>\n",
       "      <td>0</td>\n",
       "      <td>1</td>\n",
       "    </tr>\n",
       "    <tr>\n",
       "      <th>8316</th>\n",
       "      <td>2.0</td>\n",
       "      <td>24</td>\n",
       "      <td>Rottweiler</td>\n",
       "      <td>None</td>\n",
       "      <td>1</td>\n",
       "      <td>0</td>\n",
       "      <td>0</td>\n",
       "      <td>training_data</td>\n",
       "      <td>Brian is a rescued Rottie. Brian has good temp...</td>\n",
       "      <td>1</td>\n",
       "      <td>...</td>\n",
       "      <td>1</td>\n",
       "      <td>583c3f4646373188b58dc42ca653eec5</td>\n",
       "      <td>41330</td>\n",
       "      <td>1</td>\n",
       "      <td>1</td>\n",
       "      <td>1</td>\n",
       "      <td>0</td>\n",
       "      <td>Dog</td>\n",
       "      <td>0</td>\n",
       "      <td>0</td>\n",
       "    </tr>\n",
       "    <tr>\n",
       "      <th>8381</th>\n",
       "      <td>3.0</td>\n",
       "      <td>2</td>\n",
       "      <td>Belgian Shepherd Malinois</td>\n",
       "      <td>Mixed Breed</td>\n",
       "      <td>1</td>\n",
       "      <td>2</td>\n",
       "      <td>0</td>\n",
       "      <td>training_data</td>\n",
       "      <td>Healthy and adorable puppy looking for a foeve...</td>\n",
       "      <td>1</td>\n",
       "      <td>...</td>\n",
       "      <td>1</td>\n",
       "      <td>fa90fa5b1ee11c86938398b60abc32cb</td>\n",
       "      <td>41326</td>\n",
       "      <td>2</td>\n",
       "      <td>1</td>\n",
       "      <td>1</td>\n",
       "      <td>0</td>\n",
       "      <td>Dog</td>\n",
       "      <td>0</td>\n",
       "      <td>1</td>\n",
       "    </tr>\n",
       "    <tr>\n",
       "      <th>8457</th>\n",
       "      <td>3.0</td>\n",
       "      <td>36</td>\n",
       "      <td>Norwegian Forest Cat</td>\n",
       "      <td>Domestic Long Hair</td>\n",
       "      <td>1</td>\n",
       "      <td>2</td>\n",
       "      <td>0</td>\n",
       "      <td>training_data</td>\n",
       "      <td>This is an unseparable Yin Yang twin.The darke...</td>\n",
       "      <td>1</td>\n",
       "      <td>...</td>\n",
       "      <td>2</td>\n",
       "      <td>0da7e531122f0b230973130fab2e076f</td>\n",
       "      <td>41326</td>\n",
       "      <td>1</td>\n",
       "      <td>2</td>\n",
       "      <td>1</td>\n",
       "      <td>0</td>\n",
       "      <td>Cat</td>\n",
       "      <td>0</td>\n",
       "      <td>1</td>\n",
       "    </tr>\n",
       "    <tr>\n",
       "      <th>8754</th>\n",
       "      <td>3.0</td>\n",
       "      <td>84</td>\n",
       "      <td>German Shepherd Dog</td>\n",
       "      <td>None</td>\n",
       "      <td>1</td>\n",
       "      <td>2</td>\n",
       "      <td>0</td>\n",
       "      <td>training_data</td>\n",
       "      <td>7 year old German Shepherd is looking for a ho...</td>\n",
       "      <td>1</td>\n",
       "      <td>...</td>\n",
       "      <td>1</td>\n",
       "      <td>88a21c30883ab70a93e09035e0a9a754</td>\n",
       "      <td>41326</td>\n",
       "      <td>2</td>\n",
       "      <td>1</td>\n",
       "      <td>1</td>\n",
       "      <td>0</td>\n",
       "      <td>Dog</td>\n",
       "      <td>0</td>\n",
       "      <td>0</td>\n",
       "    </tr>\n",
       "    <tr>\n",
       "      <th>9707</th>\n",
       "      <td>4.0</td>\n",
       "      <td>28</td>\n",
       "      <td>Maine Coon</td>\n",
       "      <td>None</td>\n",
       "      <td>4</td>\n",
       "      <td>6</td>\n",
       "      <td>7</td>\n",
       "      <td>training_data</td>\n",
       "      <td>My beautiful boy &amp; girl are really playful and...</td>\n",
       "      <td>1</td>\n",
       "      <td>...</td>\n",
       "      <td>2</td>\n",
       "      <td>e166ba56435e4b61917bf3472027d266</td>\n",
       "      <td>41342</td>\n",
       "      <td>2</td>\n",
       "      <td>2</td>\n",
       "      <td>1</td>\n",
       "      <td>0</td>\n",
       "      <td>Cat</td>\n",
       "      <td>0</td>\n",
       "      <td>0</td>\n",
       "    </tr>\n",
       "    <tr>\n",
       "      <th>10413</th>\n",
       "      <td>2.0</td>\n",
       "      <td>7</td>\n",
       "      <td>Husky</td>\n",
       "      <td>None</td>\n",
       "      <td>6</td>\n",
       "      <td>7</td>\n",
       "      <td>0</td>\n",
       "      <td>training_data</td>\n",
       "      <td>healthy husky looking for new owner previous w...</td>\n",
       "      <td>1</td>\n",
       "      <td>...</td>\n",
       "      <td>1</td>\n",
       "      <td>eea6701183b241e5a8e429c3b7e3831a</td>\n",
       "      <td>41326</td>\n",
       "      <td>3</td>\n",
       "      <td>1</td>\n",
       "      <td>1</td>\n",
       "      <td>0</td>\n",
       "      <td>Dog</td>\n",
       "      <td>0</td>\n",
       "      <td>0</td>\n",
       "    </tr>\n",
       "    <tr>\n",
       "      <th>10737</th>\n",
       "      <td>2.0</td>\n",
       "      <td>120</td>\n",
       "      <td>German Shepherd Dog</td>\n",
       "      <td>None</td>\n",
       "      <td>1</td>\n",
       "      <td>2</td>\n",
       "      <td>0</td>\n",
       "      <td>training_data</td>\n",
       "      <td>Pony was nicknamed due to his large size that ...</td>\n",
       "      <td>3</td>\n",
       "      <td>...</td>\n",
       "      <td>1</td>\n",
       "      <td>aa66486163b6cbc25ea62a34b11c9b91</td>\n",
       "      <td>41326</td>\n",
       "      <td>2</td>\n",
       "      <td>1</td>\n",
       "      <td>3</td>\n",
       "      <td>0</td>\n",
       "      <td>Dog</td>\n",
       "      <td>0</td>\n",
       "      <td>0</td>\n",
       "    </tr>\n",
       "    <tr>\n",
       "      <th>11262</th>\n",
       "      <td>1.0</td>\n",
       "      <td>24</td>\n",
       "      <td>Persian</td>\n",
       "      <td>None</td>\n",
       "      <td>4</td>\n",
       "      <td>0</td>\n",
       "      <td>0</td>\n",
       "      <td>training_data</td>\n",
       "      <td>Zuba is 2 yrs old. Male, neutered. He is a ver...</td>\n",
       "      <td>1</td>\n",
       "      <td>...</td>\n",
       "      <td>1</td>\n",
       "      <td>001e42763024f9d4abe31e79472b1827</td>\n",
       "      <td>41326</td>\n",
       "      <td>1</td>\n",
       "      <td>2</td>\n",
       "      <td>1</td>\n",
       "      <td>0</td>\n",
       "      <td>Cat</td>\n",
       "      <td>0</td>\n",
       "      <td>0</td>\n",
       "    </tr>\n",
       "    <tr>\n",
       "      <th>11338</th>\n",
       "      <td>1.0</td>\n",
       "      <td>24</td>\n",
       "      <td>Rottweiler</td>\n",
       "      <td>None</td>\n",
       "      <td>1</td>\n",
       "      <td>2</td>\n",
       "      <td>0</td>\n",
       "      <td>training_data</td>\n",
       "      <td>Pure breed Rottweiler rescued fr breeder. Alrd...</td>\n",
       "      <td>1</td>\n",
       "      <td>...</td>\n",
       "      <td>1</td>\n",
       "      <td>fa90fa5b1ee11c86938398b60abc32cb</td>\n",
       "      <td>41326</td>\n",
       "      <td>1</td>\n",
       "      <td>1</td>\n",
       "      <td>1</td>\n",
       "      <td>0</td>\n",
       "      <td>Dog</td>\n",
       "      <td>0</td>\n",
       "      <td>0</td>\n",
       "    </tr>\n",
       "    <tr>\n",
       "      <th>11745</th>\n",
       "      <td>1.0</td>\n",
       "      <td>3</td>\n",
       "      <td>Belgian Shepherd Malinois</td>\n",
       "      <td>None</td>\n",
       "      <td>2</td>\n",
       "      <td>0</td>\n",
       "      <td>0</td>\n",
       "      <td>training_data</td>\n",
       "      <td>Pure breed German Shepherd puppy up for adopti...</td>\n",
       "      <td>3</td>\n",
       "      <td>...</td>\n",
       "      <td>1</td>\n",
       "      <td>d581d43be85c983e9b95a2eaaf0d7a8d</td>\n",
       "      <td>41336</td>\n",
       "      <td>2</td>\n",
       "      <td>1</td>\n",
       "      <td>1</td>\n",
       "      <td>0</td>\n",
       "      <td>Dog</td>\n",
       "      <td>0</td>\n",
       "      <td>0</td>\n",
       "    </tr>\n",
       "    <tr>\n",
       "      <th>11854</th>\n",
       "      <td>3.0</td>\n",
       "      <td>24</td>\n",
       "      <td>Mixed Breed</td>\n",
       "      <td>None</td>\n",
       "      <td>1</td>\n",
       "      <td>0</td>\n",
       "      <td>0</td>\n",
       "      <td>training_data</td>\n",
       "      <td>Please Take Me Home! I am adorable, playful, s...</td>\n",
       "      <td>3</td>\n",
       "      <td>...</td>\n",
       "      <td>1</td>\n",
       "      <td>5a8f57e5d539293689e9b7514fdbf3dc</td>\n",
       "      <td>41401</td>\n",
       "      <td>3</td>\n",
       "      <td>1</td>\n",
       "      <td>3</td>\n",
       "      <td>0</td>\n",
       "      <td>Dog</td>\n",
       "      <td>0</td>\n",
       "      <td>1</td>\n",
       "    </tr>\n",
       "    <tr>\n",
       "      <th>12366</th>\n",
       "      <td>3.0</td>\n",
       "      <td>24</td>\n",
       "      <td>Siamese</td>\n",
       "      <td>None</td>\n",
       "      <td>1</td>\n",
       "      <td>7</td>\n",
       "      <td>0</td>\n",
       "      <td>training_data</td>\n",
       "      <td>Tom: Male, 2 years old, Siamese Breed, Born in...</td>\n",
       "      <td>1</td>\n",
       "      <td>...</td>\n",
       "      <td>1</td>\n",
       "      <td>c6f77cef8408090fe952cd88d01be7d4</td>\n",
       "      <td>41326</td>\n",
       "      <td>2</td>\n",
       "      <td>2</td>\n",
       "      <td>1</td>\n",
       "      <td>0</td>\n",
       "      <td>Cat</td>\n",
       "      <td>0</td>\n",
       "      <td>0</td>\n",
       "    </tr>\n",
       "    <tr>\n",
       "      <th>13618</th>\n",
       "      <td>4.0</td>\n",
       "      <td>60</td>\n",
       "      <td>Tabby</td>\n",
       "      <td>None</td>\n",
       "      <td>1</td>\n",
       "      <td>2</td>\n",
       "      <td>5</td>\n",
       "      <td>training_data</td>\n",
       "      <td>Garcia is my second oldest and a big boy. Hes ...</td>\n",
       "      <td>1</td>\n",
       "      <td>...</td>\n",
       "      <td>3</td>\n",
       "      <td>4f7b591fb04c1ee856472ca07e1dcbcf</td>\n",
       "      <td>41401</td>\n",
       "      <td>1</td>\n",
       "      <td>2</td>\n",
       "      <td>1</td>\n",
       "      <td>0</td>\n",
       "      <td>Cat</td>\n",
       "      <td>0</td>\n",
       "      <td>0</td>\n",
       "    </tr>\n",
       "    <tr>\n",
       "      <th>14005</th>\n",
       "      <td>1.0</td>\n",
       "      <td>3</td>\n",
       "      <td>Saint Bernard</td>\n",
       "      <td>None</td>\n",
       "      <td>1</td>\n",
       "      <td>7</td>\n",
       "      <td>0</td>\n",
       "      <td>training_data</td>\n",
       "      <td>Someone dropped off this mix Saint Bernard to ...</td>\n",
       "      <td>2</td>\n",
       "      <td>...</td>\n",
       "      <td>1</td>\n",
       "      <td>9e998c258ac0e00e14278682389220b6</td>\n",
       "      <td>41324</td>\n",
       "      <td>2</td>\n",
       "      <td>1</td>\n",
       "      <td>1</td>\n",
       "      <td>0</td>\n",
       "      <td>Dog</td>\n",
       "      <td>0</td>\n",
       "      <td>0</td>\n",
       "    </tr>\n",
       "    <tr>\n",
       "      <th>14043</th>\n",
       "      <td>4.0</td>\n",
       "      <td>96</td>\n",
       "      <td>Russian Blue</td>\n",
       "      <td>None</td>\n",
       "      <td>6</td>\n",
       "      <td>0</td>\n",
       "      <td>0</td>\n",
       "      <td>training_data</td>\n",
       "      <td>Russia is such an affectionate female cat with...</td>\n",
       "      <td>1</td>\n",
       "      <td>...</td>\n",
       "      <td>3</td>\n",
       "      <td>4f7b591fb04c1ee856472ca07e1dcbcf</td>\n",
       "      <td>41401</td>\n",
       "      <td>1</td>\n",
       "      <td>2</td>\n",
       "      <td>1</td>\n",
       "      <td>0</td>\n",
       "      <td>Cat</td>\n",
       "      <td>0</td>\n",
       "      <td>0</td>\n",
       "    </tr>\n",
       "    <tr>\n",
       "      <th>353</th>\n",
       "      <td>NaN</td>\n",
       "      <td>36</td>\n",
       "      <td>Saint Bernard</td>\n",
       "      <td>None</td>\n",
       "      <td>1</td>\n",
       "      <td>2</td>\n",
       "      <td>7</td>\n",
       "      <td>testing_data</td>\n",
       "      <td>JILL will be at our adoption fair On Saturday ...</td>\n",
       "      <td>1</td>\n",
       "      <td>...</td>\n",
       "      <td>1</td>\n",
       "      <td>0b19581048b55d65caa01d1d62b93330</td>\n",
       "      <td>41326</td>\n",
       "      <td>3</td>\n",
       "      <td>1</td>\n",
       "      <td>1</td>\n",
       "      <td>0</td>\n",
       "      <td>Dog</td>\n",
       "      <td>0</td>\n",
       "      <td>0</td>\n",
       "    </tr>\n",
       "    <tr>\n",
       "      <th>1039</th>\n",
       "      <td>NaN</td>\n",
       "      <td>8</td>\n",
       "      <td>Fila Brasileiro</td>\n",
       "      <td>None</td>\n",
       "      <td>1</td>\n",
       "      <td>2</td>\n",
       "      <td>0</td>\n",
       "      <td>testing_data</td>\n",
       "      <td>this puppy was recommend by a online friend. h...</td>\n",
       "      <td>1</td>\n",
       "      <td>...</td>\n",
       "      <td>1</td>\n",
       "      <td>9085ff00410772a37e833c938da985d9</td>\n",
       "      <td>41336</td>\n",
       "      <td>2</td>\n",
       "      <td>1</td>\n",
       "      <td>1</td>\n",
       "      <td>0</td>\n",
       "      <td>Dog</td>\n",
       "      <td>0</td>\n",
       "      <td>0</td>\n",
       "    </tr>\n",
       "    <tr>\n",
       "      <th>1058</th>\n",
       "      <td>NaN</td>\n",
       "      <td>41</td>\n",
       "      <td>Afghan Hound</td>\n",
       "      <td>None</td>\n",
       "      <td>1</td>\n",
       "      <td>5</td>\n",
       "      <td>0</td>\n",
       "      <td>testing_data</td>\n",
       "      <td>As stated in the picture, adopter has to spend...</td>\n",
       "      <td>1</td>\n",
       "      <td>...</td>\n",
       "      <td>1</td>\n",
       "      <td>708ed498975f2e10a1cd39ad4d962797</td>\n",
       "      <td>41326</td>\n",
       "      <td>1</td>\n",
       "      <td>1</td>\n",
       "      <td>1</td>\n",
       "      <td>0</td>\n",
       "      <td>Dog</td>\n",
       "      <td>0</td>\n",
       "      <td>0</td>\n",
       "    </tr>\n",
       "    <tr>\n",
       "      <th>2308</th>\n",
       "      <td>NaN</td>\n",
       "      <td>36</td>\n",
       "      <td>Domestic Short Hair</td>\n",
       "      <td>None</td>\n",
       "      <td>1</td>\n",
       "      <td>6</td>\n",
       "      <td>7</td>\n",
       "      <td>testing_data</td>\n",
       "      <td>Boo Yah was rescued with his twin brother by m...</td>\n",
       "      <td>1</td>\n",
       "      <td>...</td>\n",
       "      <td>1</td>\n",
       "      <td>bdd8df630215126d2e0ad2e5a678ee5b</td>\n",
       "      <td>41401</td>\n",
       "      <td>1</td>\n",
       "      <td>2</td>\n",
       "      <td>1</td>\n",
       "      <td>0</td>\n",
       "      <td>Cat</td>\n",
       "      <td>0</td>\n",
       "      <td>1</td>\n",
       "    </tr>\n",
       "    <tr>\n",
       "      <th>3182</th>\n",
       "      <td>NaN</td>\n",
       "      <td>62</td>\n",
       "      <td>Golden Retriever</td>\n",
       "      <td>None</td>\n",
       "      <td>3</td>\n",
       "      <td>0</td>\n",
       "      <td>0</td>\n",
       "      <td>testing_data</td>\n",
       "      <td>- Miley very friendly and playful. - Adopted M...</td>\n",
       "      <td>3</td>\n",
       "      <td>...</td>\n",
       "      <td>1</td>\n",
       "      <td>3fbfcf5408cfe6da2ec370c74470b0e2</td>\n",
       "      <td>41326</td>\n",
       "      <td>2</td>\n",
       "      <td>1</td>\n",
       "      <td>3</td>\n",
       "      <td>0</td>\n",
       "      <td>Dog</td>\n",
       "      <td>0</td>\n",
       "      <td>0</td>\n",
       "    </tr>\n",
       "    <tr>\n",
       "      <th>3731</th>\n",
       "      <td>NaN</td>\n",
       "      <td>6</td>\n",
       "      <td>German Shepherd Dog</td>\n",
       "      <td>Bullmastiff</td>\n",
       "      <td>1</td>\n",
       "      <td>3</td>\n",
       "      <td>0</td>\n",
       "      <td>testing_data</td>\n",
       "      <td>I rescued this puppy when it was only 6 days o...</td>\n",
       "      <td>1</td>\n",
       "      <td>...</td>\n",
       "      <td>1</td>\n",
       "      <td>8cc45900aaf8c4d4998c22a3ab0cc9b0</td>\n",
       "      <td>41345</td>\n",
       "      <td>2</td>\n",
       "      <td>1</td>\n",
       "      <td>2</td>\n",
       "      <td>0</td>\n",
       "      <td>Dog</td>\n",
       "      <td>0</td>\n",
       "      <td>1</td>\n",
       "    </tr>\n",
       "    <tr>\n",
       "      <th>3836</th>\n",
       "      <td>NaN</td>\n",
       "      <td>63</td>\n",
       "      <td>Great Pyrenees</td>\n",
       "      <td>None</td>\n",
       "      <td>7</td>\n",
       "      <td>0</td>\n",
       "      <td>0</td>\n",
       "      <td>testing_data</td>\n",
       "      <td>It's really hard to let him go, and that's why...</td>\n",
       "      <td>1</td>\n",
       "      <td>...</td>\n",
       "      <td>1</td>\n",
       "      <td>5effdf06b082cdfd4eb1378c42764811</td>\n",
       "      <td>41326</td>\n",
       "      <td>2</td>\n",
       "      <td>1</td>\n",
       "      <td>1</td>\n",
       "      <td>1</td>\n",
       "      <td>Dog</td>\n",
       "      <td>0</td>\n",
       "      <td>0</td>\n",
       "    </tr>\n",
       "  </tbody>\n",
       "</table>\n",
       "<p>40 rows × 28 columns</p>\n",
       "</div>"
      ],
      "text/plain": [
       "       AdoptionSpeed  Age                     Breed1                Breed2  \\\n",
       "1265             1.0   12                 Great Dane                  None   \n",
       "1899             2.0   36                Bullmastiff            Rottweiler   \n",
       "2461             2.0   36              Saint Bernard                  None   \n",
       "2514             2.0    4        Domestic Short Hair                  None   \n",
       "2523             3.0   72                 Rottweiler                  None   \n",
       "2738             1.0   18                 Rottweiler                  None   \n",
       "3157             3.0   36           Golden Retriever           Mixed Breed   \n",
       "3558             2.0   13          Doberman Pinscher                  None   \n",
       "4706             3.0   12                 Great Dane                  None   \n",
       "5571             0.0    1                 Maine Coon               Bobtail   \n",
       "5781             3.0   30                      Tabby                  None   \n",
       "6007             2.0   48        German Shepherd Dog                  None   \n",
       "6712             3.0   30                      Tabby  Domestic Medium Hair   \n",
       "6899             2.0    3                Mixed Breed           Mixed Breed   \n",
       "7692             2.0   24          Doberman Pinscher                  None   \n",
       "7854             2.0   36        German Shepherd Dog                  None   \n",
       "8148             1.0   37                 Great Dane           Mixed Breed   \n",
       "8184             0.0   12        Domestic Short Hair                  None   \n",
       "8316             2.0   24                 Rottweiler                  None   \n",
       "8381             3.0    2  Belgian Shepherd Malinois           Mixed Breed   \n",
       "8457             3.0   36       Norwegian Forest Cat    Domestic Long Hair   \n",
       "8754             3.0   84        German Shepherd Dog                  None   \n",
       "9707             4.0   28                 Maine Coon                  None   \n",
       "10413            2.0    7                      Husky                  None   \n",
       "10737            2.0  120        German Shepherd Dog                  None   \n",
       "11262            1.0   24                    Persian                  None   \n",
       "11338            1.0   24                 Rottweiler                  None   \n",
       "11745            1.0    3  Belgian Shepherd Malinois                  None   \n",
       "11854            3.0   24                Mixed Breed                  None   \n",
       "12366            3.0   24                    Siamese                  None   \n",
       "13618            4.0   60                      Tabby                  None   \n",
       "14005            1.0    3              Saint Bernard                  None   \n",
       "14043            4.0   96               Russian Blue                  None   \n",
       "353              NaN   36              Saint Bernard                  None   \n",
       "1039             NaN    8            Fila Brasileiro                  None   \n",
       "1058             NaN   41               Afghan Hound                  None   \n",
       "2308             NaN   36        Domestic Short Hair                  None   \n",
       "3182             NaN   62           Golden Retriever                  None   \n",
       "3731             NaN    6        German Shepherd Dog           Bullmastiff   \n",
       "3836             NaN   63             Great Pyrenees                  None   \n",
       "\n",
       "       Color1  Color2  Color3       DataType  \\\n",
       "1265        1       0       0  training_data   \n",
       "1899        1       2       0  training_data   \n",
       "2461        1       2       7  training_data   \n",
       "2514        1       6       0  training_data   \n",
       "2523        1       2       0  training_data   \n",
       "2738        1       2       0  training_data   \n",
       "3157        3       0       0  training_data   \n",
       "3558        1       2       0  training_data   \n",
       "4706        1       0       0  training_data   \n",
       "5571        1       7       0  training_data   \n",
       "5781        3       4       7  training_data   \n",
       "6007        2       0       0  training_data   \n",
       "6712        5       0       0  training_data   \n",
       "6899        2       0       0  training_data   \n",
       "7692        2       0       0  training_data   \n",
       "7854        1       2       0  training_data   \n",
       "8148        1       2       7  training_data   \n",
       "8184        1       7       0  training_data   \n",
       "8316        1       0       0  training_data   \n",
       "8381        1       2       0  training_data   \n",
       "8457        1       2       0  training_data   \n",
       "8754        1       2       0  training_data   \n",
       "9707        4       6       7  training_data   \n",
       "10413       6       7       0  training_data   \n",
       "10737       1       2       0  training_data   \n",
       "11262       4       0       0  training_data   \n",
       "11338       1       2       0  training_data   \n",
       "11745       2       0       0  training_data   \n",
       "11854       1       0       0  training_data   \n",
       "12366       1       7       0  training_data   \n",
       "13618       1       2       5  training_data   \n",
       "14005       1       7       0  training_data   \n",
       "14043       6       0       0  training_data   \n",
       "353         1       2       7   testing_data   \n",
       "1039        1       2       0   testing_data   \n",
       "1058        1       5       0   testing_data   \n",
       "2308        1       6       7   testing_data   \n",
       "3182        3       0       0   testing_data   \n",
       "3731        1       3       0   testing_data   \n",
       "3836        7       0       0   testing_data   \n",
       "\n",
       "                                             Description  Dewormed    ...      \\\n",
       "1265                   Oreo Female Great Dane 1 year old         1    ...       \n",
       "1899   Ali (named after the boxer Mohammad Ali) has a...         1    ...       \n",
       "2461   Owner bought him from a pet shop and was told ...         1    ...       \n",
       "2514                                                   -         2    ...       \n",
       "2523   Rotti girl with MKA certificate looking for a ...         3    ...       \n",
       "2738   Pure breed Rottweiler rescued fr breeder. Alre...         1    ...       \n",
       "3157   Owner cannot keep him anymore due to council r...         1    ...       \n",
       "3558   He is very playful, alert, energetic, smart an...         1    ...       \n",
       "4706   She is a pure Great Dane. Black in colour. I a...         1    ...       \n",
       "5571   He is a very active and lovable kitten (about ...         1    ...       \n",
       "5781   This is Jasper.I have had him for almost 3 yea...         1    ...       \n",
       "6007   Summer's owner, an elderly man passed away rec...         1    ...       \n",
       "6712   This pet was fostered to me by the owner who w...         1    ...       \n",
       "6899   FOR serious adopters only! If you are interest...         1    ...       \n",
       "7692   Luca was abandoned by her owner and rescued fr...         1    ...       \n",
       "7854   Lady was found lost in Taman Tun. She is a fri...         3    ...       \n",
       "8148   YaabbaaadaabaaaDooooo!!! I look like Scooby Do...         1    ...       \n",
       "8184   Hi! If you are a Cat Lover & u need a friendly...         1    ...       \n",
       "8316   Brian is a rescued Rottie. Brian has good temp...         1    ...       \n",
       "8381   Healthy and adorable puppy looking for a foeve...         1    ...       \n",
       "8457   This is an unseparable Yin Yang twin.The darke...         1    ...       \n",
       "8754   7 year old German Shepherd is looking for a ho...         1    ...       \n",
       "9707   My beautiful boy & girl are really playful and...         1    ...       \n",
       "10413  healthy husky looking for new owner previous w...         1    ...       \n",
       "10737  Pony was nicknamed due to his large size that ...         3    ...       \n",
       "11262  Zuba is 2 yrs old. Male, neutered. He is a ver...         1    ...       \n",
       "11338  Pure breed Rottweiler rescued fr breeder. Alrd...         1    ...       \n",
       "11745  Pure breed German Shepherd puppy up for adopti...         3    ...       \n",
       "11854  Please Take Me Home! I am adorable, playful, s...         3    ...       \n",
       "12366  Tom: Male, 2 years old, Siamese Breed, Born in...         1    ...       \n",
       "13618  Garcia is my second oldest and a big boy. Hes ...         1    ...       \n",
       "14005  Someone dropped off this mix Saint Bernard to ...         2    ...       \n",
       "14043  Russia is such an affectionate female cat with...         1    ...       \n",
       "353    JILL will be at our adoption fair On Saturday ...         1    ...       \n",
       "1039   this puppy was recommend by a online friend. h...         1    ...       \n",
       "1058   As stated in the picture, adopter has to spend...         1    ...       \n",
       "2308   Boo Yah was rescued with his twin brother by m...         1    ...       \n",
       "3182   - Miley very friendly and playful. - Adopted M...         3    ...       \n",
       "3731   I rescued this puppy when it was only 6 days o...         1    ...       \n",
       "3836   It's really hard to let him go, and that's why...         1    ...       \n",
       "\n",
       "       Quantity                         RescuerID  State  Sterilized  Type  \\\n",
       "1265          1  b3b9d092e0cced7bb066e65e6793f527  41326           1     1   \n",
       "1899          1  aa66486163b6cbc25ea62a34b11c9b91  41326           2     1   \n",
       "2461          1  fa90fa5b1ee11c86938398b60abc32cb  41326           2     1   \n",
       "2514          1  5be13320d12dc6478d94268d6e103e56  41401           2     2   \n",
       "2523          1  fa90fa5b1ee11c86938398b60abc32cb  41326           1     1   \n",
       "2738          1  fa90fa5b1ee11c86938398b60abc32cb  41326           1     1   \n",
       "3157          1  fa90fa5b1ee11c86938398b60abc32cb  41326           1     1   \n",
       "3558          1  ac8608c9cc3c828c4b5a44a7e6002cbe  41326           2     1   \n",
       "4706          1  64cab7e12961c2929700559615bc8488  41401           2     1   \n",
       "5571          1  3554aa44f8737bf17937be3b8231a79a  41401           2     2   \n",
       "5781          1  2f9ab0afc00c24daefed36cd88224ffa  41326           1     2   \n",
       "6007          1  d21f689eab9b3faa1b738ecc836b4b36  41326           2     1   \n",
       "6712          1  a1f1fbe3d5eccf487464c3cc2f4a3df6  41326           1     2   \n",
       "6899          6  3b074cadd2350de62dca7056b9bab6f4  41326           2     1   \n",
       "7692          1  aa66486163b6cbc25ea62a34b11c9b91  41326           1     1   \n",
       "7854          1  aa66486163b6cbc25ea62a34b11c9b91  41326           3     1   \n",
       "8148          1  6f40a7acfad5cc0bb3e44591ea446c05  41326           1     1   \n",
       "8184          1  1baad21cc721ce5bc2bd13dd4c4ba4f6  41401           1     2   \n",
       "8316          1  583c3f4646373188b58dc42ca653eec5  41330           1     1   \n",
       "8381          1  fa90fa5b1ee11c86938398b60abc32cb  41326           2     1   \n",
       "8457          2  0da7e531122f0b230973130fab2e076f  41326           1     2   \n",
       "8754          1  88a21c30883ab70a93e09035e0a9a754  41326           2     1   \n",
       "9707          2  e166ba56435e4b61917bf3472027d266  41342           2     2   \n",
       "10413         1  eea6701183b241e5a8e429c3b7e3831a  41326           3     1   \n",
       "10737         1  aa66486163b6cbc25ea62a34b11c9b91  41326           2     1   \n",
       "11262         1  001e42763024f9d4abe31e79472b1827  41326           1     2   \n",
       "11338         1  fa90fa5b1ee11c86938398b60abc32cb  41326           1     1   \n",
       "11745         1  d581d43be85c983e9b95a2eaaf0d7a8d  41336           2     1   \n",
       "11854         1  5a8f57e5d539293689e9b7514fdbf3dc  41401           3     1   \n",
       "12366         1  c6f77cef8408090fe952cd88d01be7d4  41326           2     2   \n",
       "13618         3  4f7b591fb04c1ee856472ca07e1dcbcf  41401           1     2   \n",
       "14005         1  9e998c258ac0e00e14278682389220b6  41324           2     1   \n",
       "14043         3  4f7b591fb04c1ee856472ca07e1dcbcf  41401           1     2   \n",
       "353           1  0b19581048b55d65caa01d1d62b93330  41326           3     1   \n",
       "1039          1  9085ff00410772a37e833c938da985d9  41336           2     1   \n",
       "1058          1  708ed498975f2e10a1cd39ad4d962797  41326           1     1   \n",
       "2308          1  bdd8df630215126d2e0ad2e5a678ee5b  41401           1     2   \n",
       "3182          1  3fbfcf5408cfe6da2ec370c74470b0e2  41326           2     1   \n",
       "3731          1  8cc45900aaf8c4d4998c22a3ab0cc9b0  41345           2     1   \n",
       "3836          1  5effdf06b082cdfd4eb1378c42764811  41326           2     1   \n",
       "\n",
       "      Vaccinated VideoAmt  Animal_Type  Unnamed MixedBreed  \n",
       "1265           1        0          Dog        0          0  \n",
       "1899           1        0          Dog        0          1  \n",
       "2461           1        0          Dog        0          0  \n",
       "2514           2        0          Cat        1          1  \n",
       "2523           3        0          Dog        0          0  \n",
       "2738           1        0          Dog        0          0  \n",
       "3157           1        0          Dog        0          1  \n",
       "3558           1        0          Dog        0          0  \n",
       "4706           1        0          Dog        0          0  \n",
       "5571           2        2          Cat        0          1  \n",
       "5781           1        0          Cat        0          0  \n",
       "6007           1        0          Dog        0          0  \n",
       "6712           1        0          Cat        0          1  \n",
       "6899           1        0          Dog        0          1  \n",
       "7692           1        0          Dog        0          0  \n",
       "7854           3        0          Dog        0          0  \n",
       "8148           1        0          Dog        0          1  \n",
       "8184           1        0          Cat        0          1  \n",
       "8316           1        0          Dog        0          0  \n",
       "8381           1        0          Dog        0          1  \n",
       "8457           1        0          Cat        0          1  \n",
       "8754           1        0          Dog        0          0  \n",
       "9707           1        0          Cat        0          0  \n",
       "10413          1        0          Dog        0          0  \n",
       "10737          3        0          Dog        0          0  \n",
       "11262          1        0          Cat        0          0  \n",
       "11338          1        0          Dog        0          0  \n",
       "11745          1        0          Dog        0          0  \n",
       "11854          3        0          Dog        0          1  \n",
       "12366          1        0          Cat        0          0  \n",
       "13618          1        0          Cat        0          0  \n",
       "14005          1        0          Dog        0          0  \n",
       "14043          1        0          Cat        0          0  \n",
       "353            1        0          Dog        0          0  \n",
       "1039           1        0          Dog        0          0  \n",
       "1058           1        0          Dog        0          0  \n",
       "2308           1        0          Cat        0          1  \n",
       "3182           3        0          Dog        0          0  \n",
       "3731           2        0          Dog        0          1  \n",
       "3836           1        1          Dog        0          0  \n",
       "\n",
       "[40 rows x 28 columns]"
      ]
     },
     "execution_count": 34,
     "metadata": {},
     "output_type": "execute_result"
    }
   ],
   "source": [
    "all_data[all_data[\"MaturitySize\"] == 4]"
   ]
  },
  {
   "cell_type": "markdown",
   "metadata": {},
   "source": [
    "I just saw that for same cases we have NaN's for the adoption speed, which is a problem. Do we rather set it as a 4? Or the average adoption speed?\n",
    "I'll check how many cases have NaN's before I decide anything."
   ]
  },
  {
   "cell_type": "code",
   "execution_count": 53,
   "metadata": {},
   "outputs": [
    {
     "name": "stdout",
     "output_type": "stream",
     "text": [
      "26.332288401253916\n"
     ]
    }
   ],
   "source": [
    "print(((len(all_data) - all_data[\"AdoptionSpeed\"].count())/all_data[\"AdoptionSpeed\"].count())*100)"
   ]
  },
  {
   "cell_type": "markdown",
   "metadata": {},
   "source": [
    "So 26% of our adoption speeds are nulls. What I'm going to do is train the model on 3 cases: 1) Fill NaN with highest adoption speed. 2) Drop NaN records 3) Fill in the average adoptionspeed"
   ]
  },
  {
   "cell_type": "code",
   "execution_count": null,
   "metadata": {},
   "outputs": [],
   "source": []
  },
  {
   "cell_type": "code",
   "execution_count": 43,
   "metadata": {},
   "outputs": [
    {
     "data": {
      "text/plain": [
       "Text(0.5,1,'Adoption Speed for Dogs and Cats based on Age in months')"
      ]
     },
     "execution_count": 43,
     "metadata": {},
     "output_type": "execute_result"
    },
    {
     "data": {
      "text/plain": [
       "<Figure size 720x432 with 0 Axes>"
      ]
     },
     "metadata": {},
     "output_type": "display_data"
    },
    {
     "data": {
      "image/png": "[encoded data removed]",
      "text/plain": [
       "<Figure size 405.725x360 with 1 Axes>"
      ]
     },
     "metadata": {},
     "output_type": "display_data"
    }
   ],
   "source": [
    "plt.figure(figsize=(10, 6));\n",
    "train[\"AgeInYears\"] = train[\"Age\"]/12\n",
    "sns.catplot(x=\"AdoptionSpeed\", y=\"AgeInYears\", hue=\"Type\", data=train, kind=\"violin\")\n",
    "ax.set_title(\"Adoption Speed for Dogs and Cats based on Age in months\")"
   ]
  },
  {
   "cell_type": "code",
   "execution_count": 44,
   "metadata": {},
   "outputs": [
    {
     "data": {
      "text/plain": [
       "<seaborn.axisgrid.FacetGrid at 0x18ac24f3978>"
      ]
     },
     "execution_count": 44,
     "metadata": {},
     "output_type": "execute_result"
    },
    {
     "data": {
      "image/png": "[encoded data removed]",
      "text/plain": [
       "<Figure size 438.3x360 with 1 Axes>"
      ]
     },
     "metadata": {},
     "output_type": "display_data"
    }
   ],
   "source": [
    "sns.catplot(x=\"MaturitySize\", hue=\"AdoptionSpeed\", data=dogs, kind=\"count\")"
   ]
  },
  {
   "cell_type": "code",
   "execution_count": 45,
   "metadata": {},
   "outputs": [
    {
     "data": {
      "text/plain": [
       "<seaborn.axisgrid.FacetGrid at 0x18ac1cd9c50>"
      ]
     },
     "execution_count": 45,
     "metadata": {},
     "output_type": "execute_result"
    },
    {
     "data": {
      "image/png": "[encoded data removed]",
      "text/plain": [
       "<Figure size 438.3x360 with 1 Axes>"
      ]
     },
     "metadata": {},
     "output_type": "display_data"
    }
   ],
   "source": [
    "sns.catplot(x=\"FurLength\", hue=\"AdoptionSpeed\", data=dogs, kind=\"count\")"
   ]
  },
  {
   "cell_type": "code",
   "execution_count": 46,
   "metadata": {},
   "outputs": [
    {
     "data": {
      "text/plain": [
       "<seaborn.axisgrid.FacetGrid at 0x18ac2468630>"
      ]
     },
     "execution_count": 46,
     "metadata": {},
     "output_type": "execute_result"
    },
    {
     "data": {
      "image/png": "[encoded data removed]",
      "text/plain": [
       "<Figure size 438.3x360 with 1 Axes>"
      ]
     },
     "metadata": {},
     "output_type": "display_data"
    }
   ],
   "source": [
    "sns.catplot(x=\"Gender\", hue=\"AdoptionSpeed\", data=dogs, kind=\"count\")"
   ]
  },
  {
   "cell_type": "code",
   "execution_count": 47,
   "metadata": {},
   "outputs": [
    {
     "data": {
      "text/plain": [
       "<seaborn.axisgrid.FacetGrid at 0x18ac4b47710>"
      ]
     },
     "execution_count": 47,
     "metadata": {},
     "output_type": "execute_result"
    },
    {
     "data": {
      "image/png": "[encoded data removed]",
      "text/plain": [
       "<Figure size 405.725x360 with 1 Axes>"
      ]
     },
     "metadata": {},
     "output_type": "display_data"
    }
   ],
   "source": [
    "sns.catplot(x=\"AdoptionSpeed\", y=\"PhotoAmt\", hue=\"Type\", data=train, kind=\"bar\")"
   ]
  },
  {
   "cell_type": "code",
   "execution_count": null,
   "metadata": {},
   "outputs": [],
   "source": [
    "sns.catplot(x=\"MixedBreed\", hue=\"AdoptionSpeed\", data=dogs, kind=\"swarm\")"
   ]
  },
  {
   "cell_type": "code",
   "execution_count": 101,
   "metadata": {},
   "outputs": [
    {
     "name": "stdout",
     "output_type": "stream",
     "text": [
      "Most popular pet names and AdoptionSpeed\n",
      "Baby\n",
      "0     2\n",
      "1    11\n",
      "2    15\n",
      "3    11\n",
      "4    27\n",
      "Name: AdoptionSpeed, dtype: int64\n",
      "\n",
      "Lucky\n",
      "0     5\n",
      "1    14\n",
      "2    16\n",
      "3    12\n",
      "4    17\n",
      "Name: AdoptionSpeed, dtype: int64\n",
      "\n",
      "No Name\n",
      "0     3\n",
      "1    14\n",
      "2    11\n",
      "3     6\n",
      "4    20\n",
      "Name: AdoptionSpeed, dtype: int64\n",
      "\n",
      "Brownie\n",
      "0     1\n",
      "1    11\n",
      "2    14\n",
      "3    12\n",
      "4    16\n",
      "Name: AdoptionSpeed, dtype: int64\n",
      "\n",
      "Mimi\n",
      "0     3\n",
      "1    12\n",
      "2    13\n",
      "3     7\n",
      "4    17\n",
      "Name: AdoptionSpeed, dtype: int64\n",
      "\n"
     ]
    }
   ],
   "source": [
    "print('Most popular pet names and AdoptionSpeed')\n",
    "for n in train['Name'].value_counts().index[:5]:\n",
    "    print(n)\n",
    "    print(train.loc[train['Name'] == n, 'AdoptionSpeed'].value_counts().sort_index())\n",
    "    print('')"
   ]
  },
  {
   "cell_type": "code",
   "execution_count": 23,
   "metadata": {},
   "outputs": [],
   "source": []
  },
  {
   "cell_type": "code",
   "execution_count": 24,
   "metadata": {},
   "outputs": [
    {
     "data": {
      "text/plain": [
       "0        0\n",
       "1        0\n",
       "2        0\n",
       "3        0\n",
       "4        0\n",
       "5        0\n",
       "6        1\n",
       "7        0\n",
       "8        0\n",
       "9        0\n",
       "10       0\n",
       "11       0\n",
       "12       0\n",
       "13       0\n",
       "14       0\n",
       "15       1\n",
       "16       0\n",
       "17       1\n",
       "18       0\n",
       "19       0\n",
       "20       0\n",
       "21       0\n",
       "22       0\n",
       "23       1\n",
       "24       0\n",
       "25       1\n",
       "26       1\n",
       "27       0\n",
       "28       0\n",
       "29       0\n",
       "        ..\n",
       "14963    0\n",
       "14964    0\n",
       "14965    0\n",
       "14966    0\n",
       "14967    0\n",
       "14968    0\n",
       "14969    0\n",
       "14970    0\n",
       "14971    0\n",
       "14972    0\n",
       "14973    1\n",
       "14974    0\n",
       "14975    0\n",
       "14976    1\n",
       "14977    0\n",
       "14978    0\n",
       "14979    0\n",
       "14980    1\n",
       "14981    0\n",
       "14982    0\n",
       "14983    0\n",
       "14984    0\n",
       "14985    1\n",
       "14986    0\n",
       "14987    0\n",
       "14988    0\n",
       "14989    1\n",
       "14990    1\n",
       "14991    0\n",
       "14992    1\n",
       "Name: Mixed, Length: 14993, dtype: int64"
      ]
     },
     "execution_count": 24,
     "metadata": {},
     "output_type": "execute_result"
    }
   ],
   "source": [
    "train[\"Mixed\"]"
   ]
  },
  {
   "cell_type": "code",
   "execution_count": null,
   "metadata": {},
   "outputs": [],
   "source": []
  }
 ],
 "metadata": {
  "kernelspec": {
   "display_name": "Python 3",
   "language": "python",
   "name": "python3"
  },
  "language_info": {
   "codemirror_mode": {
    "name": "ipython",
    "version": 3
   },
   "file_extension": ".py",
   "mimetype": "text/x-python",
   "name": "python",
   "nbconvert_exporter": "python",
   "pygments_lexer": "ipython3",
   "version": "3.7.0"
  }
 },
 "nbformat": 4,
 "nbformat_minor": 2
}
